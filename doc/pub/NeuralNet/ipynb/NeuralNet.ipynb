{
 "cells": [
  {
   "cell_type": "markdown",
   "metadata": {},
   "source": [
    "<!-- dom:TITLE: Data Analysis and Machine Learning: Neural networks, from the simple perceptron to deep learning -->\n",
    "# Data Analysis and Machine Learning: Neural networks, from the simple perceptron to deep learning\n",
    "<!-- dom:AUTHOR: Morten Hjorth-Jensen at Department of Physics, University of Oslo & Department of Physics and Astronomy and National Superconducting Cyclotron Laboratory, Michigan State University -->\n",
    "<!-- Author: -->  \n",
    "**Morten Hjorth-Jensen**, Department of Physics, University of Oslo and Department of Physics and Astronomy and National Superconducting Cyclotron Laboratory, Michigan State University\n",
    "\n",
    "Date: **May 26, 2020**\n",
    "\n",
    "Copyright 1999-2020, Morten Hjorth-Jensen. Released under CC Attribution-NonCommercial 4.0 license\n",
    "\n",
    "\n",
    "\n",
    "\n",
    "## Neural networks\n",
    "\n",
    "Artificial neural networks are computational systems that can learn to\n",
    "perform tasks by considering examples, generally without being\n",
    "programmed with any task-specific rules. It is supposed to mimic a\n",
    "biological system, wherein neurons interact by sending signals in the\n",
    "form of mathematical functions between layers. All layers can contain\n",
    "an arbitrary number of neurons, and each connection is represented by\n",
    "a weight variable.\n",
    "\n",
    "\n",
    "## Artificial neurons\n",
    "\n",
    "The field of artificial neural networks has a long history of\n",
    "development, and is closely connected with the advancement of computer\n",
    "science and computers in general. A model of artificial neurons was\n",
    "first developed by McCulloch and Pitts in 1943 to study signal\n",
    "processing in the brain and has later been refined by others. The\n",
    "general idea is to mimic neural networks in the human brain, which is\n",
    "composed of billions of neurons that communicate with each other by\n",
    "sending electrical signals.  Each neuron accumulates its incoming\n",
    "signals, which must exceed an activation threshold to yield an\n",
    "output. If the threshold is not overcome, the neuron remains inactive,\n",
    "i.e. has zero output.\n",
    "\n",
    "This behaviour has inspired a simple mathematical model for an artificial neuron."
   ]
  },
  {
   "cell_type": "markdown",
   "metadata": {},
   "source": [
    "<!-- Equation labels as ordinary links -->\n",
    "<div id=\"artificialNeuron\"></div>\n",
    "\n",
    "$$\n",
    "\\begin{equation}\n",
    " y = f\\left(\\sum_{i=1}^n w_ix_i\\right) = f(u)\n",
    "\\label{artificialNeuron} \\tag{1}\n",
    "\\end{equation}\n",
    "$$"
   ]
  },
  {
   "cell_type": "markdown",
   "metadata": {},
   "source": [
    "Here, the output $y$ of the neuron is the value of its activation function, which have as input\n",
    "a weighted sum of signals $x_i, \\dots ,x_n$ received by $n$ other neurons.\n",
    "\n",
    "Conceptually, it is helpful to divide neural networks into four\n",
    "categories:\n",
    "1. general purpose neural networks for supervised learning,\n",
    "\n",
    "2. neural networks designed specifically for image processing, the most prominent example of this class being Convolutional Neural Networks (CNNs),\n",
    "\n",
    "3. neural networks for sequential data such as Recurrent Neural Networks (RNNs), and\n",
    "\n",
    "4. neural networks for unsupervised learning such as Deep Boltzmann Machines.\n",
    "\n",
    "In natural science, DNNs and CNNs have already found numerous\n",
    "applications. In statistical physics, they have been applied to detect\n",
    "phase transitions in 2D Ising and Potts models, lattice gauge\n",
    "theories, and different phases of polymers, or solving the\n",
    "Navier-Stokes equation in weather forecasting.  Deep learning has also\n",
    "found interesting applications in quantum physics. Various quantum\n",
    "phase transitions can be detected and studied using DNNs and CNNs,\n",
    "topological phases, and even non-equilibrium many-body\n",
    "localization. Representing quantum states as DNNs quantum state\n",
    "tomography are among some of the impressive achievements to reveal the\n",
    "potential of DNNs to facilitate the study of quantum systems.\n",
    "\n",
    "In quantum information theory, it has been shown that one can perform\n",
    "gate decompositions with the help of neural. \n",
    "\n",
    "The applications are not limited to the natural sciences. There is a\n",
    "plethora of applications in essentially all disciplines, from the\n",
    "humanities to life science and medicine.\n",
    "\n",
    "## Neural network types\n",
    "\n",
    "An artificial neural network (ANN), is a computational model that\n",
    "consists of layers of connected neurons, or nodes or units.  We will\n",
    "refer to these interchangeably as units or nodes, and sometimes as\n",
    "neurons.\n",
    "\n",
    "It is supposed to mimic a biological nervous system by letting each\n",
    "neuron interact with other neurons by sending signals in the form of\n",
    "mathematical functions between layers.  A wide variety of different\n",
    "ANNs have been developed, but most of them consist of an input layer,\n",
    "an output layer and eventual layers in-between, called *hidden\n",
    "layers*. All layers can contain an arbitrary number of nodes, and each\n",
    "connection between two nodes is associated with a weight variable.\n",
    "\n",
    "Neural networks (also called neural nets) are neural-inspired\n",
    "nonlinear models for supervised learning.  As we will see, neural nets\n",
    "can be viewed as natural, more powerful extensions of supervised\n",
    "learning methods such as linear and logistic regression and soft-max\n",
    "methods we discussed earlier.\n",
    "\n",
    "\n",
    "## Feed-forward neural networks\n",
    "\n",
    "The feed-forward neural network (FFNN) was the first and simplest type\n",
    "of ANNs that were devised. In this network, the information moves in\n",
    "only one direction: forward through the layers.\n",
    "\n",
    "Nodes are represented by circles, while the arrows display the\n",
    "connections between the nodes, including the direction of information\n",
    "flow. Additionally, each arrow corresponds to a weight variable\n",
    "(figure to come).  We observe that each node in a layer is connected\n",
    "to *all* nodes in the subsequent layer, making this a so-called\n",
    "*fully-connected* FFNN.\n",
    "\n",
    "\n",
    "\n",
    "## Convolutional Neural Network\n",
    "\n",
    "A different variant of FFNNs are *convolutional neural networks*\n",
    "(CNNs), which have a connectivity pattern inspired by the animal\n",
    "visual cortex. Individual neurons in the visual cortex only respond to\n",
    "stimuli from small sub-regions of the visual field, called a receptive\n",
    "field. This makes the neurons well-suited to exploit the strong\n",
    "spatially local correlation present in natural images. The response of\n",
    "each neuron can be approximated mathematically as a convolution\n",
    "operation.  (figure to come)\n",
    "\n",
    "Convolutional neural networks emulate the behaviour of neurons in the\n",
    "visual cortex by enforcing a *local* connectivity pattern between\n",
    "nodes of adjacent layers: Each node in a convolutional layer is\n",
    "connected only to a subset of the nodes in the previous layer, in\n",
    "contrast to the fully-connected FFNN.  Often, CNNs consist of several\n",
    "convolutional layers that learn local features of the input, with a\n",
    "fully-connected layer at the end, which gathers all the local data and\n",
    "produces the outputs. They have wide applications in image and video\n",
    "recognition.\n",
    "\n",
    "## Recurrent neural networks\n",
    "\n",
    "So far we have only mentioned ANNs where information flows in one\n",
    "direction: forward. *Recurrent neural networks* on the other hand,\n",
    "have connections between nodes that form directed *cycles*. This\n",
    "creates a form of internal memory which are able to capture\n",
    "information on what has been calculated before; the output is\n",
    "dependent on the previous computations. Recurrent NNs make use of\n",
    "sequential information by performing the same task for every element\n",
    "in a sequence, where each element depends on previous elements. An\n",
    "example of such information is sentences, making recurrent NNs\n",
    "especially well-suited for handwriting and speech recognition.\n",
    "\n",
    "## Other types of networks\n",
    "\n",
    "There are many other kinds of ANNs that have been developed. One type\n",
    "that is specifically designed for interpolation in multidimensional\n",
    "space is the radial basis function (RBF) network. RBFs are typically\n",
    "made up of three layers: an input layer, a hidden layer with\n",
    "non-linear radial symmetric activation functions and a linear output\n",
    "layer (''linear'' here means that each node in the output layer has a\n",
    "linear activation function). The layers are normally fully-connected\n",
    "and there are no cycles, thus RBFs can be viewed as a type of\n",
    "fully-connected FFNN. They are however usually treated as a separate\n",
    "type of NN due the unusual activation functions.\n",
    "\n",
    "## Multilayer perceptrons\n",
    "\n",
    "One uses often so-called fully-connected feed-forward neural networks\n",
    "with three or more layers (an input layer, one or more hidden layers\n",
    "and an output layer) consisting of neurons that have non-linear\n",
    "activation functions.\n",
    "\n",
    "Such networks are often called *multilayer perceptrons* (MLPs).\n",
    "\n",
    "## Why multilayer perceptrons?\n",
    "\n",
    "According to the *Universal approximation theorem*, a feed-forward\n",
    "neural network with just a single hidden layer containing a finite\n",
    "number of neurons can approximate a continuous multidimensional\n",
    "function to arbitrary accuracy, assuming the activation function for\n",
    "the hidden layer is a **non-constant, bounded and\n",
    "monotonically-increasing continuous function**.\n",
    "\n",
    "Note that the requirements on the activation function only applies to\n",
    "the hidden layer, the output nodes are always assumed to be linear, so\n",
    "as to not restrict the range of output values.\n",
    "\n",
    "\n",
    "## Mathematical model\n",
    "\n",
    "The output $y$ is produced via the activation function $f$"
   ]
  },
  {
   "cell_type": "markdown",
   "metadata": {},
   "source": [
    "$$\n",
    "y = f\\left(\\sum_{i=1}^n w_ix_i + b_i\\right) = f(z),\n",
    "$$"
   ]
  },
  {
   "cell_type": "markdown",
   "metadata": {},
   "source": [
    "This function receives $x_i$ as inputs.\n",
    "Here the activation $z=(\\sum_{i=1}^n w_ix_i+b_i)$. \n",
    "In an FFNN of such neurons, the *inputs* $x_i$ are the *outputs* of\n",
    "the neurons in the preceding layer. Furthermore, an MLP is\n",
    "fully-connected, which means that each neuron receives a weighted sum\n",
    "of the outputs of *all* neurons in the previous layer.\n",
    "\n",
    "## Mathematical model\n",
    "\n",
    "First, for each node $i$ in the first hidden layer, we calculate a weighted sum $z_i^1$ of the input coordinates $x_j$,"
   ]
  },
  {
   "cell_type": "markdown",
   "metadata": {},
   "source": [
    "<!-- Equation labels as ordinary links -->\n",
    "<div id=\"_auto1\"></div>\n",
    "\n",
    "$$\n",
    "\\begin{equation} z_i^1 = \\sum_{j=1}^{M} w_{ij}^1 x_j + b_i^1\n",
    "\\label{_auto1} \\tag{2}\n",
    "\\end{equation}\n",
    "$$"
   ]
  },
  {
   "cell_type": "markdown",
   "metadata": {},
   "source": [
    "Here $b_i$ is the so-called bias which is normally needed in\n",
    "case of zero activation weights or inputs. How to fix the biases and\n",
    "the weights will be discussed below.  The value of $z_i^1$ is the\n",
    "argument to the activation function $f_i$ of each node $i$, The\n",
    "variable $M$ stands for all possible inputs to a given node $i$ in the\n",
    "first layer.  We define  the output $y_i^1$ of all neurons in layer 1 as"
   ]
  },
  {
   "cell_type": "markdown",
   "metadata": {},
   "source": [
    "<!-- Equation labels as ordinary links -->\n",
    "<div id=\"outputLayer1\"></div>\n",
    "\n",
    "$$\n",
    "\\begin{equation}\n",
    " y_i^1 = f(z_i^1) = f\\left(\\sum_{j=1}^M w_{ij}^1 x_j  + b_i^1\\right)\n",
    "\\label{outputLayer1} \\tag{3}\n",
    "\\end{equation}\n",
    "$$"
   ]
  },
  {
   "cell_type": "markdown",
   "metadata": {},
   "source": [
    "where we assume that all nodes in the same layer have identical\n",
    "activation functions, hence the notation $f$. In general, we could assume in the more general case that different layers have different activation functions.\n",
    "In this case we would identify these functions with a superscript $l$ for the $l$-th layer,"
   ]
  },
  {
   "cell_type": "markdown",
   "metadata": {},
   "source": [
    "<!-- Equation labels as ordinary links -->\n",
    "<div id=\"generalLayer\"></div>\n",
    "\n",
    "$$\n",
    "\\begin{equation}\n",
    " y_i^l = f^l(u_i^l) = f^l\\left(\\sum_{j=1}^{N_{l-1}} w_{ij}^l y_j^{l-1} + b_i^l\\right)\n",
    "\\label{generalLayer} \\tag{4}\n",
    "\\end{equation}\n",
    "$$"
   ]
  },
  {
   "cell_type": "markdown",
   "metadata": {},
   "source": [
    "where $N_l$ is the number of nodes in layer $l$. When the output of\n",
    "all the nodes in the first hidden layer are computed, the values of\n",
    "the subsequent layer can be calculated and so forth until the output\n",
    "is obtained.\n",
    "\n",
    "\n",
    "\n",
    "## Mathematical model\n",
    "\n",
    "The output of neuron $i$ in layer 2 is thus,"
   ]
  },
  {
   "cell_type": "markdown",
   "metadata": {},
   "source": [
    "<!-- Equation labels as ordinary links -->\n",
    "<div id=\"_auto2\"></div>\n",
    "\n",
    "$$\n",
    "\\begin{equation}\n",
    " y_i^2 = f^2\\left(\\sum_{j=1}^N w_{ij}^2 y_j^1 + b_i^2\\right) \n",
    "\\label{_auto2} \\tag{5}\n",
    "\\end{equation}\n",
    "$$"
   ]
  },
  {
   "cell_type": "markdown",
   "metadata": {},
   "source": [
    "<!-- Equation labels as ordinary links -->\n",
    "<div id=\"outputLayer2\"></div>\n",
    "\n",
    "$$\n",
    "\\begin{equation} \n",
    " = f^2\\left[\\sum_{j=1}^N w_{ij}^2f^1\\left(\\sum_{k=1}^M w_{jk}^1 x_k + b_j^1\\right) + b_i^2\\right]\n",
    "\\label{outputLayer2} \\tag{6}\n",
    "\\end{equation}\n",
    "$$"
   ]
  },
  {
   "cell_type": "markdown",
   "metadata": {},
   "source": [
    "where we have substituted $y_k^1$ with the inputs $x_k$. Finally, the ANN output reads"
   ]
  },
  {
   "cell_type": "markdown",
   "metadata": {},
   "source": [
    "<!-- Equation labels as ordinary links -->\n",
    "<div id=\"_auto3\"></div>\n",
    "\n",
    "$$\n",
    "\\begin{equation}\n",
    " y_i^3 = f^3\\left(\\sum_{j=1}^N w_{ij}^3 y_j^2 + b_i^3\\right) \n",
    "\\label{_auto3} \\tag{7}\n",
    "\\end{equation}\n",
    "$$"
   ]
  },
  {
   "cell_type": "markdown",
   "metadata": {},
   "source": [
    "<!-- Equation labels as ordinary links -->\n",
    "<div id=\"_auto4\"></div>\n",
    "\n",
    "$$\n",
    "\\begin{equation} \n",
    " = f_3\\left[\\sum_{j} w_{ij}^3 f^2\\left(\\sum_{k} w_{jk}^2 f^1\\left(\\sum_{m} w_{km}^1 x_m + b_k^1\\right) + b_j^2\\right)\n",
    "  + b_1^3\\right]\n",
    "\\label{_auto4} \\tag{8}\n",
    "\\end{equation}\n",
    "$$"
   ]
  },
  {
   "cell_type": "markdown",
   "metadata": {},
   "source": [
    "## Mathematical model\n",
    "\n",
    "We can generalize this expression to an MLP with $l$ hidden\n",
    "layers. The complete functional form is,"
   ]
  },
  {
   "cell_type": "markdown",
   "metadata": {},
   "source": [
    "<!-- Equation labels as ordinary links -->\n",
    "<div id=\"completeNN\"></div>\n",
    "\n",
    "$$\n",
    "\\begin{equation}\n",
    "y^{l+1}_i = f^{l+1}\\left[\\!\\sum_{j=1}^{N_l} w_{ij}^3 f^l\\left(\\sum_{k=1}^{N_{l-1}}w_{jk}^{l-1}\\left(\\dots f^1\\left(\\sum_{n=1}^{N_0} w_{mn}^1 x_n+ b_m^1\\right)\\dots\\right)+b_k^2\\right)+b_1^3\\right] \n",
    "\\label{completeNN} \\tag{9}\n",
    "\\end{equation}\n",
    "$$"
   ]
  },
  {
   "cell_type": "markdown",
   "metadata": {},
   "source": [
    "which illustrates a basic property of MLPs: The only independent\n",
    "variables are the input values $x_n$.\n",
    "\n",
    "## Mathematical model\n",
    "\n",
    "This confirms that an MLP, despite its quite convoluted mathematical\n",
    "form, is nothing more than an analytic function, specifically a\n",
    "mapping of real-valued vectors $\\hat{x} \\in \\mathbb{R}^n \\rightarrow\n",
    "\\hat{y} \\in \\mathbb{R}^m$.\n",
    "\n",
    "Furthermore, the flexibility and universality of an MLP can be\n",
    "illustrated by realizing that the expression is essentially a nested\n",
    "sum of scaled activation functions of the form"
   ]
  },
  {
   "cell_type": "markdown",
   "metadata": {},
   "source": [
    "<!-- Equation labels as ordinary links -->\n",
    "<div id=\"_auto5\"></div>\n",
    "\n",
    "$$\n",
    "\\begin{equation}\n",
    " f(x) = c_1 f(c_2 x + c_3) + c_4\n",
    "\\label{_auto5} \\tag{10}\n",
    "\\end{equation}\n",
    "$$"
   ]
  },
  {
   "cell_type": "markdown",
   "metadata": {},
   "source": [
    "where the parameters $c_i$ are weights and biases. By adjusting these\n",
    "parameters, the activation functions can be shifted up and down or\n",
    "left and right, change slope or be rescaled which is the key to the\n",
    "flexibility of a neural network.\n",
    "\n",
    "### Matrix-vector notation\n",
    "\n",
    "We can introduce a more convenient notation for the activations in an A NN. \n",
    "\n",
    "Additionally, we can represent the biases and activations\n",
    "as layer-wise column vectors $\\hat{b}_l$ and $\\hat{y}_l$, so that the $i$-th element of each vector \n",
    "is the bias $b_i^l$ and activation $y_i^l$ of node $i$ in layer $l$ respectively. \n",
    "\n",
    "We have that $\\mathrm{W}_l$ is an $N_{l-1} \\times N_l$ matrix, while $\\hat{b}_l$ and $\\hat{y}_l$ are $N_l \\times 1$ column vectors. \n",
    "With this notation, the sum becomes a matrix-vector multiplication, and we can write\n",
    "the equation for the activations of hidden layer 2 (assuming three nodes for simplicity) as"
   ]
  },
  {
   "cell_type": "markdown",
   "metadata": {},
   "source": [
    "<!-- Equation labels as ordinary links -->\n",
    "<div id=\"_auto6\"></div>\n",
    "\n",
    "$$\n",
    "\\begin{equation}\n",
    " \\hat{y}_2 = f_2(\\mathrm{W}_2 \\hat{y}_{1} + \\hat{b}_{2}) = \n",
    " f_2\\left(\\left[\\begin{array}{ccc}\n",
    "    w^2_{11} &w^2_{12} &w^2_{13} \\\\\n",
    "    w^2_{21} &w^2_{22} &w^2_{23} \\\\\n",
    "    w^2_{31} &w^2_{32} &w^2_{33} \\\\\n",
    "    \\end{array} \\right] \\cdot\n",
    "    \\left[\\begin{array}{c}\n",
    "           y^1_1 \\\\\n",
    "           y^1_2 \\\\\n",
    "           y^1_3 \\\\\n",
    "          \\end{array}\\right] + \n",
    "    \\left[\\begin{array}{c}\n",
    "           b^2_1 \\\\\n",
    "           b^2_2 \\\\\n",
    "           b^2_3 \\\\\n",
    "          \\end{array}\\right]\\right).\n",
    "\\label{_auto6} \\tag{11}\n",
    "\\end{equation}\n",
    "$$"
   ]
  },
  {
   "cell_type": "markdown",
   "metadata": {},
   "source": [
    "### Matrix-vector notation  and activation\n",
    "\n",
    "The activation of node $i$ in layer 2 is"
   ]
  },
  {
   "cell_type": "markdown",
   "metadata": {},
   "source": [
    "<!-- Equation labels as ordinary links -->\n",
    "<div id=\"_auto7\"></div>\n",
    "\n",
    "$$\n",
    "\\begin{equation}\n",
    " y^2_i = f_2\\Bigr(w^2_{i1}y^1_1 + w^2_{i2}y^1_2 + w^2_{i3}y^1_3 + b^2_i\\Bigr) = \n",
    " f_2\\left(\\sum_{j=1}^3 w^2_{ij} y_j^1 + b^2_i\\right).\n",
    "\\label{_auto7} \\tag{12}\n",
    "\\end{equation}\n",
    "$$"
   ]
  },
  {
   "cell_type": "markdown",
   "metadata": {},
   "source": [
    "This is not just a convenient and compact notation, but also a useful\n",
    "and intuitive way to think about MLPs: The output is calculated by a\n",
    "series of matrix-vector multiplications and vector additions that are\n",
    "used as input to the activation functions. For each operation\n",
    "$\\mathrm{W}_l \\hat{y}_{l-1}$ we move forward one layer.\n",
    "\n",
    "\n",
    "### Activation functions\n",
    "\n",
    "A property that characterizes a neural network, other than its\n",
    "connectivity, is the choice of activation function(s).  As described\n",
    "in, the following restrictions are imposed on an activation function\n",
    "for a FFNN to fulfill the universal approximation theorem\n",
    "\n",
    "  * Non-constant\n",
    "\n",
    "  * Bounded\n",
    "\n",
    "  * Monotonically-increasing\n",
    "\n",
    "  * Continuous\n",
    "\n",
    "### Activation functions, Logistic and Hyperbolic ones\n",
    "\n",
    "The second requirement excludes all linear functions. Furthermore, in\n",
    "a MLP with only linear activation functions, each layer simply\n",
    "performs a linear transformation of its inputs.\n",
    "\n",
    "Regardless of the number of layers, the output of the NN will be\n",
    "nothing but a linear function of the inputs. Thus we need to introduce\n",
    "some kind of non-linearity to the NN to be able to fit non-linear\n",
    "functions Typical examples are the logistic *Sigmoid*"
   ]
  },
  {
   "cell_type": "markdown",
   "metadata": {},
   "source": [
    "$$\n",
    "f(x) = \\frac{1}{1 + e^{-x}},\n",
    "$$"
   ]
  },
  {
   "cell_type": "markdown",
   "metadata": {},
   "source": [
    "and the *hyperbolic tangent* function"
   ]
  },
  {
   "cell_type": "markdown",
   "metadata": {},
   "source": [
    "$$\n",
    "f(x) = \\tanh(x)\n",
    "$$"
   ]
  },
  {
   "cell_type": "markdown",
   "metadata": {},
   "source": [
    "### Relevance\n",
    "\n",
    "The *sigmoid* function are more biologically plausible because the\n",
    "output of inactive neurons are zero. Such activation function are\n",
    "called *one-sided*. However, it has been shown that the hyperbolic\n",
    "tangent performs better than the sigmoid for training MLPs.  has\n",
    "become the most popular for *deep neural networks*"
   ]
  },
  {
   "cell_type": "code",
   "execution_count": 1,
   "metadata": {},
<<<<<<< HEAD
   "outputs": [],
=======
   "outputs": [
    {
     "data": {
      "image/png": "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\n",
      "text/plain": [
       "<Figure size 432x288 with 1 Axes>"
      ]
     },
     "metadata": {
      "needs_background": "light"
     },
     "output_type": "display_data"
    },
    {
     "data": {
      "image/png": "iVBORw0KGgoAAAANSUhEUgAAAYIAAAEWCAYAAABrDZDcAAAABHNCSVQICAgIfAhkiAAAAAlwSFlzAAALEgAACxIB0t1+/AAAADh0RVh0U29mdHdhcmUAbWF0cGxvdGxpYiB2ZXJzaW9uMy4yLjEsIGh0dHA6Ly9tYXRwbG90bGliLm9yZy+j8jraAAAZwElEQVR4nO3dfZBddX3H8fcnS6JoohTTLOQBQiV1pJag2QYdaNlIQwNFUzu2hbaAD3SHjmm1LbW0dpSZPlFt1VqwcYdmBCvE2pKatpEQhVtqKZqAISSBhG1Es2w0JURhfWgM++0f52zudXN3czf3lz33eD6vmZ2955zfueeb32zu557feVJEYGZm1TWt6ALMzKxYDgIzs4pzEJiZVZyDwMys4hwEZmYV5yAwM6s4B4HZJEh6haQvS3pO0m9P4XbPkDQsqWuqtmnV4SCwHyqSbpT0DydwE+8GahExKyI+cqI2IulJST87Oh0RX4uImRHx/InaplWXg8Bscs4EdhRdhFlKDgIrJUl/IOmpfIhml6SLJa0A/gj4lXwY5ZG87Usl/b2kffk6fzo6xCLpLZL+S9LfSvqWpMclXTzONu8FlgE35+//45Jqkq5taPMWSV9omA5J10l6QtJBSbdIUsPy35D0WP7v2CnpNZI+AZwB/Gu+nXdLWpi/10n5enMlrZf0jKQBSb/R8J43SvpHSbfn77tDUk/K/rcfLg4CKx1JrwBWAT8VEbOAnwOejIi7gT8HPpUPoyzOV7kNOAycDbwauAS4tuEtzwf2ALOB9wF3STp17HYj4vXAfwKr8vff3WLJlwM/BSwGfjmvF0m/BNwIXA28BHgjcCAirgK+Brwh3877m7znncAgMBd4M/DnYwLsjcBa4BRgPXBzi7VaBTkIrIyeB14AnCNpekQ8GRH/06yhpG7gUuBdEfHtiNgPfAi4oqHZfuDDEfH9iPgUsAv4+YT13hQR34yIrwH3Aefl868F3h8RmyMzEBFfPdabSVoAXAj8QUR8LyK2ArcCVzU0+0JEbMiPKXyCLITMmnIQWOlExADwLrJv0/slrZU0d5zmZwLTgX2Svinpm8DHgDkNbZ6KH7z74lfJvmmn8vWG198BZuavFwBNA+wY5gLPRMRzDfO+CsybYJsvHB1WMhvLQWClFBF3RMSFZB/0Afzl6KIxTfcC/wfMjohT8p+XRMRPNLSZ1zhuTzY+P9RiKd8GXtQwfVrL/4istpePs2yi2wIPAadKmtUw7wzgqUls2+wIB4GVTn4u/+slvQD4HvBdsuEigG8ACyVNA4iIfcA9wF9LeomkaZJeLumihrecA/y2pOn5uP0rgQ0tlrMV+EVJL5J0NvD2SfxTbgWul7REmbMlndnw7/ixZitFxF7gAeAvJL1Q0rn5dj85iW2bHeEgsDJ6AXAT8DTZEMgcsrOFAD6d/z4g6eH89dXADGAncBD4J+D0hvf7IrAof78/A94cEQdarOVDwCGyD+7bmMSHcUR8Ot/eHcBzwL8Aowep/wL443w46/omq18JLCTbO1gHvC8iNrW6bbNG8oNprMokvQW4Nh9mMqsk7xGYmVVckiCQtEbSfknbx1nem1+sszX/eW/DshX5BUEDkm5IUY+ZmbUuydCQpJ8BhoHbI+JVTZb3AtdHxOVj5ncBu4HlZBfHbAaujIidbRdlZmYtSbJHEBH3A88cx6pLgYGI2BMRh8iuhFyZoiYzM2vNVF5g8rr83i9DZHsHO8gugNnb0GaQ7HL/o0jqA/oATj755CULFiw4weVObGRkhGnTfIgF3BeN3Bd17ou6TumL3bt3Px0RPzp2/lQFwcPAmRExLOkystPkFgFq0rbpWFVE9AP9AD09PbFly5YTVWtLarUavb29hdbQKdwXde6LOvdFXaf0haSmtzCZkoiKiGcjYjh/vQGYLmk22R5A41f7+bR+RaeZmSUwJUEg6bTRS/glLc23e4Ds4PAiSWdJmkF2I7D1U1GTmZllkgwNSboT6AVmSxoku5XvdICIWE12m9zflHSY7HYAV+Q3+TosaRWwEegC1uTHDszMbIokCYKIuPIYy29mnPuh50NFrd7XxczMEiv+MLaZmRXKQWBmVnEOAjOzinMQmJlVnIPAzKziHARmZhXnIDAzqzgHgZlZxTkIzMwqzkFgZlZxDgIzs4pzEJiZVZyDwMys4hwEZmYV5yAwM6s4B4GZWcU5CMzMKs5BYGZWcUmCQNIaSfslbR9n+a9J2pb/PCBpccOyJyU9KmmrpC0p6jEzs9al2iP4OLBiguVfAS6KiHOBPwH6xyxfFhHnRURPonrMzKxFqR5ef7+khRMsf6Bh8kFgfortmplZ+4o4RvB24LMN0wHcI+khSX0F1GNmVmmKiDRvlO0R/FtEvGqCNsuAjwIXRsSBfN7ciBiSNAfYBPxWRNzfZN0+oA+gu7t7ydq1a5PUfbyGh4eZOXNmoTV0CvdFnfuizn1R1yl9sWzZsoeaDcEnGRpqhaRzgVuBS0dDACAihvLf+yWtA5YCRwVBRPSTH1vo6emJ3t7eqSh7XLVajaJr6BTuizr3RZ37oq7T+2JKhoYknQHcBVwVEbsb5r9Y0qzR18AlQNMzj8zM7MRIskcg6U6gF5gtaRB4HzAdICJWA+8FXgZ8VBLA4Xz3pBtYl887CbgjIu5OUZOZmbUm1VlDVx5j+bXAtU3m7wEWH72GmZlNFV9ZbGZWcQ4CM7OKcxCYmVWcg8DMrOIcBGZmFecgMDOrOAeBmVnFOQjMzCrOQWBmVnEOAjOzinMQmJlVnIPAzKziHARmZhXnIDAzqzgHgZlZxTkIzMwqzkFgZlZxDgIzs4pzEJiZVVySIJC0RtJ+SdvHWS5JH5E0IGmbpNc0LFshaVe+7IYU9ZiZWeuSPLwe+DhwM3D7OMsvBRblP+cDfwecL6kLuAVYDgwCmyWtj4idieoym1IRwfe+/3zRZXSEQ8+7L0Z1Ql9I4y9LEgQRcb+khRM0WQncHhEBPCjpFEmnAwuBgYjYkxWqtXlbB4GV0u07D/HWjXcXXUbn2OS+OKLgvlg0Z+a4y1LtERzLPGBvw/RgPq/Z/PObvYGkPqAPoLu7m1qtdkIKbdXw8HDhNXQK90XdU89+n5e9cBrLzpiq/1qd69D/HWLGC2YUXUZH6IS+mDX9EJ8bZ9lU/bU22ymJCeYfPTOiH+gH6Onpid7e3mTFHY9arUbRNXQK90XdTV/6LC8/7RT+6m2vK7qUwvnvoq5T+uLGq5vPn6ogGAQWNEzPB4aAGePMNyulGO/rjVkHm6rTR9cDV+dnD70W+FZE7AM2A4sknSVpBnBF3taslAKY5iCwkkmyRyDpTqAXmC1pEHgfMB0gIlYDG4DLgAHgO8Bb82WHJa0CNgJdwJqI2JGiJrOiTJvo9AyzDpTqrKErj7E8gHeMs2wDWVCYld5ITHyanlkn8pXFZol5j8DKxkFgltBI03PezDqbg8AsoexgsfcIrFwcBGYphc8asvJxEJglNALIewRWMg4Cs8S8R2Bl4yAwSyg7WOwksHJxEJgl5j0CKxsHgVlCEeELyqx0HARmCY3g00etfBwEZimFg8DKx0FgltAI+FixlY6DwCwl7xFYCTkIzBLyc2msjBwEZgn5wTRWRg4Cs4QifIsJKx8HgVlCfjCNlZGDwCwxHyy2skkSBJJWSNolaUDSDU2W/76krfnPdknPSzo1X/akpEfzZVtS1GNWFB8stjJq+5nFkrqAW4DlwCCwWdL6iNg52iYiPgB8IG//BuB3IuKZhrdZFhFPt1uLWdHCp49aCaXYI1gKDETEnog4BKwFVk7Q/krgzgTbNes4gY8RWPm0vUcAzAP2NkwPAuc3ayjpRcAKYFXD7ADukRTAxyKif5x1+4A+gO7ubmq1WvuVt2F4eLjwGjqF+6JuZGSEr+/bR632zLEb/5Dz30Vdp/dFiiBo9v1nvEd4vwH4rzHDQhdExJCkOcAmSY9HxP1HvWEWEP0APT090dvb22bZ7anVahRdQ6dwXzS499+ZO28uvb0/WXQlhfPfRV2n90WKoaFBYEHD9HxgaJy2VzBmWCgihvLf+4F1ZENNZqUUfmaxlVCKINgMLJJ0lqQZZB/268c2kvRS4CLgMw3zXixp1uhr4BJge4KazAqRXVnsJLByaXtoKCIOS1oFbAS6gDURsUPSdfny1XnTNwH3RMS3G1bvBtblV2KeBNwREXe3W5NZUXz6qJVRimMERMQGYMOYeavHTH8c+PiYeXuAxSlqMOsEvsWElZGvLDZLyKePWhk5CMwS8gVlVkYOArOEfIzAyshBYJZQBEzz+aNWMg4Cs4R8jMDKyEFgllAEyINDVjIOArOE/KhKKyMHgVlCHhqyMnIQmCXk00etjBwEZgn59FErIweBWSIR2d3XfYsJKxsHgVkieQ54aMhKx0FglsjIkT2CggsxmyQHgVkio4/l8+mjVjYOArNERnyMwErKQWCWyOgxAueAlY2DwCyRI0HgE0itZBwEZomMDg35GIGVTZIgkLRC0i5JA5JuaLK8V9K3JG3Nf97b6rpmZVE/WOwksHJp+5nFkrqAW4DlwCCwWdL6iNg5pul/RsTlx7muWcfz6aNWVin2CJYCAxGxJyIOAWuBlVOwrllHqR8sdhJYubS9RwDMA/Y2TA8C5zdp9zpJjwBDwPURsWMS6yKpD+gD6O7uplartV95G4aHhwuvoVO4LzLDh7Ik+J+BAWqHv1pwNcXz30Vdp/dFiiBo9vUnxkw/DJwZEcOSLgP+BVjU4rrZzIh+oB+gp6cnent7j7vgFGq1GkXX0CncF5lnvn0I7t3Ejy86m94Lziq6nML576Ku0/sixdDQILCgYXo+2bf+IyLi2YgYzl9vAKZLmt3KumZlMXrTOT+z2MomRRBsBhZJOkvSDOAKYH1jA0mnKR84lbQ03+6BVtY1K4uRI9cRmJVL20NDEXFY0ipgI9AFrImIHZKuy5evBt4M/Kakw8B3gSsi+/rUdN12azIrQuBbTFg5pThGMDrcs2HMvNUNr28Gbm51XbMy8i0mrKx8ZbFZIn4egZWVg8AskSMXlBVch9lkOQjMEqnfa8hRYOXiIDBLxMcIrKwcBGaJ+BYTVlYOArNERk8f9fVkVjYOArNERjw0ZCXlIDBLJHyw2ErKQWCWyEjT2yWadT4HgVki3iOwsnIQmCXiR1VaWTkIzBLxoyqtrBwEZonU7zVUbB1mk+UgMEtkdI/AdxuysnEQmCXiPQIrKweBWSK+xYSVlYPALJH63UcLLsRskhwEZon49FErqyRBIGmFpF2SBiTd0GT5r0nalv88IGlxw7InJT0qaaukLSnqMSvCkYPFzgErmbafWSypC7gFWA4MApslrY+InQ3NvgJcFBEHJV0K9APnNyxfFhFPt1uLWZH8qEorqxR7BEuBgYjYExGHgLXAysYGEfFARBzMJx8E5ifYrllHCT+q0kqq7T0CYB6wt2F6kB/8tj/W24HPNkwHcI+kAD4WEf3NVpLUB/QBdHd3U6vV2qm5bcPDw4XX0CncF5ndB58H4NFt2xgZ6iq4muL576Ku0/siRRA0+wLU9D6MkpaRBcGFDbMviIghSXOATZIej4j7j3rDLCD6AXp6eqK3t7ftwttRq9UouoZO4b7InLznAHzxQc47bzEXnD276HIK57+Luk7vixRDQ4PAgobp+cDQ2EaSzgVuBVZGxIHR+RExlP/eD6wjG2oyKx0/mMbKKkUQbAYWSTpL0gzgCmB9YwNJZwB3AVdFxO6G+S+WNGv0NXAJsD1BTWZTrv6oSieBlUvbQ0MRcVjSKmAj0AWsiYgdkq7Ll68G3gu8DPhoftXl4YjoAbqBdfm8k4A7IuLudmsyK4LPHrWySnGMgIjYAGwYM291w+trgWubrLcHWDx2vlkZHTl91JcWW8n4ymKzREZ8+qiVlIPALJEjN6H2MQIrGQeBWSJ+QpmVlYPALBE/vN7KykFglogfTGNl5SAwS+TIBWU+XGwl4yAwSyR8jMBKykFglohvMWFl5SAwS8QHi62sHARmidSvIyi0DLNJcxCYJTLiPQIrKQeBWSI+fdTKykFglsiRh9f79FErGQeBWWLeI7CycRCYJVK/15CTwMrFQWCWyMhI9tt7BFY2DgKzREaPEPisISsbB4FZIvWDxWblkiQIJK2QtEvSgKQbmiyXpI/ky7dJek2r65qVhh9VaSXVdhBI6gJuAS4FzgGulHTOmGaXAovynz7g7yaxrlkp+FGVVlYpHl6/FBjIH0SPpLXASmBnQ5uVwO2R3YzlQUmnSDodWNjCukd59rvf554dX09Q+vHb/o3DHCq4hk7hvsjsGHoW8DECK58UQTAP2NswPQic30KbeS2uC4CkPrK9CWacdjZ9n3iovapT+HIH1NAp3BcATFPw8Jf+mxdNdxgMDw9Tq9WKLqMjdHpfpAiCZn/xY4+ajdemlXWzmRH9QD/ATyx+dXzqty6cTI3JPfTQFpYs6Sm0hk7hvqjbte0hLlu+rOgyOkKtVqO3t7foMjpCp/dFiiAYBBY0TM8HhlpsM6OFdY9y8vQuXjXvpcdVbCpPP1F8DZ3CfVH39BM+Ec/KJ8Vf7WZgkaSzJM0ArgDWj2mzHrg6P3votcC3ImJfi+uamdkJ1PYeQUQclrQK2Ah0AWsiYoek6/Llq4ENwGXAAPAd4K0TrdtuTWZm1roUQ0NExAayD/vGeasbXgfwjlbXNTOzqeMBTTOzinMQmJlVnIPAzKziHARmZhXnIDAzqzgHgZlZxTkIzMwqzkFgZlZxDgIzs4pzEJiZVZyDwMys4hwEZmYV5yAwM6s4B4GZWcU5CMzMKs5BYGZWcQ4CM7OKcxCYmVVcW0Eg6VRJmyQ9kf/+kSZtFki6T9JjknZIemfDshslPSVpa/5zWTv1mJnZ5LW7R3AD8PmIWAR8Pp8e6zDwexHxSuC1wDskndOw/EMRcV7+42cXm5lNsXaDYCVwW/76NuAXxjaIiH0R8XD++jngMWBem9s1M7NE2g2C7ojYB9kHPjBnosaSFgKvBr7YMHuVpG2S1jQbWjIzsxNLETFxA+lzwGlNFr0HuC0iTmloezAimn6YS5oJ/AfwZxFxVz6vG3gaCOBPgNMj4m3jrN8H9AF0d3cvWbt27TH+aSfW8PAwM2fOLLSGTuG+qHNf1Lkv6jqlL5YtW/ZQRPQctSAijvsH2EX24Q1wOrBrnHbTgY3A707wXguB7a1sd8mSJVG0++67r+gSOob7os59Uee+qOuUvgC2RJPP1HaHhtYD1+SvrwE+M7aBJAF/DzwWER8cs+z0hsk3AdvbrMfMzCap3SC4CVgu6QlgeT6NpLmSRs8AugC4Cnh9k9NE3y/pUUnbgGXA77RZj5mZTdJJ7awcEQeAi5vMHwIuy19/AdA461/VzvbNzKx9vrLYzKziHARmZhXnIDAzqzgHgZlZxTkIzMwqzkFgZlZxDgIzs4pzEJiZVZyDwMys4hwEZmYV5yAwM6s4B4GZWcU5CMzMKs5BYGZWcQ4CM7OKcxCYmVWcg8DMrOIcBGZmFecgMDOruLaCQNKpkjZJeiL//SPjtHsyf0j9VklbJru+mZmdOO3uEdwAfD4iFgGfz6fHsywizouInuNc38zMToB2g2AlcFv++jbgF6Z4fTMza5Mi4vhXlr4ZEac0TB+MiKOGdyR9BTgIBPCxiOifzPr5sj6gL598BbDruAtPYzbwdME1dAr3RZ37os59UdcpfXFmRPzo2JknHWstSZ8DTmuy6D2T2PgFETEkaQ6wSdLjEXH/JNYnD4/+yaxzIknaMmaYq7LcF3Xuizr3RV2n98UxgyAifna8ZZK+Ien0iNgn6XRg/zjvMZT/3i9pHbAUuB9oaX0zMztx2j1GsB64Jn99DfCZsQ0kvVjSrNHXwCXA9lbXNzOzE6vdILgJWC7pCWB5Po2kuZI25G26gS9IegT4EvDvEXH3ROuXRMcMU3UA90Wd+6LOfVHX0X3R1sFiMzMrP19ZbGZWcQ4CM7OKcxAkIOl6SSFpdtG1FEXSByQ9LmmbpHWSTjn2Wj9cJK2QtEvSgKTKXiUvaYGk+yQ9JmmHpHcWXVPRJHVJ+rKkfyu6lmYcBG2StIDsQPfXiq6lYJuAV0XEucBu4A8LrmdKSeoCbgEuBc4BrpR0TrFVFeYw8HsR8UrgtcA7KtwXo94JPFZ0EeNxELTvQ8C7ya6arqyIuCciDueTDwLzi6ynAEuBgYjYExGHgLVkt1CpnIjYFxEP56+fI/sAnFdsVcWRNB/4eeDWomsZj4OgDZLeCDwVEY8UXUuHeRvw2aKLmGLzgL0N04NU+MNvlKSFwKuBLxZbSaE+TPZlcaToQsZzzCuLq+4Yt9j4I7IL5Cphor6IiM/kbd5DNjTwyamsrQOoybxK7yVKmgn8M/CuiHi26HqKIOlyYH9EPCSpt+h6xuMgOIbxbrEh6SeBs4BHJEE2FPKwpKUR8fUpLHHKTHS7EQBJ1wCXAxdH9S5QGQQWNEzPB4YKqqVwkqaThcAnI+Kuousp0AXAGyVdBrwQeImkf4iIXy+4rh/gC8oSkfQk0BMRnXCHwSknaQXwQeCiiPjfouuZapJOIjtIfjHwFLAZ+NWI2FFoYQVQ9s3oNuCZiHhX0fV0inyP4PqIuLzoWsbyMQJL5WZgFtndZbdKWl10QVMpP1C+CthIdnD0H6sYArkLgKuA1+d/C1vzb8TWobxHYGZWcd4jMDOrOAeBmVnFOQjMzCrOQWBmVnEOAjOzinMQmJlVnIPAzKziHARmCUi6ruHiqa9Iuq/omsxa5QvKzBLK77FzL/D+iPjXousxa4X3CMzS+hvgXoeAlYnvPmqWiKS3AGeS3XPIrDQ8NGSWgKQlZHfc/OmIOFh0PWaT4aEhszRWAacC9+UHjDv2sYRmY3mPwMys4rxHYGZWcQ4CM7OKcxCYmVWcg8DMrOIcBGZmFecgMDOrOAeBmVnF/T/SYBgXLr/wKAAAAABJRU5ErkJggg==\n",
      "text/plain": [
       "<Figure size 432x288 with 1 Axes>"
      ]
     },
     "metadata": {
      "needs_background": "light"
     },
     "output_type": "display_data"
    },
    {
     "data": {
      "image/png": "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\n",
      "text/plain": [
       "<Figure size 432x288 with 1 Axes>"
      ]
     },
     "metadata": {
      "needs_background": "light"
     },
     "output_type": "display_data"
    },
    {
     "data": {
      "image/png": "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\n",
      "text/plain": [
       "<Figure size 432x288 with 1 Axes>"
      ]
     },
     "metadata": {
      "needs_background": "light"
     },
     "output_type": "display_data"
    }
   ],
>>>>>>> 7f790b9c98417fd05925e72758b52f6a10263f13
   "source": [
    "%matplotlib inline\n",
    "\n",
    "\"\"\"The sigmoid function (or the logistic curve) is a \n",
    "function that takes any real number, z, and outputs a number (0,1).\n",
    "It is useful in neural networks for assigning weights on a relative scale.\n",
    "The value z is the weighted sum of parameters involved in the learning algorithm.\"\"\"\n",
    "\n",
    "import numpy\n",
    "import matplotlib.pyplot as plt\n",
    "import math as mt\n",
    "\n",
    "z = numpy.arange(-5, 5, .1)\n",
    "sigma_fn = numpy.vectorize(lambda z: 1/(1+numpy.exp(-z)))\n",
    "sigma = sigma_fn(z)\n",
    "\n",
    "fig = plt.figure()\n",
    "ax = fig.add_subplot(111)\n",
    "ax.plot(z, sigma)\n",
    "ax.set_ylim([-0.1, 1.1])\n",
    "ax.set_xlim([-5,5])\n",
    "ax.grid(True)\n",
    "ax.set_xlabel('z')\n",
    "ax.set_title('sigmoid function')\n",
    "\n",
    "plt.show()\n",
    "\n",
    "\"\"\"Step Function\"\"\"\n",
    "z = numpy.arange(-5, 5, .02)\n",
    "step_fn = numpy.vectorize(lambda z: 1.0 if z >= 0.0 else 0.0)\n",
    "step = step_fn(z)\n",
    "\n",
    "fig = plt.figure()\n",
    "ax = fig.add_subplot(111)\n",
    "ax.plot(z, step)\n",
    "ax.set_ylim([-0.5, 1.5])\n",
    "ax.set_xlim([-5,5])\n",
    "ax.grid(True)\n",
    "ax.set_xlabel('z')\n",
    "ax.set_title('step function')\n",
    "\n",
    "plt.show()\n",
    "\n",
    "\"\"\"Sine Function\"\"\"\n",
    "z = numpy.arange(-2*mt.pi, 2*mt.pi, 0.1)\n",
    "t = numpy.sin(z)\n",
    "\n",
    "fig = plt.figure()\n",
    "ax = fig.add_subplot(111)\n",
    "ax.plot(z, t)\n",
    "ax.set_ylim([-1.0, 1.0])\n",
    "ax.set_xlim([-2*mt.pi,2*mt.pi])\n",
    "ax.grid(True)\n",
    "ax.set_xlabel('z')\n",
    "ax.set_title('sine function')\n",
    "\n",
    "plt.show()\n",
    "\n",
    "\"\"\"Plots a graph of the squashing function used by a rectified linear\n",
    "unit\"\"\"\n",
    "z = numpy.arange(-2, 2, .1)\n",
    "zero = numpy.zeros(len(z))\n",
    "y = numpy.max([zero, z], axis=0)\n",
    "\n",
    "fig = plt.figure()\n",
    "ax = fig.add_subplot(111)\n",
    "ax.plot(z, y)\n",
    "ax.set_ylim([-2.0, 2.0])\n",
    "ax.set_xlim([-2.0, 2.0])\n",
    "ax.grid(True)\n",
    "ax.set_xlabel('z')\n",
    "ax.set_title('Rectified linear unit')\n",
    "\n",
    "plt.show()"
   ]
  },
  {
   "cell_type": "markdown",
   "metadata": {},
   "source": [
    "## The multilayer  perceptron (MLP)\n",
    "\n",
    "The multilayer perceptron is a very popular, and easy to implement approach, to deep learning. It consists of\n",
    "1. A neural network with one or more layers of nodes between the input and the output nodes.\n",
    "\n",
    "2. The multilayer network structure, or architecture, or topology, consists of an input layer, one or more hidden layers, and one output layer.\n",
    "\n",
    "3. The input nodes pass values to the first hidden layer, its nodes pass the information on to the second and so on till we reach the output layer.\n",
    "\n",
    "As a convention it is normal to call  a  network with one layer of input units, one layer of hidden\n",
    "units and one layer of output units as  a two-layer network. A network with two layers of hidden units is called a three-layer network etc etc.\n",
    "\n",
    "For an MLP network there is no direct connection between the output nodes/neurons/units and  the input nodes/neurons/units.\n",
    "Hereafter we will call the various entities of a layer for nodes.\n",
    "There are also no connections within a single layer.\n",
    "\n",
    "The number of input nodes does not need to equal the number of output\n",
    "nodes. This applies also to the hidden layers. Each layer may have its\n",
    "own number of nodes and activation functions.\n",
    "\n",
    "The hidden layers have their name from the fact that they are not\n",
    "linked to observables and as we will see below when we define the\n",
    "so-called activation $\\hat{z}$, we can think of this as a basis\n",
    "expansion of the original inputs $\\hat{x}$. The difference however\n",
    "between neural networks and say linear regression is that now these\n",
    "basis functions (which will correspond to the weights in the network)\n",
    "are learned from data. This results in  an important difference between\n",
    "neural networks and deep learning approaches on one side and methods\n",
    "like logistic regression or linear regression and their modifications on the other side.\n",
    "\n",
    "\n",
    "## From one to many layers, the universal approximation theorem\n",
    "\n",
    "\n",
    "A neural network with only one layer, what we called the simple\n",
    "perceptron, is best suited if we have a standard binary model with\n",
    "clear (linear) boundaries between the outcomes. As such it could\n",
    "equally well be replaced by standard linear regression or logistic\n",
    "regression. Networks with one or more hidden layers approximate\n",
    "systems with more complex boundaries.\n",
    "\n",
    "As stated earlier, \n",
    "an important theorem in studies of neural networks, restated without\n",
    "proof here, is the [universal approximation\n",
    "theorem](http://citeseerx.ist.psu.edu/viewdoc/download?doi=10.1.1.441.7873&rep=rep1&type=pdf).\n",
    "\n",
    "It states that a feed-forward network with a single hidden layer\n",
    "containing a finite number of neurons can approximate continuous\n",
    "functions on compact subsets of real functions. The theorem thus\n",
    "states that simple neural networks can represent a wide variety of\n",
    "interesting functions when given appropriate parameters. It is the\n",
    "multilayer feedforward architecture itself which gives neural networks\n",
    "the potential of being universal approximators.\n",
    "\n",
    "\n",
    "## Deriving the back propagation code for a multilayer perceptron model\n",
    "\n",
    "\n",
    "**Note: figures will be inserted later!**\n",
    "\n",
    "As we have seen now in a feed forward network, we can express the final output of our network in terms of basic matrix-vector multiplications.\n",
    "The unknowwn quantities are our weights $w_{ij}$ and we need to find an algorithm for changing them so that our errors are as small as possible.\n",
    "This leads us to the famous [back propagation algorithm](https://www.nature.com/articles/323533a0).\n",
    "\n",
    "The questions we want to ask are how do changes in the biases and the\n",
    "weights in our network change the cost function and how can we use the\n",
    "final output to modify the weights?\n",
    "\n",
    "To derive these equations let us start with a plain regression problem\n",
    "and define our cost function as"
   ]
  },
  {
   "cell_type": "markdown",
   "metadata": {},
   "source": [
    "$$\n",
    "{\\cal C}(\\hat{W})  =  \\frac{1}{2}\\sum_{i=1}^n\\left(y_i - t_i\\right)^2,\n",
    "$$"
   ]
  },
  {
   "cell_type": "markdown",
   "metadata": {},
   "source": [
    "where the $t_i$s are our $n$ targets (the values we want to\n",
    "reproduce), while the outputs of the network after having propagated\n",
    "all inputs $\\hat{x}$ are given by $y_i$.  Below we will demonstrate\n",
    "how the basic equations arising from the back propagation algorithm\n",
    "can be modified in order to study classification problems with $K$\n",
    "classes.\n",
    "\n",
    "## Definitions\n",
    "\n",
    "With our definition of the targets $\\hat{t}$, the outputs of the\n",
    "network $\\hat{y}$ and the inputs $\\hat{x}$ we\n",
    "define now the activation $z_j^l$ of node/neuron/unit $j$ of the\n",
    "$l$-th layer as a function of the bias, the weights which add up from\n",
    "the previous layer $l-1$ and the forward passes/outputs\n",
    "$\\hat{a}^{l-1}$ from the previous layer as"
   ]
  },
  {
   "cell_type": "markdown",
   "metadata": {},
   "source": [
    "$$\n",
    "z_j^l = \\sum_{i=1}^{M_{l-1}}w_{ij}^la_i^{l-1}+b_j^l,\n",
    "$$"
   ]
  },
  {
   "cell_type": "markdown",
   "metadata": {},
   "source": [
    "where $b_k^l$ are the biases from layer $l$.  Here $M_{l-1}$\n",
    "represents the total number of nodes/neurons/units of layer $l-1$. The\n",
    "figure here illustrates this equation.  We can rewrite this in a more\n",
    "compact form as the matrix-vector products we discussed earlier,"
   ]
  },
  {
   "cell_type": "markdown",
   "metadata": {},
   "source": [
    "$$\n",
    "\\hat{z}^l = \\left(\\hat{W}^l\\right)^T\\hat{a}^{l-1}+\\hat{b}^l.\n",
    "$$"
   ]
  },
  {
   "cell_type": "markdown",
   "metadata": {},
   "source": [
    "With the activation values $\\hat{z}^l$ we can in turn define the\n",
    "output of layer $l$ as $\\hat{a}^l = f(\\hat{z}^l)$ where $f$ is our\n",
    "activation function. In the examples here we will use the sigmoid\n",
    "function discussed in our logistic regression lectures. We will also use the same activation function $f$ for all layers\n",
    "and their nodes.  It means we have"
   ]
  },
  {
   "cell_type": "markdown",
   "metadata": {},
   "source": [
    "$$\n",
    "a_j^l = f(z_j^l) = \\frac{1}{1+\\exp{-(z_j^l)}}.\n",
    "$$"
   ]
  },
  {
   "cell_type": "markdown",
   "metadata": {},
   "source": [
    "## Derivatives and the chain rule\n",
    "\n",
    "From the definition of the activation $z_j^l$ we have"
   ]
  },
  {
   "cell_type": "markdown",
   "metadata": {},
   "source": [
    "$$\n",
    "\\frac{\\partial z_j^l}{\\partial w_{ij}^l} = a_i^{l-1},\n",
    "$$"
   ]
  },
  {
   "cell_type": "markdown",
   "metadata": {},
   "source": [
    "and"
   ]
  },
  {
   "cell_type": "markdown",
   "metadata": {},
   "source": [
    "$$\n",
    "\\frac{\\partial z_j^l}{\\partial a_i^{l-1}} = w_{ji}^l.\n",
    "$$"
   ]
  },
  {
   "cell_type": "markdown",
   "metadata": {},
   "source": [
    "With our definition of the activation function we have that (note that this function depends only on $z_j^l$)"
   ]
  },
  {
   "cell_type": "markdown",
   "metadata": {},
   "source": [
    "$$\n",
    "\\frac{\\partial a_j^l}{\\partial z_j^{l}} = a_j^l(1-a_j^l)=f(z_j^l)(1-f(z_j^l)).\n",
    "$$"
   ]
  },
  {
   "cell_type": "markdown",
   "metadata": {},
   "source": [
    "## Derivative of the cost function\n",
    "\n",
    "With these definitions we can now compute the derivative of the cost function in terms of the weights.\n",
    "\n",
    "Let us specialize to the output layer $l=L$. Our cost function is"
   ]
  },
  {
   "cell_type": "markdown",
   "metadata": {},
   "source": [
    "$$\n",
    "{\\cal C}(\\hat{W^L})  =  \\frac{1}{2}\\sum_{i=1}^n\\left(y_i - t_i\\right)^2=\\frac{1}{2}\\sum_{i=1}^n\\left(a_i^L - t_i\\right)^2,\n",
    "$$"
   ]
  },
  {
   "cell_type": "markdown",
   "metadata": {},
   "source": [
    "The derivative of this function with respect to the weights is"
   ]
  },
  {
   "cell_type": "markdown",
   "metadata": {},
   "source": [
    "$$\n",
    "\\frac{\\partial{\\cal C}(\\hat{W^L})}{\\partial w_{jk}^L}  =  \\left(a_j^L - t_j\\right)\\frac{\\partial a_j^L}{\\partial w_{jk}^{L}},\n",
    "$$"
   ]
  },
  {
   "cell_type": "markdown",
   "metadata": {},
   "source": [
    "The last partial derivative can easily be computed and reads (by applying the chain rule)"
   ]
  },
  {
   "cell_type": "markdown",
   "metadata": {},
   "source": [
    "$$\n",
    "\\frac{\\partial a_j^L}{\\partial w_{jk}^{L}} = \\frac{\\partial a_j^L}{\\partial z_{j}^{L}}\\frac{\\partial z_j^L}{\\partial w_{jk}^{L}}=a_j^L(1-a_j^L)a_k^{L-1},\n",
    "$$"
   ]
  },
  {
   "cell_type": "markdown",
   "metadata": {},
   "source": [
    "## Bringing it together, first back propagation equation\n",
    "\n",
    "We have thus"
   ]
  },
  {
   "cell_type": "markdown",
   "metadata": {},
   "source": [
    "$$\n",
    "\\frac{\\partial{\\cal C}(\\hat{W^L})}{\\partial w_{jk}^L}  =  \\left(a_j^L - t_j\\right)a_j^L(1-a_j^L)a_k^{L-1},\n",
    "$$"
   ]
  },
  {
   "cell_type": "markdown",
   "metadata": {},
   "source": [
    "Defining"
   ]
  },
  {
   "cell_type": "markdown",
   "metadata": {},
   "source": [
    "$$\n",
    "\\delta_j^L = a_j^L(1-a_j^L)\\left(a_j^L - t_j\\right) = f'(z_j^L)\\frac{\\partial {\\cal C}}{\\partial (a_j^L)},\n",
    "$$"
   ]
  },
  {
   "cell_type": "markdown",
   "metadata": {},
   "source": [
    "and using the Hadamard product of two vectors we can write this as"
   ]
  },
  {
   "cell_type": "markdown",
   "metadata": {},
   "source": [
    "$$\n",
    "\\hat{\\delta}^L = f'(\\hat{z}^L)\\circ\\frac{\\partial {\\cal C}}{\\partial (\\hat{a}^L)}.\n",
    "$$"
   ]
  },
  {
   "cell_type": "markdown",
   "metadata": {},
   "source": [
    "This is an important expression. The second term on the right handside\n",
    "measures how fast the cost function is changing as a function of the $j$th\n",
    "output activation.  If, for example, the cost function doesn't depend\n",
    "much on a particular output node $j$, then $\\delta_j^L$ will be small,\n",
    "which is what we would expect. The first term on the right, measures\n",
    "how fast the activation function $f$ is changing at a given activation\n",
    "value $z_j^L$.\n",
    "\n",
    "Notice that everything in the above equations is easily computed.  In\n",
    "particular, we compute $z_j^L$ while computing the behaviour of the\n",
    "network, and it is only a small additional overhead to compute\n",
    "$f'(z^L_j)$.  The exact form of the derivative with respect to the\n",
    "output depends on the form of the cost function.\n",
    "However, provided the cost function is known there should be little\n",
    "trouble in calculating"
   ]
  },
  {
   "cell_type": "markdown",
   "metadata": {},
   "source": [
    "$$\n",
    "\\frac{\\partial {\\cal C}}{\\partial (a_j^L)}\n",
    "$$"
   ]
  },
  {
   "cell_type": "markdown",
   "metadata": {},
   "source": [
    "With the definition of $\\delta_j^L$ we have a more compact definition of the derivative of the cost function in terms of the weights, namely"
   ]
  },
  {
   "cell_type": "markdown",
   "metadata": {},
   "source": [
    "$$\n",
    "\\frac{\\partial{\\cal C}(\\hat{W^L})}{\\partial w_{jk}^L}  =  \\delta_j^La_k^{L-1}.\n",
    "$$"
   ]
  },
  {
   "cell_type": "markdown",
   "metadata": {},
   "source": [
    "## Derivatives in terms of $z_j^L$\n",
    "\n",
    "It is also easy to see that our previous equation can be written as"
   ]
  },
  {
   "cell_type": "markdown",
   "metadata": {},
   "source": [
    "$$\n",
    "\\delta_j^L =\\frac{\\partial {\\cal C}}{\\partial z_j^L}= \\frac{\\partial {\\cal C}}{\\partial a_j^L}\\frac{\\partial a_j^L}{\\partial z_j^L},\n",
    "$$"
   ]
  },
  {
   "cell_type": "markdown",
   "metadata": {},
   "source": [
    "which can also be interpreted as the partial derivative of the cost function with respect to the biases $b_j^L$, namely"
   ]
  },
  {
   "cell_type": "markdown",
   "metadata": {},
   "source": [
    "$$\n",
    "\\delta_j^L = \\frac{\\partial {\\cal C}}{\\partial b_j^L}\\frac{\\partial b_j^L}{\\partial z_j^L}=\\frac{\\partial {\\cal C}}{\\partial b_j^L},\n",
    "$$"
   ]
  },
  {
   "cell_type": "markdown",
   "metadata": {},
   "source": [
    "That is, the error $\\delta_j^L$ is exactly equal to the rate of change of the cost function as a function of the bias. \n",
    "## Bringing it together\n",
    "\n",
    "We have now three equations that are essential for the computations of the derivatives of the cost function at the output layer. These equations are needed to start the algorithm and they are\n",
    "\n",
    "**The starting equations.**"
   ]
  },
  {
   "cell_type": "markdown",
   "metadata": {},
   "source": [
    "<!-- Equation labels as ordinary links -->\n",
    "<div id=\"_auto8\"></div>\n",
    "\n",
    "$$\n",
    "\\begin{equation}\n",
    "\\frac{\\partial{\\cal C}(\\hat{W^L})}{\\partial w_{jk}^L}  =  \\delta_j^La_k^{L-1},\n",
    "\\label{_auto8} \\tag{13}\n",
    "\\end{equation}\n",
    "$$"
   ]
  },
  {
   "cell_type": "markdown",
   "metadata": {},
   "source": [
    "and"
   ]
  },
  {
   "cell_type": "markdown",
   "metadata": {},
   "source": [
    "<!-- Equation labels as ordinary links -->\n",
    "<div id=\"_auto9\"></div>\n",
    "\n",
    "$$\n",
    "\\begin{equation}\n",
    "\\delta_j^L = f'(z_j^L)\\frac{\\partial {\\cal C}}{\\partial (a_j^L)},\n",
    "\\label{_auto9} \\tag{14}\n",
    "\\end{equation}\n",
    "$$"
   ]
  },
  {
   "cell_type": "markdown",
   "metadata": {},
   "source": [
    "and"
   ]
  },
  {
   "cell_type": "markdown",
   "metadata": {},
   "source": [
    "<!-- Equation labels as ordinary links -->\n",
    "<div id=\"_auto10\"></div>\n",
    "\n",
    "$$\n",
    "\\begin{equation}\n",
    "\\delta_j^L = \\frac{\\partial {\\cal C}}{\\partial b_j^L},\n",
    "\\label{_auto10} \\tag{15}\n",
    "\\end{equation}\n",
    "$$"
   ]
  },
  {
   "cell_type": "markdown",
   "metadata": {},
   "source": [
    "An interesting consequence of the above equations is that when the\n",
    "activation $a_k^{L-1}$ is small, the gradient term, that is the\n",
    "derivative of the cost function with respect to the weights, will also\n",
    "tend to be small. We say then that the weight learns slowly, meaning\n",
    "that it changes slowly when we minimize the weights via say gradient\n",
    "descent. In this case we say the system learns slowly.\n",
    "\n",
    "Another interesting feature is that is when the activation function,\n",
    "represented by the sigmoid function here, is rather flat when we move towards\n",
    "its end values $0$ and $1$ (see the above Python codes). In these\n",
    "cases, the derivatives of the activation function will also be close\n",
    "to zero, meaning again that the gradients will be small and the\n",
    "network learns slowly again.\n",
    "\n",
    "\n",
    "\n",
    "We need a fourth equation and we are set. We are going to propagate\n",
    "backwards in order to the determine the weights and biases. In order\n",
    "to do so we need to represent the error in the layer before the final\n",
    "one $L-1$ in terms of the errors in the final output layer.\n",
    "\n",
    "## Final back propagating equation\n",
    "\n",
    "We have that (replacing $L$ with a general layer $l$)"
   ]
  },
  {
   "cell_type": "markdown",
   "metadata": {},
   "source": [
    "$$\n",
    "\\delta_j^l =\\frac{\\partial {\\cal C}}{\\partial z_j^l}.\n",
    "$$"
   ]
  },
  {
   "cell_type": "markdown",
   "metadata": {},
   "source": [
    "We want to express this in terms of the equations for layer $l+1$. Using the chain rule and summing over all $k$ entries we have"
   ]
  },
  {
   "cell_type": "markdown",
   "metadata": {},
   "source": [
    "$$\n",
    "\\delta_j^l =\\sum_k \\frac{\\partial {\\cal C}}{\\partial z_k^{l+1}}\\frac{\\partial z_k^{l+1}}{\\partial z_j^{l}}=\\sum_k \\delta_k^{l+1}\\frac{\\partial z_k^{l+1}}{\\partial z_j^{l}},\n",
    "$$"
   ]
  },
  {
   "cell_type": "markdown",
   "metadata": {},
   "source": [
    "and recalling that"
   ]
  },
  {
   "cell_type": "markdown",
   "metadata": {},
   "source": [
    "$$\n",
    "z_j^{l+1} = \\sum_{i=1}^{M_{l}}w_{ij}^{l+1}a_i^{l}+b_j^{l+1},\n",
    "$$"
   ]
  },
  {
   "cell_type": "markdown",
   "metadata": {},
   "source": [
    "with $M_l$ being the number of nodes in layer $l$, we obtain"
   ]
  },
  {
   "cell_type": "markdown",
   "metadata": {},
   "source": [
    "$$\n",
    "\\delta_j^l =\\sum_k \\delta_k^{l+1}w_{kj}^{l+1}f'(z_j^l),\n",
    "$$"
   ]
  },
  {
   "cell_type": "markdown",
   "metadata": {},
   "source": [
    "This is our final equation.\n",
    "\n",
    "We are now ready to set up the algorithm for back propagation and learning the weights and biases.\n",
    "\n",
    "## Setting up the Back propagation algorithm\n",
    "\n",
    "\n",
    "\n",
    "The four equations  provide us with a way of computing the gradient of the cost function. Let us write this out in the form of an algorithm.\n",
    "\n",
    "First, we set up the input data $\\hat{x}$ and the activations\n",
    "$\\hat{z}_1$ of the input layer and compute the activation function and\n",
    "the pertinent outputs $\\hat{a}^1$.\n",
    "\n",
    "\n",
    "\n",
    "Secondly, we perform then the feed forward till we reach the output\n",
    "layer and compute all $\\hat{z}_l$ of the input layer and compute the\n",
    "activation function and the pertinent outputs $\\hat{a}^l$ for\n",
    "$l=2,3,\\dots,L$.\n",
    "\n",
    "\n",
    "\n",
    "Thereafter we compute the ouput error $\\hat{\\delta}^L$ by computing all"
   ]
  },
  {
   "cell_type": "markdown",
   "metadata": {},
   "source": [
    "$$\n",
    "\\delta_j^L = f'(z_j^L)\\frac{\\partial {\\cal C}}{\\partial (a_j^L)}.\n",
    "$$"
   ]
  },
  {
   "cell_type": "markdown",
   "metadata": {},
   "source": [
    "Then we compute the back propagate error for each $l=L-1,L-2,\\dots,2$ as"
   ]
  },
  {
   "cell_type": "markdown",
   "metadata": {},
   "source": [
    "$$\n",
    "\\delta_j^l = \\sum_k \\delta_k^{l+1}w_{kj}^{l+1}f'(z_j^l).\n",
    "$$"
   ]
  },
  {
   "cell_type": "markdown",
   "metadata": {},
   "source": [
    "Finally, we update the weights and the biases using gradient descent for each $l=L-1,L-2,\\dots,2$ and update the weights and biases according to the rules"
   ]
  },
  {
   "cell_type": "markdown",
   "metadata": {},
   "source": [
    "$$\n",
    "w_{jk}^l\\leftarrow  = w_{jk}^l- \\eta \\delta_j^la_k^{l-1},\n",
    "$$"
   ]
  },
  {
   "cell_type": "markdown",
   "metadata": {},
   "source": [
    "$$\n",
    "b_j^l \\leftarrow b_j^l-\\eta \\frac{\\partial {\\cal C}}{\\partial b_j^l}=b_j^l-\\eta \\delta_j^l,\n",
    "$$"
   ]
  },
  {
   "cell_type": "markdown",
   "metadata": {},
   "source": [
    "The parameter $\\eta$ is the learning parameter discussed in connection with the gradient descent methods.\n",
    "Here it is convenient to use stochastic gradient descent (see the examples below) with mini-batches with an outer loop that steps through multiple epochs of training.\n",
    "\n",
    "\n",
    "<!-- !split  -->\n",
    "## Setting up a Multi-layer perceptron model for classification\n",
    "\n",
    "We are now gong to develop an example based on the MNIST data\n",
    "base. This is a classification problem and we need to use our\n",
    "cross-entropy function we discussed in connection with logistic\n",
    "regression. The cross-entropy defines our cost function for the\n",
    "classificaton problems with neural networks.\n",
    "\n",
    "In binary classification with two classes $(0, 1)$ we define the\n",
    "logistic/sigmoid function as the probability that a particular input\n",
    "is in class $0$ or $1$.  This is possible because the logistic\n",
    "function takes any input from the real numbers and inputs a number\n",
    "between 0 and 1, and can therefore be interpreted as a probability. It\n",
    "also has other nice properties, such as a derivative that is simple to\n",
    "calculate.\n",
    "\n",
    "For an input $\\boldsymbol{a}$ from the hidden layer, the probability that the input $\\boldsymbol{x}$\n",
    "is in class 0 or 1 is just. We let $\\theta$ represent the unknown weights and biases to be adjusted by our equations). The variable $x$\n",
    "represents our activation values $z$. We have"
   ]
  },
  {
   "cell_type": "markdown",
   "metadata": {},
   "source": [
    "$$\n",
    "P(y = 0 \\mid \\hat{x}, \\hat{\\theta}) = \\frac{1}{1 + \\exp{(- \\hat{x}})} ,\n",
    "$$"
   ]
  },
  {
   "cell_type": "markdown",
   "metadata": {},
   "source": [
    "and"
   ]
  },
  {
   "cell_type": "markdown",
   "metadata": {},
   "source": [
    "$$\n",
    "P(y = 1 \\mid \\hat{x}, \\hat{\\theta}) = 1 - P(y = 0 \\mid \\hat{x}, \\hat{\\theta}) ,\n",
    "$$"
   ]
  },
  {
   "cell_type": "markdown",
   "metadata": {},
   "source": [
    "where $y \\in \\{0, 1\\}$  and $\\hat{\\theta}$ represents the weights and biases\n",
    "of our network.\n",
    "\n",
    "\n",
    "## Defining the cost function\n",
    "\n",
    "Our cost function is given as (see the Logistic regression lectures)"
   ]
  },
  {
   "cell_type": "markdown",
   "metadata": {},
   "source": [
    "$$\n",
    "\\mathcal{C}(\\hat{\\theta}) = - \\ln P(\\mathcal{D} \\mid \\hat{\\theta}) = - \\sum_{i=1}^n\n",
    "y_i \\ln[P(y_i = 0)] + (1 - y_i) \\ln [1 - P(y_i = 0)] = \\sum_{i=1}^n \\mathcal{L}_i(\\hat{\\theta}) .\n",
    "$$"
   ]
  },
  {
   "cell_type": "markdown",
   "metadata": {},
   "source": [
    "This last equality means that we can interpret our *cost* function as a sum over the *loss* function\n",
    "for each point in the dataset $\\mathcal{L}_i(\\hat{\\theta})$.  \n",
    "The negative sign is just so that we can think about our algorithm as minimizing a positive number, rather\n",
    "than maximizing a negative number.  \n",
    "\n",
    "In *multiclass* classification it is common to treat each integer label as a so called *one-hot* vector:  \n",
    "\n",
    "$y = 5 \\quad \\rightarrow \\quad \\hat{y} = (0, 0, 0, 0, 0, 1, 0, 0, 0, 0) ,$ and\n",
    "\n",
    "\n",
    "$y = 1 \\quad \\rightarrow \\quad \\hat{y} = (0, 1, 0, 0, 0, 0, 0, 0, 0, 0) ,$ \n",
    "\n",
    "\n",
    "i.e. a binary bit string of length $C$, where $C = 10$ is the number of classes in the MNIST dataset (numbers from $0$ to $9$)..  \n",
    "\n",
    "If $\\hat{x}_i$ is the $i$-th input (image), $y_{ic}$ refers to the $c$-th component of the $i$-th\n",
    "output vector $\\hat{y}_i$.  \n",
    "The probability of $\\hat{x}_i$ being in class $c$ will be given by the softmax function:"
   ]
  },
  {
   "cell_type": "markdown",
   "metadata": {},
   "source": [
    "$$\n",
    "P(y_{ic} = 1 \\mid \\hat{x}_i, \\hat{\\theta}) = \\frac{\\exp{((\\hat{a}_i^{hidden})^T \\hat{w}_c)}}\n",
    "{\\sum_{c'=0}^{C-1} \\exp{((\\hat{a}_i^{hidden})^T \\hat{w}_{c'})}} ,\n",
    "$$"
   ]
  },
  {
   "cell_type": "markdown",
   "metadata": {},
   "source": [
    "which reduces to the logistic function in the binary case.  \n",
    "The likelihood of this $C$-class classifier\n",
    "is now given as:"
   ]
  },
  {
   "cell_type": "markdown",
   "metadata": {},
   "source": [
    "$$\n",
    "P(\\mathcal{D} \\mid \\hat{\\theta}) = \\prod_{i=1}^n \\prod_{c=0}^{C-1} [P(y_{ic} = 1)]^{y_{ic}} .\n",
    "$$"
   ]
  },
  {
   "cell_type": "markdown",
   "metadata": {},
   "source": [
    "Again we take the negative log-likelihood to define our cost function:"
   ]
  },
  {
   "cell_type": "markdown",
   "metadata": {},
   "source": [
    "$$\n",
    "\\mathcal{C}(\\hat{\\theta}) = - \\log{P(\\mathcal{D} \\mid \\hat{\\theta})}.\n",
    "$$"
   ]
  },
  {
   "cell_type": "markdown",
   "metadata": {},
   "source": [
    "See the logistic regression lectures for a full definition of the cost function.\n",
    "\n",
    "The back propagation equations need now only a small change, namely the definition of a new cost function. We are thus ready to use the same equations as before!\n",
    "\n",
    "## Example: binary classification problem\n",
    "\n",
    "As an example of the above, relevant for project 2 as well, let us consider a binary class. As discussed in our logistic regression lectures, we defined a cost function in terms of the parameters $\\beta$ as"
   ]
  },
  {
   "cell_type": "markdown",
   "metadata": {},
   "source": [
    "$$\n",
    "\\mathcal{C}(\\hat{\\beta}) = - \\sum_{i=1}^n \\left(y_i\\log{p(y_i \\vert x_i,\\hat{\\beta})}+(1-y_i)\\log{1-p(y_i \\vert x_i,\\hat{\\beta})}\\right),\n",
    "$$"
   ]
  },
  {
   "cell_type": "markdown",
   "metadata": {},
   "source": [
    "where we had defined the logistic (sigmoid) function"
   ]
  },
  {
   "cell_type": "markdown",
   "metadata": {},
   "source": [
    "$$\n",
    "p(y_i =1\\vert x_i,\\hat{\\beta})=\\frac{\\exp{(\\beta_0+\\beta_1 x_i)}}{1+\\exp{(\\beta_0+\\beta_1 x_i)}},\n",
    "$$"
   ]
  },
  {
   "cell_type": "markdown",
   "metadata": {},
   "source": [
    "and"
   ]
  },
  {
   "cell_type": "markdown",
   "metadata": {},
   "source": [
    "$$\n",
    "p(y_i =0\\vert x_i,\\hat{\\beta})=1-p(y_i =1\\vert x_i,\\hat{\\beta}).\n",
    "$$"
   ]
  },
  {
   "cell_type": "markdown",
   "metadata": {},
   "source": [
    "The parameters $\\hat{\\beta}$ were defined using a minimization method like gradient descent or Newton-Raphson's method. \n",
    "\n",
    "Now we replace $x_i$ with the activation $z_i^l$ for a given layer $l$ and the outputs as $y_i=a_i^l=f(z_i^l)$, with $z_i^l$ now being a function of the weights $w_{ij}^l$ and biases $b_i^l$. \n",
    "We have then"
   ]
  },
  {
   "cell_type": "markdown",
   "metadata": {},
   "source": [
    "$$\n",
    "a_i^l = y_i = \\frac{\\exp{(z_i^l)}}{1+\\exp{(z_i^l)}},\n",
    "$$"
   ]
  },
  {
   "cell_type": "markdown",
   "metadata": {},
   "source": [
    "with"
   ]
  },
  {
   "cell_type": "markdown",
   "metadata": {},
   "source": [
    "$$\n",
    "z_i^l = \\sum_{j}w_{ij}^l a_j^{l-1}+b_i^l,\n",
    "$$"
   ]
  },
  {
   "cell_type": "markdown",
   "metadata": {},
   "source": [
    "where the superscript $l-1$ indicates that these are the outputs from layer $l-1$.\n",
    "Our cost function at the final layer $l=L$ is now"
   ]
  },
  {
   "cell_type": "markdown",
   "metadata": {},
   "source": [
    "$$\n",
    "\\mathcal{C}(\\hat{W}) = - \\sum_{i=1}^n \\left(t_i\\log{a_i^L}+(1-t_i)\\log{(1-a_i^L)}\\right),\n",
    "$$"
   ]
  },
  {
   "cell_type": "markdown",
   "metadata": {},
   "source": [
    "where we have defined the targets $t_i$. The derivatives of the cost function with respect to the output $a_i^L$ are then easily calculated and we get"
   ]
  },
  {
   "cell_type": "markdown",
   "metadata": {},
   "source": [
    "$$\n",
    "\\frac{\\partial \\mathcal{C}(\\hat{W})}{\\partial a_i^L} = \\frac{a_i^L-t_i}{a_i^L(1-a_i^L)}.\n",
    "$$"
   ]
  },
  {
   "cell_type": "markdown",
   "metadata": {},
   "source": [
    "In case we use another activation function than the logistic one, we need to evaluate other derivatives. \n",
    "\n",
    "\n",
    "## The Softmax function\n",
    "In case we employ the more general case given by the Softmax equation, we need to evaluate the derivative of the activation function with respect to the activation $z_i^l$, that is we need"
   ]
  },
  {
   "cell_type": "markdown",
   "metadata": {},
   "source": [
    "$$\n",
    "\\frac{\\partial f(z_i^l)}{\\partial w_{jk}^l} =\n",
    "\\frac{\\partial f(z_i^l)}{\\partial z_j^l} \\frac{\\partial z_j^l}{\\partial w_{jk}^l}= \\frac{\\partial f(z_i^l)}{\\partial z_j^l}a_k^{l-1}.\n",
    "$$"
   ]
  },
  {
   "cell_type": "markdown",
   "metadata": {},
   "source": [
    "For the Softmax function we have"
   ]
  },
  {
   "cell_type": "markdown",
   "metadata": {},
   "source": [
    "$$\n",
    "f(z_i^l) = \\frac{\\exp{(z_i^l)}}{\\sum_{m=1}^K\\exp{(z_m^l)}}.\n",
    "$$"
   ]
  },
  {
   "cell_type": "markdown",
   "metadata": {},
   "source": [
    "Its derivative with respect to $z_j^l$ gives"
   ]
  },
  {
   "cell_type": "markdown",
   "metadata": {},
   "source": [
    "$$\n",
    "\\frac{\\partial f(z_i^l)}{\\partial z_j^l}= f(z_i^l)\\left(\\delta_{ij}-f(z_j^l)\\right),\n",
    "$$"
   ]
  },
  {
   "cell_type": "markdown",
   "metadata": {},
   "source": [
    "which in case of the simply binary model reduces to  having $i=j$. \n",
    "\n",
    "<!-- !split  -->\n",
    "## Developing a code for doing neural networks with back propagation\n",
    "\n",
    "\n",
    "One can identify a set of key steps when using neural networks to solve supervised learning problems:  \n",
    "\n",
    "1. Collect and pre-process data  \n",
    "\n",
    "2. Define model and architecture  \n",
    "\n",
    "3. Choose cost function and optimizer  \n",
    "\n",
    "4. Train the model  \n",
    "\n",
    "5. Evaluate model performance on test data  \n",
    "\n",
    "6. Adjust hyperparameters (if necessary, network architecture)\n",
    "\n",
    "## Collect and pre-process data\n",
    "\n",
    "Here we will be using the MNIST dataset, which is readily available through the **scikit-learn**\n",
    "package. You may also find it for example [here](http://yann.lecun.com/exdb/mnist/).  \n",
    "The *MNIST* (Modified National Institute of Standards and Technology) database is a large database\n",
    "of handwritten digits that is commonly used for training various image processing systems.  \n",
    "The MNIST dataset consists of 70 000 images of size $28\\times 28$ pixels, each labeled from 0 to 9.  \n",
    "The scikit-learn dataset we will use consists of a selection of 1797 images of size $8\\times 8$ collected and processed from this database.  \n",
    "\n",
    "To feed data into a feed-forward neural network we need to represent\n",
    "the inputs as a design/feature matrix $X = (n_{inputs}, n_{features})$.  Each\n",
    "row represents an *input*, in this case a handwritten digit, and\n",
    "each column represents a *feature*, in this case a pixel.  The\n",
    "correct answers, also known as *labels* or *targets* are\n",
    "represented as a 1D array of integers \n",
    "$Y = (n_{inputs}) = (5, 3, 1, 8,...)$.\n",
    "\n",
    "As an example, say we want to build a neural network using supervised learning to predict Body-Mass Index (BMI) from\n",
    "measurements of height (in m)  \n",
    "and weight (in kg). If we have measurements of 5 people the design/feature matrix could be for example:  \n",
    "\n",
    "$$ X = \\begin{bmatrix}\n",
    "1.85 & 81\\\\\n",
    "1.71 & 65\\\\\n",
    "1.95 & 103\\\\\n",
    "1.55 & 42\\\\\n",
    "1.63 & 56\n",
    "\\end{bmatrix} ,$$  \n",
    "\n",
    "and the targets would be:  \n",
    "\n",
    "$$ Y = (23.7, 22.2, 27.1, 17.5, 21.1) $$  \n",
    "\n",
    "Since each input image is a 2D matrix, we need to flatten the image\n",
    "(i.e. \"unravel\" the 2D matrix into a 1D array) to turn the data into a\n",
    "design/feature matrix. This means we lose all spatial information in the\n",
    "image, such as locality and translational invariance. More complicated\n",
    "architectures such as Convolutional Neural Networks can take advantage\n",
    "of such information, and are most commonly applied when analyzing\n",
    "images."
   ]
  },
  {
   "cell_type": "code",
<<<<<<< HEAD
   "execution_count": 1,
=======
   "execution_count": 2,
>>>>>>> 7f790b9c98417fd05925e72758b52f6a10263f13
   "metadata": {},
   "outputs": [
    {
     "name": "stdout",
     "output_type": "stream",
     "text": [
      "inputs = (n_inputs, pixel_width, pixel_height) = (1797, 8, 8)\n",
      "labels = (n_inputs) = (1797,)\n",
      "X = (n_inputs, n_features) = (1797, 64)\n"
     ]
    },
    {
     "data": {
<<<<<<< HEAD
      "image/png": "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\n",
=======
      "image/png": "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\n",
>>>>>>> 7f790b9c98417fd05925e72758b52f6a10263f13
      "text/plain": [
       "<Figure size 864x864 with 5 Axes>"
      ]
     },
<<<<<<< HEAD
     "metadata": {},
=======
     "metadata": {
      "needs_background": "light"
     },
>>>>>>> 7f790b9c98417fd05925e72758b52f6a10263f13
     "output_type": "display_data"
    }
   ],
   "source": [
    "# import necessary packages\n",
    "import numpy as np\n",
    "import matplotlib.pyplot as plt\n",
    "from sklearn import datasets\n",
    "\n",
    "\n",
    "# ensure the same random numbers appear every time\n",
    "np.random.seed(0)\n",
    "\n",
    "# display images in notebook\n",
    "%matplotlib inline\n",
    "plt.rcParams['figure.figsize'] = (12,12)\n",
    "\n",
    "\n",
    "# download MNIST dataset\n",
    "digits = datasets.load_digits()\n",
    "\n",
    "# define inputs and labels\n",
    "inputs = digits.images\n",
    "labels = digits.target\n",
    "\n",
    "print(\"inputs = (n_inputs, pixel_width, pixel_height) = \" + str(inputs.shape))\n",
    "print(\"labels = (n_inputs) = \" + str(labels.shape))\n",
    "\n",
    "\n",
    "# flatten the image\n",
    "# the value -1 means dimension is inferred from the remaining dimensions: 8x8 = 64\n",
    "n_inputs = len(inputs)\n",
    "inputs = inputs.reshape(n_inputs, -1)\n",
    "print(\"X = (n_inputs, n_features) = \" + str(inputs.shape))\n",
    "\n",
    "\n",
    "# choose some random images to display\n",
    "indices = np.arange(n_inputs)\n",
    "random_indices = np.random.choice(indices, size=5)\n",
    "\n",
    "for i, image in enumerate(digits.images[random_indices]):\n",
    "    plt.subplot(1, 5, i+1)\n",
    "    plt.axis('off')\n",
    "    plt.imshow(image, cmap=plt.cm.gray_r, interpolation='nearest')\n",
    "    plt.title(\"Label: %d\" % digits.target[random_indices[i]])\n",
    "plt.show()"
   ]
  },
  {
   "cell_type": "markdown",
   "metadata": {},
   "source": [
    "## Train and test datasets\n",
    "\n",
    "Performing analysis before partitioning the dataset is a major error, that can lead to incorrect conclusions.  \n",
    "\n",
    "We will reserve $80 \\%$ of our dataset for training and $20 \\%$ for testing.  \n",
    "\n",
    "It is important that the train and test datasets are drawn randomly from our dataset, to ensure\n",
    "no bias in the sampling.  \n",
    "Say you are taking measurements of weather data to predict the weather in the coming 5 days.\n",
    "You don't want to train your model on measurements taken from the hours 00.00 to 12.00, and then test it on data\n",
    "collected from 12.00 to 24.00."
   ]
  },
  {
   "cell_type": "code",
<<<<<<< HEAD
   "execution_count": 2,
=======
   "execution_count": 3,
>>>>>>> 7f790b9c98417fd05925e72758b52f6a10263f13
   "metadata": {},
   "outputs": [
    {
     "name": "stdout",
     "output_type": "stream",
     "text": [
      "Number of training images: 1437\n",
      "Number of test images: 360\n"
     ]
    }
   ],
   "source": [
    "from sklearn.model_selection import train_test_split\n",
    "\n",
    "# one-liner from scikit-learn library\n",
    "train_size = 0.8\n",
    "test_size = 1 - train_size\n",
    "X_train, X_test, Y_train, Y_test = train_test_split(inputs, labels, train_size=train_size,\n",
    "                                                    test_size=test_size)\n",
    "\n",
    "# equivalently in numpy\n",
    "def train_test_split_numpy(inputs, labels, train_size, test_size):\n",
    "    n_inputs = len(inputs)\n",
    "    inputs_shuffled = inputs.copy()\n",
    "    labels_shuffled = labels.copy()\n",
    "    \n",
    "    np.random.shuffle(inputs_shuffled)\n",
    "    np.random.shuffle(labels_shuffled)\n",
    "    \n",
    "    train_end = int(n_inputs*train_size)\n",
    "    X_train, X_test = inputs_shuffled[:train_end], inputs_shuffled[train_end:]\n",
    "    Y_train, Y_test = labels_shuffled[:train_end], labels_shuffled[train_end:]\n",
    "    \n",
    "    return X_train, X_test, Y_train, Y_test\n",
    "\n",
    "#X_train, X_test, Y_train, Y_test = train_test_split_numpy(inputs, labels, train_size, test_size)\n",
    "\n",
    "print(\"Number of training images: \" + str(len(X_train)))\n",
    "print(\"Number of test images: \" + str(len(X_test)))"
   ]
  },
  {
   "cell_type": "markdown",
   "metadata": {},
   "source": [
    "## Define model and architecture\n",
    "\n",
    "Our simple feed-forward neural network will consist of an *input* layer, a single *hidden* layer and an *output* layer. The activation $y$ of each neuron is a weighted sum of inputs, passed through an activation function. In case of the simple perceptron model we have \n",
    "\n",
    "$$ z = \\sum_{i=1}^n w_i a_i ,$$\n",
    "\n",
    "$$ y = f(z) ,$$\n",
    "\n",
    "where $f$ is the activation function, $a_i$ represents input from neuron $i$ in the preceding layer\n",
    "and $w_i$ is the weight to input $i$.  \n",
    "The activation of the neurons in the input layer is just the features (e.g. a pixel value).  \n",
    "\n",
    "The simplest activation function for a neuron is the *Heaviside* function:\n",
    "\n",
    "$$ f(z) = \n",
    "\\begin{cases}\n",
    "1,  &  z > 0\\\\\n",
    "0,  & \\text{otherwise}\n",
    "\\end{cases}\n",
    "$$\n",
    "\n",
    "A feed-forward neural network with this activation is known as a *perceptron*.  \n",
    "For a binary classifier (i.e. two classes, 0 or 1, dog or not-dog) we can also use this in our output layer.  \n",
    "This activation can be generalized to $k$ classes (using e.g. the *one-against-all* strategy), \n",
    "and we call these architectures *multiclass perceptrons*.  \n",
    "\n",
    "However, it is now common to use the terms Single Layer Perceptron (SLP) (1 hidden layer) and  \n",
    "Multilayer Perceptron (MLP) (2 or more hidden layers) to refer to feed-forward neural networks with any activation function.  \n",
    "\n",
    "Typical choices for activation functions include the sigmoid function, hyperbolic tangent, and Rectified Linear Unit (ReLU).  \n",
    "We will be using the sigmoid function $\\sigma(x)$:  \n",
    "\n",
    "$$ f(x) = \\sigma(x) = \\frac{1}{1 + e^{-x}} ,$$\n",
    "\n",
    "which is inspired by probability theory (see logistic regression) and was most commonly used until about 2011. See the discussion below concerning other activation functions.\n",
    "\n",
    "<!-- !split   -->\n",
    "## Layers\n",
    "\n",
    "* Input \n",
    "\n",
    "Since each input image has 8x8 = 64 pixels or features, we have an input layer of 64 neurons.  \n",
    "\n",
    "* Hidden layer\n",
    "\n",
    "We will use 50 neurons in the hidden layer receiving input from the neurons in the input layer.  \n",
    "Since each neuron in the hidden layer is connected to the 64 inputs we have 64x50 = 3200 weights to the hidden layer.  \n",
    "\n",
    "* Output\n",
    "\n",
    "If we were building a binary classifier, it would be sufficient with a single neuron in the output layer,\n",
    "which could output 0 or 1 according to the Heaviside function. This would be an example of a *hard* classifier, meaning it outputs the class of the input directly. However, if we are dealing with noisy data it is often beneficial to use a *soft* classifier, which outputs the probability of being in class 0 or 1.  \n",
    "\n",
    "For a soft binary classifier, we could use a single neuron and interpret the output as either being the probability of being in class 0 or the probability of being in class 1. Alternatively we could use 2 neurons, and interpret each neuron as the probability of being in each class.  \n",
    "\n",
    "Since we are doing multiclass classification, with 10 categories, it is natural to use 10 neurons in the output layer. We number the neurons $j = 0,1,...,9$. The activation of each output neuron $j$ will be according to the *softmax* function:  \n",
    "\n",
    "$$ P(\\text{class $j$} \\mid \\text{input $\\hat{a}$}) = \\frac{\\exp{(\\hat{a}^T \\hat{w}_j)}}\n",
    "{\\sum_{c=0}^{9} \\exp{(\\hat{a}^T \\hat{w}_c)}} ,$$  \n",
    "\n",
    "i.e. each neuron $j$ outputs the probability of being in class $j$ given an input from the hidden layer $\\hat{a}$, with $\\hat{w}_j$ the weights of neuron $j$ to the inputs.  \n",
    "The denominator is a normalization factor to ensure the outputs (probabilities) sum up to 1.  \n",
    "The exponent is just the weighted sum of inputs as before:  \n",
    "\n",
    "$$ z_j = \\sum_{i=1}^n w_ {ij} a_i+b_j.$$  \n",
    "\n",
    "Since each neuron in the output layer is connected to the 50 inputs from the hidden layer we have 50x10 = 500\n",
    "weights to the output layer.\n",
    "\n",
    "<!-- !split   -->\n",
    "## Weights and biases\n",
    "\n",
    "Typically weights are initialized with small values distributed around zero, drawn from a uniform\n",
    "or normal distribution. Setting all weights to zero means all neurons give the same output, making the network useless.  \n",
    "\n",
    "Adding a bias value to the weighted sum of inputs allows the neural network to represent a greater range\n",
    "of values. Without it, any input with the value 0 will be mapped to zero (before being passed through the activation). The bias unit has an output of 1, and a weight to each neuron $j$, $b_j$:  \n",
    "\n",
    "$$ z_j = \\sum_{i=1}^n w_ {ij} a_i + b_j.$$  \n",
    "\n",
    "The bias weights $\\hat{b}$ are often initialized to zero, but a small value like $0.01$ ensures all neurons have some output which can be backpropagated in the first training cycle."
   ]
  },
  {
   "cell_type": "code",
<<<<<<< HEAD
   "execution_count": 3,
=======
   "execution_count": 4,
>>>>>>> 7f790b9c98417fd05925e72758b52f6a10263f13
   "metadata": {},
   "outputs": [],
   "source": [
    "# building our neural network\n",
    "\n",
    "n_inputs, n_features = X_train.shape\n",
    "n_hidden_neurons = 50\n",
    "n_categories = 10\n",
    "\n",
    "# we make the weights normally distributed using numpy.random.randn\n",
    "\n",
    "# weights and bias in the hidden layer\n",
    "hidden_weights = np.random.randn(n_features, n_hidden_neurons)\n",
    "hidden_bias = np.zeros(n_hidden_neurons) + 0.01\n",
    "\n",
    "# weights and bias in the output layer\n",
    "output_weights = np.random.randn(n_hidden_neurons, n_categories)\n",
    "output_bias = np.zeros(n_categories) + 0.01"
   ]
  },
  {
   "cell_type": "markdown",
   "metadata": {},
   "source": [
    "## Feed-forward pass\n",
    "\n",
    "Denote $F$ the number of features, $H$ the number of hidden neurons and $C$ the number of categories.  \n",
    "For each input image we calculate a weighted sum of input features (pixel values) to each neuron $j$ in the hidden layer $l$:  \n",
    "\n",
    "$$ z_{j}^{l} = \\sum_{i=1}^{F} w_{ij}^{l} x_i + b_{j}^{l},$$\n",
    "\n",
    "this is then passed through our activation function  \n",
    "\n",
    "$$ a_{j}^{l} = f(z_{j}^{l}) .$$  \n",
    "\n",
    "We calculate a weighted sum of inputs (activations in the hidden layer) to each neuron $j$ in the output layer:  \n",
    "\n",
    "$$ z_{j}^{L} = \\sum_{i=1}^{H} w_{ij}^{L} a_{i}^{l} + b_{j}^{L}.$$  \n",
    "\n",
    "Finally we calculate the output of neuron $j$ in the output layer using the softmax function:  \n",
    "\n",
    "$$ a_{j}^{L} = \\frac{\\exp{(z_j^{L})}}\n",
    "{\\sum_{c=0}^{C-1} \\exp{(z_c^{L})}} .$$  \n",
    "\n",
    "<!-- !split    -->\n",
    "## Matrix multiplications\n",
    "\n",
    "Since our data has the dimensions $X = (n_{inputs}, n_{features})$ and our weights to the hidden\n",
    "layer have the dimensions  \n",
    "$W_{hidden} = (n_{features}, n_{hidden})$,\n",
    "we can easily feed the network all our training data in one go by taking the matrix product  \n",
    "\n",
    "$$ X W^{h} = (n_{inputs}, n_{hidden}),$$ \n",
    "\n",
    "and obtain a matrix that holds the weighted sum of inputs to the hidden layer\n",
    "for each input image and each hidden neuron.    \n",
    "We also add the bias to obtain a matrix of weighted sums to the hidden layer $Z^{h}$:  \n",
    "\n",
    "$$ \\hat{z}^{l} = \\hat{X} \\hat{W}^{l} + \\hat{b}^{l} ,$$\n",
    "\n",
    "meaning the same bias (1D array with size equal number of hidden neurons) is added to each input image.  \n",
    "This is then passed through the activation:  \n",
    "\n",
    "$$ \\hat{a}^{l} = f(\\hat{z}^l) .$$  \n",
    "\n",
    "This is fed to the output layer:  \n",
    "\n",
    "$$ \\hat{z}^{L} = \\hat{a}^{L} \\hat{W}^{L} + \\hat{b}^{L} .$$\n",
    "\n",
    "Finally we receive our output values for each image and each category by passing it through the softmax function:  \n",
    "\n",
    "$$ output = softmax (\\hat{z}^{L}) = (n_{inputs}, n_{categories}) .$$"
   ]
  },
  {
   "cell_type": "code",
<<<<<<< HEAD
   "execution_count": 4,
=======
   "execution_count": 5,
>>>>>>> 7f790b9c98417fd05925e72758b52f6a10263f13
   "metadata": {},
   "outputs": [
    {
     "name": "stdout",
     "output_type": "stream",
     "text": [
      "probabilities = (n_inputs, n_categories) = (1437, 10)\n",
      "probability that image 0 is in category 0,1,2,...,9 = \n",
      "[5.41511965e-04 2.17174962e-03 8.84355903e-03 1.44970586e-03\n",
      " 1.10378326e-04 5.08318298e-09 2.03256632e-04 1.92507116e-03\n",
      " 9.84443254e-01 3.11507992e-04]\n",
      "probabilities sum up to: 1.0\n",
      "\n",
      "predictions = (n_inputs) = (1437,)\n",
      "prediction for image 0: 8\n",
      "correct label for image 0: 6\n"
     ]
    }
   ],
   "source": [
    "# setup the feed-forward pass, subscript h = hidden layer\n",
    "\n",
    "def sigmoid(x):\n",
    "    return 1/(1 + np.exp(-x))\n",
    "\n",
    "def feed_forward(X):\n",
    "    # weighted sum of inputs to the hidden layer\n",
    "    z_h = np.matmul(X, hidden_weights) + hidden_bias\n",
    "    # activation in the hidden layer\n",
    "    a_h = sigmoid(z_h)\n",
    "    \n",
    "    # weighted sum of inputs to the output layer\n",
    "    z_o = np.matmul(a_h, output_weights) + output_bias\n",
    "    # softmax output\n",
    "    # axis 0 holds each input and axis 1 the probabilities of each category\n",
    "    exp_term = np.exp(z_o)\n",
    "    probabilities = exp_term / np.sum(exp_term, axis=1, keepdims=True)\n",
    "    \n",
    "    return probabilities\n",
    "\n",
    "probabilities = feed_forward(X_train)\n",
    "print(\"probabilities = (n_inputs, n_categories) = \" + str(probabilities.shape))\n",
    "print(\"probability that image 0 is in category 0,1,2,...,9 = \\n\" + str(probabilities[0]))\n",
    "print(\"probabilities sum up to: \" + str(probabilities[0].sum()))\n",
    "print()\n",
    "\n",
    "# we obtain a prediction by taking the class with the highest likelihood\n",
    "def predict(X):\n",
    "    probabilities = feed_forward(X)\n",
    "    return np.argmax(probabilities, axis=1)\n",
    "\n",
    "predictions = predict(X_train)\n",
    "print(\"predictions = (n_inputs) = \" + str(predictions.shape))\n",
    "print(\"prediction for image 0: \" + str(predictions[0]))\n",
    "print(\"correct label for image 0: \" + str(Y_train[0]))"
   ]
  },
  {
   "cell_type": "markdown",
   "metadata": {},
   "source": [
    "## Choose cost function and optimizer\n",
    "\n",
    "To measure how well our neural network is doing we need to introduce a cost function.  \n",
    "We will call the function that gives the error of a single sample output the *loss* function, and the function\n",
    "that gives the total error of our network across all samples the *cost* function.\n",
    "A typical choice for multiclass classification is the *cross-entropy* loss, also known as the negative log likelihood.  \n",
    "\n",
    "In *multiclass* classification it is common to treat each integer label as a so called *one-hot* vector:  \n",
    "\n",
    "$$ y = 5 \\quad \\rightarrow \\quad \\hat{y} = (0, 0, 0, 0, 0, 1, 0, 0, 0, 0) ,$$  \n",
    "\n",
    "\n",
    "$$ y = 1 \\quad \\rightarrow \\quad \\hat{y} = (0, 1, 0, 0, 0, 0, 0, 0, 0, 0) ,$$  \n",
    "\n",
    "\n",
    "i.e. a binary bit string of length $C$, where $C = 10$ is the number of classes in the MNIST dataset.  \n",
    "\n",
    "Let $y_{ic}$ denote the $c$-th component of the $i$-th one-hot vector.  \n",
    "We define the cost function $\\mathcal{C}$ as a sum over the cross-entropy loss for each point $\\hat{x}_i$ in the dataset.\n",
    "\n",
    "In the one-hot representation only one of the terms in the loss function is non-zero, namely the\n",
    "probability of the correct category $c'$  \n",
    "(i.e. the category $c'$ such that $y_{ic'} = 1$). This means that the cross entropy loss only punishes you for how wrong\n",
    "you got the correct label. The probability of category $c$ is given by the softmax function. The vector $\\hat{\\theta}$ represents the parameters of our network, i.e. all the weights and biases.  \n",
    "\n",
    "\n",
    "## Optimizing the cost function\n",
    "\n",
    "The network is trained by finding the weights and biases that minimize the cost function. One of the most widely used classes of methods is *gradient descent* and its generalizations. The idea behind gradient descent\n",
    "is simply to adjust the weights in the direction where the gradient of the cost function is large and negative. This ensures we flow toward a *local* minimum of the cost function.  \n",
    "Each parameter $\\theta$ is iteratively adjusted according to the rule  \n",
    "\n",
    "$$ \\theta_{i+1} = \\theta_i - \\eta \\nabla \\mathcal{C}(\\theta_i) ,$$\n",
    "\n",
    "where $\\eta$ is known as the *learning rate*, which controls how big a step we take towards the minimum.  \n",
    "This update can be repeated for any number of iterations, or until we are satisfied with the result.  \n",
    "\n",
    "A simple and effective improvement is a variant called *Batch Gradient Descent*.  \n",
    "Instead of calculating the gradient on the whole dataset, we calculate an approximation of the gradient\n",
    "on a subset of the data called a *minibatch*.  \n",
    "If there are $N$ data points and we have a minibatch size of $M$, the total number of batches\n",
    "is $N/M$.  \n",
    "We denote each minibatch $B_k$, with $k = 1, 2,...,N/M$. The gradient then becomes:  \n",
    "\n",
    "$$ \\nabla \\mathcal{C}(\\theta) = \\frac{1}{N} \\sum_{i=1}^N \\nabla \\mathcal{L}_i(\\theta) \\quad \\rightarrow \\quad\n",
    "\\frac{1}{M} \\sum_{i \\in B_k} \\nabla \\mathcal{L}_i(\\theta) ,$$\n",
    "\n",
    "i.e. instead of averaging the loss over the entire dataset, we average over a minibatch.  \n",
    "\n",
    "This has two important benefits:  \n",
    "1. Introducing stochasticity decreases the chance that the algorithm becomes stuck in a local minima.  \n",
    "\n",
    "2. It significantly speeds up the calculation, since we do not have to use the entire dataset to calculate the gradient.  \n",
    "\n",
    "The various optmization  methods, with codes and algorithms,  are discussed in our lectures on [Gradient descent approaches](https://compphysics.github.io/MachineLearning/doc/pub/Splines/html/Splines-bs.html).\n",
    "\n",
    "<!-- !split   -->\n",
    "## Regularization\n",
    "\n",
    "It is common to add an extra term to the cost function, proportional\n",
    "to the size of the weights.  This is equivalent to constraining the\n",
    "size of the weights, so that they do not grow out of control.\n",
    "Constraining the size of the weights means that the weights cannot\n",
    "grow arbitrarily large to fit the training data, and in this way\n",
    "reduces *overfitting*.\n",
    "\n",
    "We will measure the size of the weights using the so called *L2-norm*, meaning our cost function becomes:  \n",
    "\n",
    "$$  \\mathcal{C}(\\theta) = \\frac{1}{N} \\sum_{i=1}^N \\mathcal{L}_i(\\theta) \\quad \\rightarrow \\quad\n",
    "\\frac{1}{N} \\sum_{i=1}^N  \\mathcal{L}_i(\\theta) + \\lambda \\lvert \\lvert \\hat{w} \\rvert \\rvert_2^2 \n",
    "= \\frac{1}{N} \\sum_{i=1}^N  \\mathcal{L}(\\theta) + \\lambda \\sum_{ij} w_{ij}^2,$$  \n",
    "\n",
    "i.e. we sum up all the weights squared. The factor $\\lambda$ is known as a regularization parameter.\n",
    "\n",
    "\n",
    "In order to train the model, we need to calculate the derivative of\n",
    "the cost function with respect to every bias and weight in the\n",
    "network.  In total our network has $(64 + 1)\\times 50=3250$ weights in\n",
    "the hidden layer and $(50 + 1)\\times 10=510$ weights to the output\n",
    "layer ($+1$ for the bias), and the gradient must be calculated for\n",
    "every parameter.  We use the *backpropagation* algorithm discussed\n",
    "above. This is a clever use of the chain rule that allows us to\n",
    "calculate the gradient efficently. \n",
    "\n",
    "\n",
    "## Matrix  multiplication\n",
    "\n",
    "To more efficently train our network these equations are implemented using matrix operations.  \n",
    "The error in the output layer is calculated simply as, with $\\hat{t}$ being our targets,  \n",
    "\n",
    "$$ \\delta_L = \\hat{t} - \\hat{y} = (n_{inputs}, n_{categories}) .$$  \n",
    "\n",
    "The gradient for the output weights is calculated as  \n",
    "\n",
    "$$ \\nabla W_{L} = \\hat{a}^T \\delta_L   = (n_{hidden}, n_{categories}) ,$$\n",
    "\n",
    "where $\\hat{a} = (n_{inputs}, n_{hidden})$. This simply means that we are summing up the gradients for each input.  \n",
    "Since we are going backwards we have to transpose the activation matrix.  \n",
    "\n",
    "The gradient with respect to the output bias is then  \n",
    "\n",
    "$$ \\nabla \\hat{b}_{L} = \\sum_{i=1}^{n_{inputs}} \\delta_L = (n_{categories}) .$$  \n",
    "\n",
    "The error in the hidden layer is  \n",
    "\n",
    "$$ \\Delta_h = \\delta_L W_{L}^T \\circ f'(z_{h}) = \\delta_L W_{L}^T \\circ a_{h} \\circ (1 - a_{h}) = (n_{inputs}, n_{hidden}) ,$$  \n",
    "\n",
    "where $f'(a_{h})$ is the derivative of the activation in the hidden layer. The matrix products mean\n",
    "that we are summing up the products for each neuron in the output layer. The symbol $\\circ$ denotes\n",
    "the *Hadamard product*, meaning element-wise multiplication.  \n",
    "\n",
    "This again gives us the gradients in the hidden layer:  \n",
    "\n",
    "$$ \\nabla W_{h} = X^T \\delta_h = (n_{features}, n_{hidden}) ,$$  \n",
    "\n",
    "$$ \\nabla b_{h} = \\sum_{i=1}^{n_{inputs}} \\delta_h = (n_{hidden}) .$$"
   ]
  },
  {
   "cell_type": "code",
<<<<<<< HEAD
   "execution_count": 5,
=======
   "execution_count": 6,
>>>>>>> 7f790b9c98417fd05925e72758b52f6a10263f13
   "metadata": {},
   "outputs": [
    {
     "name": "stdout",
     "output_type": "stream",
     "text": [
      "Old accuracy on training data: 0.1440501043841336\n"
     ]
    },
    {
     "name": "stderr",
     "output_type": "stream",
     "text": [
<<<<<<< HEAD
      "/usr/local/lib/python3.7/site-packages/ipykernel_launcher.py:4: RuntimeWarning: overflow encountered in exp\n",
=======
      "/Users/MortenImac/anaconda3/lib/python3.6/site-packages/ipykernel_launcher.py:4: RuntimeWarning: overflow encountered in exp\n",
>>>>>>> 7f790b9c98417fd05925e72758b52f6a10263f13
      "  after removing the cwd from sys.path.\n"
     ]
    },
    {
     "name": "stdout",
     "output_type": "stream",
     "text": [
<<<<<<< HEAD
      "New accuracy on training data: 0.0953375086986778\n"
=======
      "New accuracy on training data: 0.09672929714683368\n"
>>>>>>> 7f790b9c98417fd05925e72758b52f6a10263f13
     ]
    }
   ],
   "source": [
    "# to categorical turns our integer vector into a onehot representation\n",
    "from sklearn.metrics import accuracy_score\n",
    "\n",
    "# one-hot in numpy\n",
    "def to_categorical_numpy(integer_vector):\n",
    "    n_inputs = len(integer_vector)\n",
    "    n_categories = np.max(integer_vector) + 1\n",
    "    onehot_vector = np.zeros((n_inputs, n_categories))\n",
    "    onehot_vector[range(n_inputs), integer_vector] = 1\n",
    "    \n",
    "    return onehot_vector\n",
    "\n",
    "#Y_train_onehot, Y_test_onehot = to_categorical(Y_train), to_categorical(Y_test)\n",
    "Y_train_onehot, Y_test_onehot = to_categorical_numpy(Y_train), to_categorical_numpy(Y_test)\n",
    "\n",
    "def feed_forward_train(X):\n",
    "    # weighted sum of inputs to the hidden layer\n",
    "    z_h = np.matmul(X, hidden_weights) + hidden_bias\n",
    "    # activation in the hidden layer\n",
    "    a_h = sigmoid(z_h)\n",
    "    \n",
    "    # weighted sum of inputs to the output layer\n",
    "    z_o = np.matmul(a_h, output_weights) + output_bias\n",
    "    # softmax output\n",
    "    # axis 0 holds each input and axis 1 the probabilities of each category\n",
    "    exp_term = np.exp(z_o)\n",
    "    probabilities = exp_term / np.sum(exp_term, axis=1, keepdims=True)\n",
    "    \n",
    "    # for backpropagation need activations in hidden and output layers\n",
    "    return a_h, probabilities\n",
    "\n",
    "def backpropagation(X, Y):\n",
    "    a_h, probabilities = feed_forward_train(X)\n",
    "    \n",
    "    # error in the output layer\n",
    "    error_output = probabilities - Y\n",
    "    # error in the hidden layer\n",
    "    error_hidden = np.matmul(error_output, output_weights.T) * a_h * (1 - a_h)\n",
    "    \n",
    "    # gradients for the output layer\n",
    "    output_weights_gradient = np.matmul(a_h.T, error_output)\n",
    "    output_bias_gradient = np.sum(error_output, axis=0)\n",
    "    \n",
    "    # gradient for the hidden layer\n",
    "    hidden_weights_gradient = np.matmul(X.T, error_hidden)\n",
    "    hidden_bias_gradient = np.sum(error_hidden, axis=0)\n",
    "\n",
    "    return output_weights_gradient, output_bias_gradient, hidden_weights_gradient, hidden_bias_gradient\n",
    "\n",
    "print(\"Old accuracy on training data: \" + str(accuracy_score(predict(X_train), Y_train)))\n",
    "\n",
    "eta = 0.01\n",
    "lmbd = 0.01\n",
    "for i in range(1000):\n",
    "    # calculate gradients\n",
    "    dWo, dBo, dWh, dBh = backpropagation(X_train, Y_train_onehot)\n",
    "    \n",
    "    # regularization term gradients\n",
    "    dWo += lmbd * output_weights\n",
    "    dWh += lmbd * hidden_weights\n",
    "    \n",
    "    # update weights and biases\n",
    "    output_weights -= eta * dWo\n",
    "    output_bias -= eta * dBo\n",
    "    hidden_weights -= eta * dWh\n",
    "    hidden_bias -= eta * dBh\n",
    "\n",
    "print(\"New accuracy on training data: \" + str(accuracy_score(predict(X_train), Y_train)))"
   ]
  },
  {
   "cell_type": "markdown",
   "metadata": {},
   "source": [
    "## Improving performance\n",
    "\n",
    "As we can see the network does not seem to be learning at all. It seems to be just guessing the label for each image.  \n",
    "In order to obtain a network that does something useful, we will have to do a bit more work.  \n",
    "\n",
    "The choice of *hyperparameters* such as learning rate and regularization parameter is hugely influential for the performance of the network. Typically a *grid-search* is performed, wherein we test different hyperparameters separated by orders of magnitude. For example we could test the learning rates $\\eta = 10^{-6}, 10^{-5},...,10^{-1}$ with different regularization parameters $\\lambda = 10^{-6},...,10^{-0}$.  \n",
    "\n",
    "Next, we haven't implemented minibatching yet, which introduces stochasticity and is though to act as an important regularizer on the weights. We call a feed-forward + backward pass with a minibatch an *iteration*, and a full training period\n",
    "going through the entire dataset ($n/M$ batches) an *epoch*.\n",
    "\n",
    "If this does not improve network performance, you may want to consider altering the network architecture, adding more neurons or hidden layers.  \n",
    "Andrew Ng goes through some of these considerations in this [video](https://youtu.be/F1ka6a13S9I). You can find a summary of the video [here](https://kevinzakka.github.io/2016/09/26/applying-deep-learning/).  \n",
    "\n",
    "## Full object-oriented implementation\n",
    "\n",
    "It is very natural to think of the network as an object, with specific instances of the network\n",
    "being realizations of this object with different hyperparameters. An implementation using Python classes provides a clean structure and interface, and the full implementation of our neural network is given below."
   ]
  },
  {
   "cell_type": "code",
<<<<<<< HEAD
   "execution_count": 6,
=======
   "execution_count": 7,
>>>>>>> 7f790b9c98417fd05925e72758b52f6a10263f13
   "metadata": {},
   "outputs": [],
   "source": [
    "class NeuralNetwork:\n",
    "    def __init__(\n",
    "            self,\n",
    "            X_data,\n",
    "            Y_data,\n",
    "            n_hidden_neurons=50,\n",
    "            n_categories=10,\n",
    "            epochs=10,\n",
    "            batch_size=100,\n",
    "            eta=0.1,\n",
    "            lmbd=0.0):\n",
    "\n",
    "        self.X_data_full = X_data\n",
    "        self.Y_data_full = Y_data\n",
    "\n",
    "        self.n_inputs = X_data.shape[0]\n",
    "        self.n_features = X_data.shape[1]\n",
    "        self.n_hidden_neurons = n_hidden_neurons\n",
    "        self.n_categories = n_categories\n",
    "\n",
    "        self.epochs = epochs\n",
    "        self.batch_size = batch_size\n",
    "        self.iterations = self.n_inputs // self.batch_size\n",
    "        self.eta = eta\n",
    "        self.lmbd = lmbd\n",
    "\n",
    "        self.create_biases_and_weights()\n",
    "\n",
    "    def create_biases_and_weights(self):\n",
    "        self.hidden_weights = np.random.randn(self.n_features, self.n_hidden_neurons)\n",
    "        self.hidden_bias = np.zeros(self.n_hidden_neurons) + 0.01\n",
    "\n",
    "        self.output_weights = np.random.randn(self.n_hidden_neurons, self.n_categories)\n",
    "        self.output_bias = np.zeros(self.n_categories) + 0.01\n",
    "\n",
    "    def feed_forward(self):\n",
    "        # feed-forward for training\n",
    "        self.z_h = np.matmul(self.X_data, self.hidden_weights) + self.hidden_bias\n",
    "        self.a_h = sigmoid(self.z_h)\n",
    "\n",
    "        self.z_o = np.matmul(self.a_h, self.output_weights) + self.output_bias\n",
    "\n",
    "        exp_term = np.exp(self.z_o)\n",
    "        self.probabilities = exp_term / np.sum(exp_term, axis=1, keepdims=True)\n",
    "\n",
    "    def feed_forward_out(self, X):\n",
    "        # feed-forward for output\n",
    "        z_h = np.matmul(X, self.hidden_weights) + self.hidden_bias\n",
    "        a_h = sigmoid(z_h)\n",
    "\n",
    "        z_o = np.matmul(a_h, self.output_weights) + self.output_bias\n",
    "        \n",
    "        exp_term = np.exp(z_o)\n",
    "        probabilities = exp_term / np.sum(exp_term, axis=1, keepdims=True)\n",
    "        return probabilities\n",
    "\n",
    "    def backpropagation(self):\n",
    "        error_output = self.probabilities - self.Y_data\n",
    "        error_hidden = np.matmul(error_output, self.output_weights.T) * self.a_h * (1 - self.a_h)\n",
    "\n",
    "        self.output_weights_gradient = np.matmul(self.a_h.T, error_output)\n",
    "        self.output_bias_gradient = np.sum(error_output, axis=0)\n",
    "\n",
    "        self.hidden_weights_gradient = np.matmul(self.X_data.T, error_hidden)\n",
    "        self.hidden_bias_gradient = np.sum(error_hidden, axis=0)\n",
    "\n",
    "        if self.lmbd > 0.0:\n",
    "            self.output_weights_gradient += self.lmbd * self.output_weights\n",
    "            self.hidden_weights_gradient += self.lmbd * self.hidden_weights\n",
    "\n",
    "        self.output_weights -= self.eta * self.output_weights_gradient\n",
    "        self.output_bias -= self.eta * self.output_bias_gradient\n",
    "        self.hidden_weights -= self.eta * self.hidden_weights_gradient\n",
    "        self.hidden_bias -= self.eta * self.hidden_bias_gradient\n",
    "\n",
    "    def predict(self, X):\n",
    "        probabilities = self.feed_forward_out(X)\n",
    "        return np.argmax(probabilities, axis=1)\n",
    "\n",
    "    def predict_probabilities(self, X):\n",
    "        probabilities = self.feed_forward_out(X)\n",
    "        return probabilities\n",
    "\n",
    "    def train(self):\n",
    "        data_indices = np.arange(self.n_inputs)\n",
    "\n",
    "        for i in range(self.epochs):\n",
    "            for j in range(self.iterations):\n",
    "                # pick datapoints with replacement\n",
    "                chosen_datapoints = np.random.choice(\n",
    "                    data_indices, size=self.batch_size, replace=False\n",
    "                )\n",
    "\n",
    "                # minibatch training data\n",
    "                self.X_data = self.X_data_full[chosen_datapoints]\n",
    "                self.Y_data = self.Y_data_full[chosen_datapoints]\n",
    "\n",
    "                self.feed_forward()\n",
    "                self.backpropagation()"
   ]
  },
  {
   "cell_type": "markdown",
   "metadata": {},
   "source": [
    "## Evaluate model performance on test data\n",
    "\n",
    "To measure the performance of our network we evaluate how well it does it data it has never seen before, i.e. the test data.  \n",
    "We measure the performance of the network using the *accuracy* score.  \n",
    "The accuracy is as you would expect just the number of images correctly labeled divided by the total number of images. A perfect classifier will have an accuracy score of $1$.  \n",
    "\n",
    "$$ \\text{Accuracy} = \\frac{\\sum_{i=1}^n I(\\hat{y}_i = y_i)}{n} ,$$  \n",
    "\n",
    "where $I$ is the indicator function, $1$ if $\\hat{y}_i = y_i$ and $0$ otherwise."
   ]
  },
  {
   "cell_type": "code",
<<<<<<< HEAD
   "execution_count": 7,
=======
   "execution_count": 8,
>>>>>>> 7f790b9c98417fd05925e72758b52f6a10263f13
   "metadata": {},
   "outputs": [
    {
     "name": "stdout",
     "output_type": "stream",
     "text": [
<<<<<<< HEAD
      "Accuracy score on test set:  0.9416666666666667\n"
=======
      "Accuracy score on test set:  0.9472222222222222\n"
>>>>>>> 7f790b9c98417fd05925e72758b52f6a10263f13
     ]
    }
   ],
   "source": [
    "epochs = 100\n",
    "batch_size = 100\n",
    "\n",
    "dnn = NeuralNetwork(X_train, Y_train_onehot, eta=eta, lmbd=lmbd, epochs=epochs, batch_size=batch_size,\n",
    "                    n_hidden_neurons=n_hidden_neurons, n_categories=n_categories)\n",
    "dnn.train()\n",
    "test_predict = dnn.predict(X_test)\n",
    "\n",
    "# accuracy score from scikit library\n",
    "print(\"Accuracy score on test set: \", accuracy_score(Y_test, test_predict))\n",
    "\n",
    "# equivalent in numpy\n",
    "def accuracy_score_numpy(Y_test, Y_pred):\n",
    "    return np.sum(Y_test == Y_pred) / len(Y_test)\n",
    "\n",
    "#print(\"Accuracy score on test set: \", accuracy_score_numpy(Y_test, test_predict))"
   ]
  },
  {
   "cell_type": "markdown",
   "metadata": {},
   "source": [
    "## Adjust hyperparameters\n",
    "\n",
    "We now perform a grid search to find the optimal hyperparameters for the network.  \n",
    "Note that we are only using 1 layer with 50 neurons, and human performance is estimated to be around $98\\%$ ($2\\%$ error rate)."
   ]
  },
  {
   "cell_type": "code",
<<<<<<< HEAD
   "execution_count": 8,
=======
   "execution_count": 9,
>>>>>>> 7f790b9c98417fd05925e72758b52f6a10263f13
   "metadata": {},
   "outputs": [
    {
     "name": "stdout",
     "output_type": "stream",
     "text": [
      "Learning rate  =  1e-05\n",
      "Lambda =  1e-05\n",
      "Accuracy score on test set:  0.11666666666666667\n",
      "\n",
      "Learning rate  =  1e-05\n",
      "Lambda =  0.0001\n",
      "Accuracy score on test set:  0.20833333333333334\n",
      "\n",
      "Learning rate  =  1e-05\n",
      "Lambda =  0.001\n",
      "Accuracy score on test set:  0.12222222222222222\n",
      "\n",
      "Learning rate  =  1e-05\n",
      "Lambda =  0.01\n",
      "Accuracy score on test set:  0.14722222222222223\n",
      "\n",
      "Learning rate  =  1e-05\n",
      "Lambda =  0.1\n",
      "Accuracy score on test set:  0.17777777777777778\n",
      "\n",
      "Learning rate  =  1e-05\n",
      "Lambda =  1.0\n",
      "Accuracy score on test set:  0.16111111111111112\n",
      "\n",
      "Learning rate  =  1e-05\n",
      "Lambda =  10.0\n",
      "Accuracy score on test set:  0.20277777777777778\n",
      "\n",
      "Learning rate  =  0.0001\n",
      "Lambda =  1e-05\n",
      "Accuracy score on test set:  0.5305555555555556\n",
      "\n",
      "Learning rate  =  0.0001\n",
      "Lambda =  0.0001\n",
      "Accuracy score on test set:  0.5944444444444444\n",
      "\n",
      "Learning rate  =  0.0001\n",
      "Lambda =  0.001\n",
      "Accuracy score on test set:  0.5888888888888889\n",
      "\n",
      "Learning rate  =  0.0001\n",
      "Lambda =  0.01\n",
      "Accuracy score on test set:  0.6111111111111112\n",
      "\n",
      "Learning rate  =  0.0001\n",
      "Lambda =  0.1\n",
      "Accuracy score on test set:  0.5222222222222223\n",
      "\n",
      "Learning rate  =  0.0001\n",
      "Lambda =  1.0\n",
      "Accuracy score on test set:  0.5555555555555556\n",
      "\n",
      "Learning rate  =  0.0001\n",
      "Lambda =  10.0\n",
      "Accuracy score on test set:  0.8055555555555556\n",
      "\n",
      "Learning rate  =  0.001\n",
      "Lambda =  1e-05\n",
      "Accuracy score on test set:  0.85\n",
      "\n",
      "Learning rate  =  0.001\n",
      "Lambda =  0.0001\n",
      "Accuracy score on test set:  0.85\n",
      "\n",
      "Learning rate  =  0.001\n",
      "Lambda =  0.001\n",
      "Accuracy score on test set:  0.875\n",
      "\n",
      "Learning rate  =  0.001\n",
      "Lambda =  0.01\n",
      "Accuracy score on test set:  0.8666666666666667\n",
      "\n",
      "Learning rate  =  0.001\n",
      "Lambda =  0.1\n",
      "Accuracy score on test set:  0.8638888888888889\n",
      "\n",
      "Learning rate  =  0.001\n",
      "Lambda =  1.0\n",
      "Accuracy score on test set:  0.9555555555555556\n",
      "\n",
      "Learning rate  =  0.001\n",
      "Lambda =  10.0\n",
      "Accuracy score on test set:  0.925\n",
      "\n",
      "Learning rate  =  0.01\n",
      "Lambda =  1e-05\n",
<<<<<<< HEAD
      "Accuracy score on test set:  0.9416666666666667\n",
      "\n",
      "Learning rate  =  0.01\n",
      "Lambda =  0.0001\n",
      "Accuracy score on test set:  0.9277777777777778\n",
      "\n",
      "Learning rate  =  0.01\n",
      "Lambda =  0.001\n",
      "Accuracy score on test set:  0.9305555555555556\n",
=======
      "Accuracy score on test set:  0.9472222222222222\n",
      "\n",
      "Learning rate  =  0.01\n",
      "Lambda =  0.0001\n",
      "Accuracy score on test set:  0.9472222222222222\n",
      "\n",
      "Learning rate  =  0.01\n",
      "Lambda =  0.001\n",
      "Accuracy score on test set:  0.9472222222222222\n",
>>>>>>> 7f790b9c98417fd05925e72758b52f6a10263f13
      "\n",
      "Learning rate  =  0.01\n",
      "Lambda =  0.01\n",
      "Accuracy score on test set:  0.9361111111111111\n",
      "\n",
      "Learning rate  =  0.01\n",
      "Lambda =  0.1\n",
<<<<<<< HEAD
      "Accuracy score on test set:  0.9555555555555556\n",
      "\n",
      "Learning rate  =  0.01\n",
      "Lambda =  1.0\n",
      "Accuracy score on test set:  0.95\n",
      "\n",
      "Learning rate  =  0.01\n",
      "Lambda =  10.0\n",
      "Accuracy score on test set:  0.49166666666666664\n",
=======
      "Accuracy score on test set:  0.775\n",
      "\n",
      "Learning rate  =  0.01\n",
      "Lambda =  1.0\n",
      "Accuracy score on test set:  0.8527777777777777\n",
      "\n",
      "Learning rate  =  0.01\n",
      "Lambda =  10.0\n",
      "Accuracy score on test set:  0.21944444444444444\n",
>>>>>>> 7f790b9c98417fd05925e72758b52f6a10263f13
      "\n"
     ]
    },
    {
     "name": "stderr",
     "output_type": "stream",
     "text": [
<<<<<<< HEAD
      "/usr/local/lib/python3.7/site-packages/ipykernel_launcher.py:4: RuntimeWarning: overflow encountered in exp\n",
=======
      "/Users/MortenImac/anaconda3/lib/python3.6/site-packages/ipykernel_launcher.py:4: RuntimeWarning: overflow encountered in exp\n",
>>>>>>> 7f790b9c98417fd05925e72758b52f6a10263f13
      "  after removing the cwd from sys.path.\n"
     ]
    },
    {
     "name": "stdout",
     "output_type": "stream",
     "text": [
      "Learning rate  =  0.1\n",
      "Lambda =  1e-05\n",
<<<<<<< HEAD
      "Accuracy score on test set:  0.09166666666666666\n",
=======
      "Accuracy score on test set:  0.07777777777777778\n",
>>>>>>> 7f790b9c98417fd05925e72758b52f6a10263f13
      "\n",
      "Learning rate  =  0.1\n",
      "Lambda =  0.0001\n",
      "Accuracy score on test set:  0.10555555555555556\n",
      "\n",
      "Learning rate  =  0.1\n",
      "Lambda =  0.001\n",
      "Accuracy score on test set:  0.08888888888888889\n",
      "\n",
      "Learning rate  =  0.1\n",
      "Lambda =  0.01\n",
<<<<<<< HEAD
      "Accuracy score on test set:  0.08888888888888889\n",
=======
      "Accuracy score on test set:  0.11388888888888889\n",
>>>>>>> 7f790b9c98417fd05925e72758b52f6a10263f13
      "\n",
      "Learning rate  =  0.1\n",
      "Lambda =  0.1\n",
      "Accuracy score on test set:  0.08611111111111111\n",
      "\n",
      "Learning rate  =  0.1\n",
      "Lambda =  1.0\n",
<<<<<<< HEAD
      "Accuracy score on test set:  0.07777777777777778\n",
=======
      "Accuracy score on test set:  0.125\n",
>>>>>>> 7f790b9c98417fd05925e72758b52f6a10263f13
      "\n",
      "Learning rate  =  0.1\n",
      "Lambda =  10.0\n",
      "Accuracy score on test set:  0.09166666666666666\n",
      "\n"
     ]
    },
    {
     "name": "stderr",
     "output_type": "stream",
     "text": [
<<<<<<< HEAD
      "/usr/local/lib/python3.7/site-packages/ipykernel_launcher.py:43: RuntimeWarning: overflow encountered in exp\n",
      "/usr/local/lib/python3.7/site-packages/ipykernel_launcher.py:44: RuntimeWarning: invalid value encountered in true_divide\n"
=======
      "/Users/MortenImac/anaconda3/lib/python3.6/site-packages/ipykernel_launcher.py:43: RuntimeWarning: overflow encountered in exp\n",
      "/Users/MortenImac/anaconda3/lib/python3.6/site-packages/ipykernel_launcher.py:44: RuntimeWarning: invalid value encountered in true_divide\n"
>>>>>>> 7f790b9c98417fd05925e72758b52f6a10263f13
     ]
    },
    {
     "name": "stdout",
     "output_type": "stream",
     "text": [
      "Learning rate  =  1.0\n",
      "Lambda =  1e-05\n",
      "Accuracy score on test set:  0.07777777777777778\n",
      "\n",
      "Learning rate  =  1.0\n",
      "Lambda =  0.0001\n",
      "Accuracy score on test set:  0.07777777777777778\n",
      "\n",
      "Learning rate  =  1.0\n",
      "Lambda =  0.001\n",
      "Accuracy score on test set:  0.07777777777777778\n",
      "\n",
      "Learning rate  =  1.0\n",
      "Lambda =  0.01\n",
      "Accuracy score on test set:  0.07777777777777778\n",
      "\n",
      "Learning rate  =  1.0\n",
      "Lambda =  0.1\n",
      "Accuracy score on test set:  0.07777777777777778\n",
      "\n",
      "Learning rate  =  1.0\n",
      "Lambda =  1.0\n",
<<<<<<< HEAD
      "Accuracy score on test set:  0.07777777777777778\n",
=======
      "Accuracy score on test set:  0.125\n",
>>>>>>> 7f790b9c98417fd05925e72758b52f6a10263f13
      "\n",
      "Learning rate  =  1.0\n",
      "Lambda =  10.0\n",
      "Accuracy score on test set:  0.07777777777777778\n",
      "\n",
      "Learning rate  =  10.0\n",
      "Lambda =  1e-05\n",
      "Accuracy score on test set:  0.07777777777777778\n",
      "\n",
      "Learning rate  =  10.0\n",
      "Lambda =  0.0001\n",
      "Accuracy score on test set:  0.07777777777777778\n",
      "\n",
      "Learning rate  =  10.0\n",
      "Lambda =  0.001\n",
      "Accuracy score on test set:  0.07777777777777778\n",
      "\n",
      "Learning rate  =  10.0\n",
      "Lambda =  0.01\n",
      "Accuracy score on test set:  0.07777777777777778\n",
      "\n",
      "Learning rate  =  10.0\n",
      "Lambda =  0.1\n",
      "Accuracy score on test set:  0.07777777777777778\n",
      "\n",
      "Learning rate  =  10.0\n",
      "Lambda =  1.0\n",
      "Accuracy score on test set:  0.07777777777777778\n",
      "\n",
      "Learning rate  =  10.0\n",
      "Lambda =  10.0\n",
      "Accuracy score on test set:  0.07777777777777778\n",
      "\n"
     ]
    }
   ],
   "source": [
    "eta_vals = np.logspace(-5, 1, 7)\n",
    "lmbd_vals = np.logspace(-5, 1, 7)\n",
    "# store the models for later use\n",
    "DNN_numpy = np.zeros((len(eta_vals), len(lmbd_vals)), dtype=object)\n",
    "\n",
    "# grid search\n",
    "for i, eta in enumerate(eta_vals):\n",
    "    for j, lmbd in enumerate(lmbd_vals):\n",
    "        dnn = NeuralNetwork(X_train, Y_train_onehot, eta=eta, lmbd=lmbd, epochs=epochs, batch_size=batch_size,\n",
    "                            n_hidden_neurons=n_hidden_neurons, n_categories=n_categories)\n",
    "        dnn.train()\n",
    "        \n",
    "        DNN_numpy[i][j] = dnn\n",
    "        \n",
    "        test_predict = dnn.predict(X_test)\n",
    "        \n",
    "        print(\"Learning rate  = \", eta)\n",
    "        print(\"Lambda = \", lmbd)\n",
    "        print(\"Accuracy score on test set: \", accuracy_score(Y_test, test_predict))\n",
    "        print()"
   ]
  },
  {
   "cell_type": "markdown",
   "metadata": {},
   "source": [
    "## Visualization"
   ]
  },
  {
   "cell_type": "code",
<<<<<<< HEAD
   "execution_count": 9,
   "metadata": {},
   "outputs": [
    {
     "name": "stderr",
     "output_type": "stream",
     "text": [
      "/usr/local/lib/python3.7/site-packages/matplotlib/__init__.py:886: MatplotlibDeprecationWarning: \n",
      "examples.directory is deprecated; in the future, examples will be found relative to the 'datapath' directory.\n",
      "  \"found relative to the 'datapath' directory.\".format(key))\n",
      "/usr/local/lib/python3.7/site-packages/ipykernel_launcher.py:4: RuntimeWarning: overflow encountered in exp\n",
      "  after removing the cwd from sys.path.\n"
     ]
    },
    {
     "data": {
      "image/png": "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\n",
      "text/plain": [
       "<Figure size 720x720 with 2 Axes>"
      ]
     },
     "metadata": {},
     "output_type": "display_data"
    },
    {
     "data": {
      "image/png": "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\n",
      "text/plain": [
       "<Figure size 720x720 with 2 Axes>"
      ]
     },
     "metadata": {},
     "output_type": "display_data"
    }
   ],
=======
   "execution_count": 10,
   "metadata": {},
   "outputs": [],
>>>>>>> 7f790b9c98417fd05925e72758b52f6a10263f13
   "source": [
    "# visual representation of grid search\n",
    "# uses seaborn heatmap, you can also do this with matplotlib imshow\n",
    "import seaborn as sns\n",
    "\n",
    "sns.set()\n",
    "\n",
    "train_accuracy = np.zeros((len(eta_vals), len(lmbd_vals)))\n",
    "test_accuracy = np.zeros((len(eta_vals), len(lmbd_vals)))\n",
    "\n",
    "for i in range(len(eta_vals)):\n",
    "    for j in range(len(lmbd_vals)):\n",
    "        dnn = DNN_numpy[i][j]\n",
    "        \n",
    "        train_pred = dnn.predict(X_train) \n",
    "        test_pred = dnn.predict(X_test)\n",
    "\n",
    "        train_accuracy[i][j] = accuracy_score(Y_train, train_pred)\n",
    "        test_accuracy[i][j] = accuracy_score(Y_test, test_pred)\n",
    "\n",
    "        \n",
    "fig, ax = plt.subplots(figsize = (10, 10))\n",
    "sns.heatmap(train_accuracy, annot=True, ax=ax, cmap=\"viridis\")\n",
    "ax.set_title(\"Training Accuracy\")\n",
    "ax.set_ylabel(\"$\\eta$\")\n",
    "ax.set_xlabel(\"$\\lambda$\")\n",
    "plt.show()\n",
    "\n",
    "fig, ax = plt.subplots(figsize = (10, 10))\n",
    "sns.heatmap(test_accuracy, annot=True, ax=ax, cmap=\"viridis\")\n",
    "ax.set_title(\"Test Accuracy\")\n",
    "ax.set_ylabel(\"$\\eta$\")\n",
    "ax.set_xlabel(\"$\\lambda$\")\n",
    "plt.show()"
   ]
  },
  {
   "cell_type": "markdown",
   "metadata": {},
   "source": [
    "## scikit-learn implementation\n",
    "\n",
    "**scikit-learn** focuses more\n",
    "on traditional machine learning methods, such as regression,\n",
    "clustering, decision trees, etc. As such, it has only two types of\n",
    "neural networks: Multi Layer Perceptron outputting continuous values,\n",
    "*MPLRegressor*, and Multi Layer Perceptron outputting labels,\n",
    "*MLPClassifier*. We will see how simple it is to use these classes.\n",
    "\n",
    "**scikit-learn** implements a few improvements from our neural network,\n",
    "such as early stopping, a varying learning rate, different\n",
    "optimization methods, etc. We would therefore expect a better\n",
    "performance overall."
   ]
  },
  {
   "cell_type": "code",
   "execution_count": 10,
   "metadata": {},
   "outputs": [
    {
     "name": "stderr",
     "output_type": "stream",
     "text": [
<<<<<<< HEAD
      "/usr/local/lib/python3.7/site-packages/sklearn/neural_network/multilayer_perceptron.py:562: ConvergenceWarning: Stochastic Optimizer: Maximum iterations (100) reached and the optimization hasn't converged yet.\n",
=======
      "/Users/MortenImac/anaconda3/lib/python3.6/site-packages/sklearn/neural_network/_multilayer_perceptron.py:585: ConvergenceWarning: Stochastic Optimizer: Maximum iterations (100) reached and the optimization hasn't converged yet.\n",
>>>>>>> 7f790b9c98417fd05925e72758b52f6a10263f13
      "  % self.max_iter, ConvergenceWarning)\n"
     ]
    },
    {
     "name": "stdout",
     "output_type": "stream",
     "text": [
      "Learning rate  =  1e-05\n",
      "Lambda =  1e-05\n",
      "Accuracy score on test set:  0.18333333333333332\n",
      "\n"
     ]
    },
    {
     "name": "stderr",
     "output_type": "stream",
     "text": [
<<<<<<< HEAD
      "/usr/local/lib/python3.7/site-packages/sklearn/neural_network/multilayer_perceptron.py:562: ConvergenceWarning: Stochastic Optimizer: Maximum iterations (100) reached and the optimization hasn't converged yet.\n",
=======
      "/Users/MortenImac/anaconda3/lib/python3.6/site-packages/sklearn/neural_network/_multilayer_perceptron.py:585: ConvergenceWarning: Stochastic Optimizer: Maximum iterations (100) reached and the optimization hasn't converged yet.\n",
>>>>>>> 7f790b9c98417fd05925e72758b52f6a10263f13
      "  % self.max_iter, ConvergenceWarning)\n"
     ]
    },
    {
     "name": "stdout",
     "output_type": "stream",
     "text": [
      "Learning rate  =  1e-05\n",
      "Lambda =  0.0001\n",
      "Accuracy score on test set:  0.18611111111111112\n",
      "\n"
     ]
    },
    {
     "name": "stderr",
     "output_type": "stream",
     "text": [
<<<<<<< HEAD
      "/usr/local/lib/python3.7/site-packages/sklearn/neural_network/multilayer_perceptron.py:562: ConvergenceWarning: Stochastic Optimizer: Maximum iterations (100) reached and the optimization hasn't converged yet.\n",
=======
      "/Users/MortenImac/anaconda3/lib/python3.6/site-packages/sklearn/neural_network/_multilayer_perceptron.py:585: ConvergenceWarning: Stochastic Optimizer: Maximum iterations (100) reached and the optimization hasn't converged yet.\n",
>>>>>>> 7f790b9c98417fd05925e72758b52f6a10263f13
      "  % self.max_iter, ConvergenceWarning)\n"
     ]
    },
    {
     "name": "stdout",
     "output_type": "stream",
     "text": [
      "Learning rate  =  1e-05\n",
      "Lambda =  0.001\n",
      "Accuracy score on test set:  0.13055555555555556\n",
      "\n"
     ]
    },
    {
     "name": "stderr",
     "output_type": "stream",
     "text": [
<<<<<<< HEAD
      "/usr/local/lib/python3.7/site-packages/sklearn/neural_network/multilayer_perceptron.py:562: ConvergenceWarning: Stochastic Optimizer: Maximum iterations (100) reached and the optimization hasn't converged yet.\n",
=======
      "/Users/MortenImac/anaconda3/lib/python3.6/site-packages/sklearn/neural_network/_multilayer_perceptron.py:585: ConvergenceWarning: Stochastic Optimizer: Maximum iterations (100) reached and the optimization hasn't converged yet.\n",
>>>>>>> 7f790b9c98417fd05925e72758b52f6a10263f13
      "  % self.max_iter, ConvergenceWarning)\n"
     ]
    },
    {
     "name": "stdout",
     "output_type": "stream",
     "text": [
      "Learning rate  =  1e-05\n",
      "Lambda =  0.01\n",
      "Accuracy score on test set:  0.24444444444444444\n",
      "\n"
     ]
    },
    {
     "name": "stderr",
     "output_type": "stream",
     "text": [
<<<<<<< HEAD
      "/usr/local/lib/python3.7/site-packages/sklearn/neural_network/multilayer_perceptron.py:562: ConvergenceWarning: Stochastic Optimizer: Maximum iterations (100) reached and the optimization hasn't converged yet.\n",
=======
      "/Users/MortenImac/anaconda3/lib/python3.6/site-packages/sklearn/neural_network/_multilayer_perceptron.py:585: ConvergenceWarning: Stochastic Optimizer: Maximum iterations (100) reached and the optimization hasn't converged yet.\n",
>>>>>>> 7f790b9c98417fd05925e72758b52f6a10263f13
      "  % self.max_iter, ConvergenceWarning)\n"
     ]
    },
    {
     "name": "stdout",
     "output_type": "stream",
     "text": [
      "Learning rate  =  1e-05\n",
      "Lambda =  0.1\n",
      "Accuracy score on test set:  0.23333333333333334\n",
      "\n"
     ]
    },
    {
     "name": "stderr",
     "output_type": "stream",
     "text": [
<<<<<<< HEAD
      "/usr/local/lib/python3.7/site-packages/sklearn/neural_network/multilayer_perceptron.py:562: ConvergenceWarning: Stochastic Optimizer: Maximum iterations (100) reached and the optimization hasn't converged yet.\n",
=======
      "/Users/MortenImac/anaconda3/lib/python3.6/site-packages/sklearn/neural_network/_multilayer_perceptron.py:585: ConvergenceWarning: Stochastic Optimizer: Maximum iterations (100) reached and the optimization hasn't converged yet.\n",
>>>>>>> 7f790b9c98417fd05925e72758b52f6a10263f13
      "  % self.max_iter, ConvergenceWarning)\n"
     ]
    },
    {
     "name": "stdout",
     "output_type": "stream",
     "text": [
      "Learning rate  =  1e-05\n",
      "Lambda =  1.0\n",
      "Accuracy score on test set:  0.12777777777777777\n",
      "\n"
     ]
    },
    {
     "name": "stderr",
     "output_type": "stream",
     "text": [
<<<<<<< HEAD
      "/usr/local/lib/python3.7/site-packages/sklearn/neural_network/multilayer_perceptron.py:562: ConvergenceWarning: Stochastic Optimizer: Maximum iterations (100) reached and the optimization hasn't converged yet.\n",
=======
      "/Users/MortenImac/anaconda3/lib/python3.6/site-packages/sklearn/neural_network/_multilayer_perceptron.py:585: ConvergenceWarning: Stochastic Optimizer: Maximum iterations (100) reached and the optimization hasn't converged yet.\n",
>>>>>>> 7f790b9c98417fd05925e72758b52f6a10263f13
      "  % self.max_iter, ConvergenceWarning)\n"
     ]
    },
    {
     "name": "stdout",
     "output_type": "stream",
     "text": [
      "Learning rate  =  1e-05\n",
      "Lambda =  10.0\n",
      "Accuracy score on test set:  0.1527777777777778\n",
      "\n"
     ]
    },
    {
     "name": "stderr",
     "output_type": "stream",
     "text": [
<<<<<<< HEAD
      "/usr/local/lib/python3.7/site-packages/sklearn/neural_network/multilayer_perceptron.py:562: ConvergenceWarning: Stochastic Optimizer: Maximum iterations (100) reached and the optimization hasn't converged yet.\n",
=======
      "/Users/MortenImac/anaconda3/lib/python3.6/site-packages/sklearn/neural_network/_multilayer_perceptron.py:585: ConvergenceWarning: Stochastic Optimizer: Maximum iterations (100) reached and the optimization hasn't converged yet.\n",
>>>>>>> 7f790b9c98417fd05925e72758b52f6a10263f13
      "  % self.max_iter, ConvergenceWarning)\n"
     ]
    },
    {
     "name": "stdout",
     "output_type": "stream",
     "text": [
      "Learning rate  =  0.0001\n",
      "Lambda =  1e-05\n",
      "Accuracy score on test set:  0.9111111111111111\n",
      "\n"
     ]
    },
    {
     "name": "stderr",
     "output_type": "stream",
     "text": [
<<<<<<< HEAD
      "/usr/local/lib/python3.7/site-packages/sklearn/neural_network/multilayer_perceptron.py:562: ConvergenceWarning: Stochastic Optimizer: Maximum iterations (100) reached and the optimization hasn't converged yet.\n",
=======
      "/Users/MortenImac/anaconda3/lib/python3.6/site-packages/sklearn/neural_network/_multilayer_perceptron.py:585: ConvergenceWarning: Stochastic Optimizer: Maximum iterations (100) reached and the optimization hasn't converged yet.\n",
>>>>>>> 7f790b9c98417fd05925e72758b52f6a10263f13
      "  % self.max_iter, ConvergenceWarning)\n"
     ]
    },
    {
     "name": "stdout",
     "output_type": "stream",
     "text": [
      "Learning rate  =  0.0001\n",
      "Lambda =  0.0001\n",
      "Accuracy score on test set:  0.8888888888888888\n",
      "\n"
     ]
    },
    {
     "name": "stderr",
     "output_type": "stream",
     "text": [
<<<<<<< HEAD
      "/usr/local/lib/python3.7/site-packages/sklearn/neural_network/multilayer_perceptron.py:562: ConvergenceWarning: Stochastic Optimizer: Maximum iterations (100) reached and the optimization hasn't converged yet.\n",
=======
      "/Users/MortenImac/anaconda3/lib/python3.6/site-packages/sklearn/neural_network/_multilayer_perceptron.py:585: ConvergenceWarning: Stochastic Optimizer: Maximum iterations (100) reached and the optimization hasn't converged yet.\n",
>>>>>>> 7f790b9c98417fd05925e72758b52f6a10263f13
      "  % self.max_iter, ConvergenceWarning)\n"
     ]
    },
    {
     "name": "stdout",
     "output_type": "stream",
     "text": [
      "Learning rate  =  0.0001\n",
      "Lambda =  0.001\n",
      "Accuracy score on test set:  0.8722222222222222\n",
      "\n"
     ]
    },
    {
     "name": "stderr",
     "output_type": "stream",
     "text": [
<<<<<<< HEAD
      "/usr/local/lib/python3.7/site-packages/sklearn/neural_network/multilayer_perceptron.py:562: ConvergenceWarning: Stochastic Optimizer: Maximum iterations (100) reached and the optimization hasn't converged yet.\n",
=======
      "/Users/MortenImac/anaconda3/lib/python3.6/site-packages/sklearn/neural_network/_multilayer_perceptron.py:585: ConvergenceWarning: Stochastic Optimizer: Maximum iterations (100) reached and the optimization hasn't converged yet.\n",
>>>>>>> 7f790b9c98417fd05925e72758b52f6a10263f13
      "  % self.max_iter, ConvergenceWarning)\n"
     ]
    },
    {
     "name": "stdout",
     "output_type": "stream",
     "text": [
      "Learning rate  =  0.0001\n",
      "Lambda =  0.01\n",
      "Accuracy score on test set:  0.8305555555555556\n",
      "\n"
     ]
    },
    {
     "name": "stderr",
     "output_type": "stream",
     "text": [
<<<<<<< HEAD
      "/usr/local/lib/python3.7/site-packages/sklearn/neural_network/multilayer_perceptron.py:562: ConvergenceWarning: Stochastic Optimizer: Maximum iterations (100) reached and the optimization hasn't converged yet.\n",
=======
      "/Users/MortenImac/anaconda3/lib/python3.6/site-packages/sklearn/neural_network/_multilayer_perceptron.py:585: ConvergenceWarning: Stochastic Optimizer: Maximum iterations (100) reached and the optimization hasn't converged yet.\n",
>>>>>>> 7f790b9c98417fd05925e72758b52f6a10263f13
      "  % self.max_iter, ConvergenceWarning)\n"
     ]
    },
    {
     "name": "stdout",
     "output_type": "stream",
     "text": [
      "Learning rate  =  0.0001\n",
      "Lambda =  0.1\n",
      "Accuracy score on test set:  0.8888888888888888\n",
      "\n"
     ]
    },
    {
     "name": "stderr",
     "output_type": "stream",
     "text": [
<<<<<<< HEAD
      "/usr/local/lib/python3.7/site-packages/sklearn/neural_network/multilayer_perceptron.py:562: ConvergenceWarning: Stochastic Optimizer: Maximum iterations (100) reached and the optimization hasn't converged yet.\n",
=======
      "/Users/MortenImac/anaconda3/lib/python3.6/site-packages/sklearn/neural_network/_multilayer_perceptron.py:585: ConvergenceWarning: Stochastic Optimizer: Maximum iterations (100) reached and the optimization hasn't converged yet.\n",
>>>>>>> 7f790b9c98417fd05925e72758b52f6a10263f13
      "  % self.max_iter, ConvergenceWarning)\n"
     ]
    },
    {
     "name": "stdout",
     "output_type": "stream",
     "text": [
      "Learning rate  =  0.0001\n",
      "Lambda =  1.0\n",
      "Accuracy score on test set:  0.8805555555555555\n",
      "\n"
     ]
    },
    {
     "name": "stderr",
     "output_type": "stream",
     "text": [
<<<<<<< HEAD
      "/usr/local/lib/python3.7/site-packages/sklearn/neural_network/multilayer_perceptron.py:562: ConvergenceWarning: Stochastic Optimizer: Maximum iterations (100) reached and the optimization hasn't converged yet.\n",
=======
      "/Users/MortenImac/anaconda3/lib/python3.6/site-packages/sklearn/neural_network/_multilayer_perceptron.py:585: ConvergenceWarning: Stochastic Optimizer: Maximum iterations (100) reached and the optimization hasn't converged yet.\n",
>>>>>>> 7f790b9c98417fd05925e72758b52f6a10263f13
      "  % self.max_iter, ConvergenceWarning)\n"
     ]
    },
    {
     "name": "stdout",
     "output_type": "stream",
     "text": [
      "Learning rate  =  0.0001\n",
      "Lambda =  10.0\n",
      "Accuracy score on test set:  0.8944444444444445\n",
      "\n"
     ]
    },
    {
     "name": "stderr",
     "output_type": "stream",
     "text": [
<<<<<<< HEAD
      "/usr/local/lib/python3.7/site-packages/sklearn/neural_network/multilayer_perceptron.py:562: ConvergenceWarning: Stochastic Optimizer: Maximum iterations (100) reached and the optimization hasn't converged yet.\n",
=======
      "/Users/MortenImac/anaconda3/lib/python3.6/site-packages/sklearn/neural_network/_multilayer_perceptron.py:585: ConvergenceWarning: Stochastic Optimizer: Maximum iterations (100) reached and the optimization hasn't converged yet.\n",
>>>>>>> 7f790b9c98417fd05925e72758b52f6a10263f13
      "  % self.max_iter, ConvergenceWarning)\n"
     ]
    },
    {
     "name": "stdout",
     "output_type": "stream",
     "text": [
      "Learning rate  =  0.001\n",
      "Lambda =  1e-05\n",
      "Accuracy score on test set:  0.975\n",
      "\n"
     ]
    },
    {
     "name": "stderr",
     "output_type": "stream",
     "text": [
<<<<<<< HEAD
      "/usr/local/lib/python3.7/site-packages/sklearn/neural_network/multilayer_perceptron.py:562: ConvergenceWarning: Stochastic Optimizer: Maximum iterations (100) reached and the optimization hasn't converged yet.\n",
=======
      "/Users/MortenImac/anaconda3/lib/python3.6/site-packages/sklearn/neural_network/_multilayer_perceptron.py:585: ConvergenceWarning: Stochastic Optimizer: Maximum iterations (100) reached and the optimization hasn't converged yet.\n",
>>>>>>> 7f790b9c98417fd05925e72758b52f6a10263f13
      "  % self.max_iter, ConvergenceWarning)\n"
     ]
    },
    {
     "name": "stdout",
     "output_type": "stream",
     "text": [
      "Learning rate  =  0.001\n",
      "Lambda =  0.0001\n",
      "Accuracy score on test set:  0.9777777777777777\n",
      "\n"
     ]
    },
    {
     "name": "stderr",
     "output_type": "stream",
     "text": [
<<<<<<< HEAD
      "/usr/local/lib/python3.7/site-packages/sklearn/neural_network/multilayer_perceptron.py:562: ConvergenceWarning: Stochastic Optimizer: Maximum iterations (100) reached and the optimization hasn't converged yet.\n",
=======
      "/Users/MortenImac/anaconda3/lib/python3.6/site-packages/sklearn/neural_network/_multilayer_perceptron.py:585: ConvergenceWarning: Stochastic Optimizer: Maximum iterations (100) reached and the optimization hasn't converged yet.\n",
>>>>>>> 7f790b9c98417fd05925e72758b52f6a10263f13
      "  % self.max_iter, ConvergenceWarning)\n"
     ]
    },
    {
     "name": "stdout",
     "output_type": "stream",
     "text": [
      "Learning rate  =  0.001\n",
      "Lambda =  0.001\n",
      "Accuracy score on test set:  0.9805555555555555\n",
      "\n"
     ]
    },
    {
     "name": "stderr",
     "output_type": "stream",
     "text": [
<<<<<<< HEAD
      "/usr/local/lib/python3.7/site-packages/sklearn/neural_network/multilayer_perceptron.py:562: ConvergenceWarning: Stochastic Optimizer: Maximum iterations (100) reached and the optimization hasn't converged yet.\n",
=======
      "/Users/MortenImac/anaconda3/lib/python3.6/site-packages/sklearn/neural_network/_multilayer_perceptron.py:585: ConvergenceWarning: Stochastic Optimizer: Maximum iterations (100) reached and the optimization hasn't converged yet.\n",
>>>>>>> 7f790b9c98417fd05925e72758b52f6a10263f13
      "  % self.max_iter, ConvergenceWarning)\n"
     ]
    },
    {
     "name": "stdout",
     "output_type": "stream",
     "text": [
      "Learning rate  =  0.001\n",
      "Lambda =  0.01\n",
      "Accuracy score on test set:  0.9861111111111112\n",
      "\n"
     ]
    },
    {
     "name": "stderr",
     "output_type": "stream",
     "text": [
<<<<<<< HEAD
      "/usr/local/lib/python3.7/site-packages/sklearn/neural_network/multilayer_perceptron.py:562: ConvergenceWarning: Stochastic Optimizer: Maximum iterations (100) reached and the optimization hasn't converged yet.\n",
=======
      "/Users/MortenImac/anaconda3/lib/python3.6/site-packages/sklearn/neural_network/_multilayer_perceptron.py:585: ConvergenceWarning: Stochastic Optimizer: Maximum iterations (100) reached and the optimization hasn't converged yet.\n",
>>>>>>> 7f790b9c98417fd05925e72758b52f6a10263f13
      "  % self.max_iter, ConvergenceWarning)\n"
     ]
    },
    {
     "name": "stdout",
     "output_type": "stream",
     "text": [
      "Learning rate  =  0.001\n",
      "Lambda =  0.1\n",
      "Accuracy score on test set:  0.9805555555555555\n",
      "\n"
     ]
    },
    {
     "name": "stderr",
     "output_type": "stream",
     "text": [
<<<<<<< HEAD
      "/usr/local/lib/python3.7/site-packages/sklearn/neural_network/multilayer_perceptron.py:562: ConvergenceWarning: Stochastic Optimizer: Maximum iterations (100) reached and the optimization hasn't converged yet.\n",
=======
      "/Users/MortenImac/anaconda3/lib/python3.6/site-packages/sklearn/neural_network/_multilayer_perceptron.py:585: ConvergenceWarning: Stochastic Optimizer: Maximum iterations (100) reached and the optimization hasn't converged yet.\n",
>>>>>>> 7f790b9c98417fd05925e72758b52f6a10263f13
      "  % self.max_iter, ConvergenceWarning)\n"
     ]
    },
    {
     "name": "stdout",
     "output_type": "stream",
     "text": [
      "Learning rate  =  0.001\n",
      "Lambda =  1.0\n",
      "Accuracy score on test set:  0.9777777777777777\n",
      "\n"
     ]
    },
    {
     "name": "stderr",
     "output_type": "stream",
     "text": [
<<<<<<< HEAD
      "/usr/local/lib/python3.7/site-packages/sklearn/neural_network/multilayer_perceptron.py:562: ConvergenceWarning: Stochastic Optimizer: Maximum iterations (100) reached and the optimization hasn't converged yet.\n",
=======
      "/Users/MortenImac/anaconda3/lib/python3.6/site-packages/sklearn/neural_network/_multilayer_perceptron.py:585: ConvergenceWarning: Stochastic Optimizer: Maximum iterations (100) reached and the optimization hasn't converged yet.\n",
>>>>>>> 7f790b9c98417fd05925e72758b52f6a10263f13
      "  % self.max_iter, ConvergenceWarning)\n"
     ]
    },
    {
     "name": "stdout",
     "output_type": "stream",
     "text": [
      "Learning rate  =  0.001\n",
      "Lambda =  10.0\n",
      "Accuracy score on test set:  0.9444444444444444\n",
      "\n"
     ]
    },
    {
     "name": "stderr",
     "output_type": "stream",
     "text": [
<<<<<<< HEAD
      "/usr/local/lib/python3.7/site-packages/sklearn/neural_network/multilayer_perceptron.py:562: ConvergenceWarning: Stochastic Optimizer: Maximum iterations (100) reached and the optimization hasn't converged yet.\n",
=======
      "/Users/MortenImac/anaconda3/lib/python3.6/site-packages/sklearn/neural_network/_multilayer_perceptron.py:585: ConvergenceWarning: Stochastic Optimizer: Maximum iterations (100) reached and the optimization hasn't converged yet.\n",
>>>>>>> 7f790b9c98417fd05925e72758b52f6a10263f13
      "  % self.max_iter, ConvergenceWarning)\n"
     ]
    },
    {
     "name": "stdout",
     "output_type": "stream",
     "text": [
      "Learning rate  =  0.01\n",
      "Lambda =  1e-05\n",
      "Accuracy score on test set:  0.9861111111111112\n",
      "\n",
      "Learning rate  =  0.01\n",
      "Lambda =  0.0001\n",
      "Accuracy score on test set:  0.9888888888888889\n",
      "\n",
      "Learning rate  =  0.01\n",
      "Lambda =  0.001\n",
      "Accuracy score on test set:  0.9888888888888889\n",
      "\n",
      "Learning rate  =  0.01\n",
      "Lambda =  0.01\n",
      "Accuracy score on test set:  0.9861111111111112\n",
      "\n",
      "Learning rate  =  0.01\n",
      "Lambda =  0.1\n",
      "Accuracy score on test set:  0.9888888888888889\n",
      "\n",
      "Learning rate  =  0.01\n",
      "Lambda =  1.0\n",
      "Accuracy score on test set:  0.9722222222222222\n",
      "\n",
      "Learning rate  =  0.01\n",
      "Lambda =  10.0\n",
      "Accuracy score on test set:  0.9527777777777777\n",
      "\n",
      "Learning rate  =  0.1\n",
      "Lambda =  1e-05\n",
<<<<<<< HEAD
      "Accuracy score on test set:  0.875\n",
      "\n",
      "Learning rate  =  0.1\n",
      "Lambda =  0.0001\n",
      "Accuracy score on test set:  0.9055555555555556\n",
      "\n",
      "Learning rate  =  0.1\n",
      "Lambda =  0.001\n",
      "Accuracy score on test set:  0.9277777777777778\n",
=======
      "Accuracy score on test set:  0.9472222222222222\n",
      "\n",
      "Learning rate  =  0.1\n",
      "Lambda =  0.0001\n",
      "Accuracy score on test set:  0.9083333333333333\n",
      "\n",
      "Learning rate  =  0.1\n",
      "Lambda =  0.001\n",
      "Accuracy score on test set:  0.8666666666666667\n",
>>>>>>> 7f790b9c98417fd05925e72758b52f6a10263f13
      "\n",
      "Learning rate  =  0.1\n",
      "Lambda =  0.01\n",
      "Accuracy score on test set:  0.9055555555555556\n",
      "\n",
      "Learning rate  =  0.1\n",
      "Lambda =  0.1\n",
<<<<<<< HEAD
      "Accuracy score on test set:  0.8472222222222222\n",
      "\n",
      "Learning rate  =  0.1\n",
      "Lambda =  1.0\n",
      "Accuracy score on test set:  0.85\n",
      "\n",
      "Learning rate  =  0.1\n",
      "Lambda =  10.0\n",
      "Accuracy score on test set:  0.675\n",
      "\n",
      "Learning rate  =  1.0\n",
      "Lambda =  1e-05\n",
      "Accuracy score on test set:  0.23055555555555557\n",
      "\n",
      "Learning rate  =  1.0\n",
      "Lambda =  0.0001\n",
      "Accuracy score on test set:  0.3111111111111111\n",
      "\n",
      "Learning rate  =  1.0\n",
      "Lambda =  0.001\n",
      "Accuracy score on test set:  0.11388888888888889\n",
      "\n",
      "Learning rate  =  1.0\n",
      "Lambda =  0.01\n",
      "Accuracy score on test set:  0.08611111111111111\n",
      "\n",
      "Learning rate  =  1.0\n",
      "Lambda =  0.1\n",
      "Accuracy score on test set:  0.13055555555555556\n",
      "\n",
      "Learning rate  =  1.0\n",
      "Lambda =  1.0\n",
      "Accuracy score on test set:  0.08888888888888889\n",
      "\n",
      "Learning rate  =  1.0\n",
      "Lambda =  10.0\n",
      "Accuracy score on test set:  0.07777777777777778\n",
      "\n",
      "Learning rate  =  10.0\n",
      "Lambda =  1e-05\n",
      "Accuracy score on test set:  0.08888888888888889\n",
      "\n",
      "Learning rate  =  10.0\n",
      "Lambda =  0.0001\n",
      "Accuracy score on test set:  0.09722222222222222\n",
=======
      "Accuracy score on test set:  0.9166666666666666\n",
      "\n",
      "Learning rate  =  0.1\n",
      "Lambda =  1.0\n",
      "Accuracy score on test set:  0.8916666666666667\n",
      "\n",
      "Learning rate  =  0.1\n",
      "Lambda =  10.0\n",
      "Accuracy score on test set:  0.8666666666666667\n",
      "\n",
      "Learning rate  =  1.0\n",
      "Lambda =  1e-05\n",
      "Accuracy score on test set:  0.125\n",
      "\n",
      "Learning rate  =  1.0\n",
      "Lambda =  0.0001\n",
      "Accuracy score on test set:  0.16111111111111112\n",
      "\n",
      "Learning rate  =  1.0\n",
      "Lambda =  0.001\n",
      "Accuracy score on test set:  0.33611111111111114\n",
      "\n",
      "Learning rate  =  1.0\n",
      "Lambda =  0.01\n",
      "Accuracy score on test set:  0.19444444444444445\n",
      "\n",
      "Learning rate  =  1.0\n",
      "Lambda =  0.1\n",
      "Accuracy score on test set:  0.2361111111111111\n",
      "\n",
      "Learning rate  =  1.0\n",
      "Lambda =  1.0\n",
      "Accuracy score on test set:  0.09166666666666666\n",
      "\n",
      "Learning rate  =  1.0\n",
      "Lambda =  10.0\n",
      "Accuracy score on test set:  0.12777777777777777\n",
      "\n",
      "Learning rate  =  10.0\n",
      "Lambda =  1e-05\n",
      "Accuracy score on test set:  0.07777777777777778\n",
      "\n",
      "Learning rate  =  10.0\n",
      "Lambda =  0.0001\n",
      "Accuracy score on test set:  0.2\n",
>>>>>>> 7f790b9c98417fd05925e72758b52f6a10263f13
      "\n",
      "Learning rate  =  10.0\n",
      "Lambda =  0.001\n",
      "Accuracy score on test set:  0.10555555555555556\n",
      "\n",
      "Learning rate  =  10.0\n",
      "Lambda =  0.01\n",
<<<<<<< HEAD
      "Accuracy score on test set:  0.08888888888888889\n",
      "\n",
      "Learning rate  =  10.0\n",
      "Lambda =  0.1\n",
      "Accuracy score on test set:  0.10555555555555556\n",
      "\n",
      "Learning rate  =  10.0\n",
      "Lambda =  1.0\n",
      "Accuracy score on test set:  0.07777777777777778\n",
=======
      "Accuracy score on test set:  0.06388888888888888\n",
      "\n",
      "Learning rate  =  10.0\n",
      "Lambda =  0.1\n",
      "Accuracy score on test set:  0.08888888888888889\n",
      "\n",
      "Learning rate  =  10.0\n",
      "Lambda =  1.0\n",
      "Accuracy score on test set:  0.13333333333333333\n",
>>>>>>> 7f790b9c98417fd05925e72758b52f6a10263f13
      "\n",
      "Learning rate  =  10.0\n",
      "Lambda =  10.0\n",
      "Accuracy score on test set:  0.09166666666666666\n",
      "\n"
     ]
    }
   ],
   "source": [
    "from sklearn.neural_network import MLPClassifier\n",
    "# store models for later use\n",
    "DNN_scikit = np.zeros((len(eta_vals), len(lmbd_vals)), dtype=object)\n",
    "\n",
    "for i, eta in enumerate(eta_vals):\n",
    "    for j, lmbd in enumerate(lmbd_vals):\n",
    "        dnn = MLPClassifier(hidden_layer_sizes=(n_hidden_neurons), activation='logistic',\n",
    "                            alpha=lmbd, learning_rate_init=eta, max_iter=epochs)\n",
    "        dnn.fit(X_train, Y_train)\n",
    "        \n",
    "        DNN_scikit[i][j] = dnn\n",
    "        \n",
    "        print(\"Learning rate  = \", eta)\n",
    "        print(\"Lambda = \", lmbd)\n",
    "        print(\"Accuracy score on test set: \", dnn.score(X_test, Y_test))\n",
    "        print()"
   ]
  },
  {
   "cell_type": "markdown",
   "metadata": {},
   "source": [
    "## Visualization"
   ]
  },
  {
   "cell_type": "code",
   "execution_count": 11,
   "metadata": {},
   "outputs": [
    {
     "data": {
<<<<<<< HEAD
      "image/png": "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\n",
=======
      "image/png": "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\n",
>>>>>>> 7f790b9c98417fd05925e72758b52f6a10263f13
      "text/plain": [
       "<Figure size 720x720 with 2 Axes>"
      ]
     },
     "metadata": {},
     "output_type": "display_data"
    },
    {
     "data": {
<<<<<<< HEAD
      "image/png": "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\n",
=======
      "image/png": "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\n",
>>>>>>> 7f790b9c98417fd05925e72758b52f6a10263f13
      "text/plain": [
       "<Figure size 720x720 with 2 Axes>"
      ]
     },
     "metadata": {},
     "output_type": "display_data"
    }
   ],
   "source": [
    "# optional\n",
    "# visual representation of grid search\n",
    "# uses seaborn heatmap, could probably do this in matplotlib\n",
    "import seaborn as sns\n",
    "\n",
    "sns.set()\n",
    "\n",
    "train_accuracy = np.zeros((len(eta_vals), len(lmbd_vals)))\n",
    "test_accuracy = np.zeros((len(eta_vals), len(lmbd_vals)))\n",
    "\n",
    "for i in range(len(eta_vals)):\n",
    "    for j in range(len(lmbd_vals)):\n",
    "        dnn = DNN_scikit[i][j]\n",
    "        \n",
    "        train_pred = dnn.predict(X_train) \n",
    "        test_pred = dnn.predict(X_test)\n",
    "\n",
    "        train_accuracy[i][j] = accuracy_score(Y_train, train_pred)\n",
    "        test_accuracy[i][j] = accuracy_score(Y_test, test_pred)\n",
    "\n",
    "        \n",
    "fig, ax = plt.subplots(figsize = (10, 10))\n",
    "sns.heatmap(train_accuracy, annot=True, ax=ax, cmap=\"viridis\")\n",
    "ax.set_title(\"Training Accuracy\")\n",
    "ax.set_ylabel(\"$\\eta$\")\n",
    "ax.set_xlabel(\"$\\lambda$\")\n",
    "plt.show()\n",
    "\n",
    "fig, ax = plt.subplots(figsize = (10, 10))\n",
    "sns.heatmap(test_accuracy, annot=True, ax=ax, cmap=\"viridis\")\n",
    "ax.set_title(\"Test Accuracy\")\n",
    "ax.set_ylabel(\"$\\eta$\")\n",
    "ax.set_xlabel(\"$\\lambda$\")\n",
    "plt.show()"
   ]
  },
  {
   "cell_type": "markdown",
   "metadata": {},
   "source": [
    "## Building neural networks in Tensorflow and Keras\n",
    "\n",
    "Now we want  to build on the experience gained from our neural network implementation in NumPy and scikit-learn\n",
    "and use it to construct a neural network in Tensorflow. Once we have constructed a neural network in NumPy\n",
    "and Tensorflow, building one in Keras is really quite trivial, though the performance may suffer.  \n",
    "\n",
    "In our previous example we used only one hidden layer, and in this we will use two. From this it should be quite\n",
    "clear how to build one using an arbitrary number of hidden layers, using data structures such as Python lists or\n",
    "NumPy arrays.\n",
    "\n",
    "## Tensorflow\n",
    "\n",
    "Tensorflow is an open source library machine learning library\n",
    "developed by the Google Brain team for internal use. It was released\n",
    "under the Apache 2.0 open source license in November 9, 2015.\n",
    "\n",
    "Tensorflow is a computational framework that allows you to construct\n",
    "machine learning models at different levels of abstraction, from\n",
    "high-level, object-oriented APIs like Keras, down to the C++ kernels\n",
    "that Tensorflow is built upon. The higher levels of abstraction are\n",
    "simpler to use, but less flexible, and our choice of implementation\n",
    "should reflect the problems we are trying to solve.\n",
    "\n",
    "[Tensorflow uses](https://www.tensorflow.org/guide/graphs) so-called graphs to represent your computation\n",
    "in terms of the dependencies between individual operations, such that you first build a Tensorflow *graph*\n",
    "to represent your model, and then create a Tensorflow *session* to run the graph.\n",
    "\n",
    "In this guide we will analyze the same data as we did in our NumPy and\n",
    "scikit-learn tutorial, gathered from the MNIST database of images. We\n",
    "will give an introduction to the lower level Python Application\n",
    "Program Interfaces (APIs), and see how we use them to build our graph.\n",
    "Then we will build (effectively) the same graph in Keras, to see just\n",
    "how simple solving a machine learning problem can be.\n",
    "\n",
    "To install tensorflow on Unix/Linux systems, use pip as"
   ]
  },
  {
   "cell_type": "code",
   "execution_count": 13,
   "metadata": {},
   "outputs": [],
   "source": [
    "pip3 install tensorflow"
   ]
  },
  {
   "cell_type": "markdown",
   "metadata": {},
   "source": [
    "and/or if you use **anaconda**, just write (or install from the graphical user interface)"
   ]
  },
  {
   "cell_type": "code",
   "execution_count": 14,
   "metadata": {},
   "outputs": [],
   "source": [
    "conda install tensorflow"
   ]
  },
  {
   "cell_type": "markdown",
   "metadata": {},
   "source": [
    "## Collect and pre-process data"
   ]
  },
  {
   "cell_type": "code",
<<<<<<< HEAD
   "execution_count": 15,
   "metadata": {},
   "outputs": [],
=======
   "execution_count": 12,
   "metadata": {},
   "outputs": [
    {
     "name": "stdout",
     "output_type": "stream",
     "text": [
      "inputs = (n_inputs, pixel_width, pixel_height) = (1797, 8, 8)\n",
      "labels = (n_inputs) = (1797,)\n",
      "X = (n_inputs, n_features) = (1797, 64)\n"
     ]
    },
    {
     "data": {
      "image/png": "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\n",
      "text/plain": [
       "<Figure size 864x864 with 5 Axes>"
      ]
     },
     "metadata": {
      "needs_background": "light"
     },
     "output_type": "display_data"
    }
   ],
>>>>>>> 7f790b9c98417fd05925e72758b52f6a10263f13
   "source": [
    "# import necessary packages\n",
    "import numpy as np\n",
    "import matplotlib.pyplot as plt\n",
    "from sklearn import datasets\n",
    "\n",
    "\n",
    "# ensure the same random numbers appear every time\n",
    "np.random.seed(0)\n",
    "\n",
    "# display images in notebook\n",
    "%matplotlib inline\n",
    "plt.rcParams['figure.figsize'] = (12,12)\n",
    "\n",
    "\n",
    "# download MNIST dataset\n",
    "digits = datasets.load_digits()\n",
    "\n",
    "# define inputs and labels\n",
    "inputs = digits.images\n",
    "labels = digits.target\n",
    "\n",
    "print(\"inputs = (n_inputs, pixel_width, pixel_height) = \" + str(inputs.shape))\n",
    "print(\"labels = (n_inputs) = \" + str(labels.shape))\n",
    "\n",
    "\n",
    "# flatten the image\n",
    "# the value -1 means dimension is inferred from the remaining dimensions: 8x8 = 64\n",
    "n_inputs = len(inputs)\n",
    "inputs = inputs.reshape(n_inputs, -1)\n",
    "print(\"X = (n_inputs, n_features) = \" + str(inputs.shape))\n",
    "\n",
    "\n",
    "# choose some random images to display\n",
    "indices = np.arange(n_inputs)\n",
    "random_indices = np.random.choice(indices, size=5)\n",
    "\n",
    "for i, image in enumerate(digits.images[random_indices]):\n",
    "    plt.subplot(1, 5, i+1)\n",
    "    plt.axis('off')\n",
    "    plt.imshow(image, cmap=plt.cm.gray_r, interpolation='nearest')\n",
    "    plt.title(\"Label: %d\" % digits.target[random_indices[i]])\n",
    "plt.show()"
   ]
  },
  {
   "cell_type": "code",
<<<<<<< HEAD
   "execution_count": 16,
   "metadata": {},
   "outputs": [],
=======
   "execution_count": 13,
   "metadata": {},
   "outputs": [
    {
     "name": "stderr",
     "output_type": "stream",
     "text": [
      "Using TensorFlow backend.\n"
     ]
    }
   ],
>>>>>>> 7f790b9c98417fd05925e72758b52f6a10263f13
   "source": [
    "from keras.utils import to_categorical\n",
    "from sklearn.model_selection import train_test_split\n",
    "\n",
    "# one-hot representation of labels\n",
    "labels = to_categorical(labels)\n",
    "\n",
    "# split into train and test data\n",
    "train_size = 0.8\n",
    "test_size = 1 - train_size\n",
    "X_train, X_test, Y_train, Y_test = train_test_split(inputs, labels, train_size=train_size,\n",
    "                                                    test_size=test_size)"
   ]
  },
  {
   "cell_type": "markdown",
   "metadata": {},
   "source": [
    "## Using TensorFlow backend\n",
    "\n",
    "1. Define model and architecture\n",
    "\n",
    "2. Choose cost function and optimizer"
   ]
  },
  {
   "cell_type": "code",
<<<<<<< HEAD
   "execution_count": 17,
=======
   "execution_count": 15,
>>>>>>> 7f790b9c98417fd05925e72758b52f6a10263f13
   "metadata": {},
   "outputs": [],
   "source": [
    "import tensorflow as tf\n",
    "\n",
    "class NeuralNetworkTensorflow:\n",
    "    def __init__(\n",
    "            self,\n",
    "            X_train,\n",
    "            Y_train,\n",
    "            X_test,\n",
    "            Y_test,\n",
    "            n_neurons_layer1=100,\n",
    "            n_neurons_layer2=50,\n",
    "            n_categories=2,\n",
    "            epochs=10,\n",
    "            batch_size=100,\n",
    "            eta=0.1,\n",
    "            lmbd=0.0):\n",
    "        \n",
    "        # keep track of number of steps\n",
    "        self.global_step = tf.Variable(0, dtype=tf.int32, trainable=False, name='global_step')\n",
    "        \n",
    "        self.X_train = X_train\n",
    "        self.Y_train = Y_train\n",
    "        self.X_test = X_test\n",
    "        self.Y_test = Y_test\n",
    "        \n",
    "        self.n_inputs = X_train.shape[0]\n",
    "        self.n_features = X_train.shape[1]\n",
    "        self.n_neurons_layer1 = n_neurons_layer1\n",
    "        self.n_neurons_layer2 = n_neurons_layer2\n",
    "        self.n_categories = n_categories\n",
    "        \n",
    "        self.epochs = epochs\n",
    "        self.batch_size = batch_size\n",
    "        self.iterations = self.n_inputs // self.batch_size\n",
    "        self.eta = eta\n",
    "        self.lmbd = lmbd\n",
    "        \n",
    "        # build network piece by piece\n",
    "        # name scopes (with) are used to enforce creation of new variables\n",
    "        # https://www.tensorflow.org/guide/variables\n",
    "        self.create_placeholders()\n",
    "        self.create_DNN()\n",
    "        self.create_loss()\n",
    "        self.create_optimiser()\n",
    "        self.create_accuracy()\n",
    "    \n",
    "    def create_placeholders(self):\n",
    "        # placeholders are fine here, but \"Datasets\" are the preferred method\n",
    "        # of streaming data into a model\n",
    "        with tf.name_scope('data'):\n",
    "            self.X = tf.placeholder(tf.float32, shape=(None, self.n_features), name='X_data')\n",
    "            self.Y = tf.placeholder(tf.float32, shape=(None, self.n_categories), name='Y_data')\n",
    "    \n",
    "    def create_DNN(self):\n",
    "        with tf.name_scope('DNN'):\n",
    "            # the weights are stored to calculate regularization loss later\n",
    "            \n",
    "            # Fully connected layer 1\n",
    "            self.W_fc1 = self.weight_variable([self.n_features, self.n_neurons_layer1], name='fc1', dtype=tf.float32)\n",
    "            b_fc1 = self.bias_variable([self.n_neurons_layer1], name='fc1', dtype=tf.float32)\n",
    "            a_fc1 = tf.nn.sigmoid(tf.matmul(self.X, self.W_fc1) + b_fc1)\n",
    "            \n",
    "            # Fully connected layer 2\n",
    "            self.W_fc2 = self.weight_variable([self.n_neurons_layer1, self.n_neurons_layer2], name='fc2', dtype=tf.float32)\n",
    "            b_fc2 = self.bias_variable([self.n_neurons_layer2], name='fc2', dtype=tf.float32)\n",
    "            a_fc2 = tf.nn.sigmoid(tf.matmul(a_fc1, self.W_fc2) + b_fc2)\n",
    "            \n",
    "            # Output layer\n",
    "            self.W_out = self.weight_variable([self.n_neurons_layer2, self.n_categories], name='out', dtype=tf.float32)\n",
    "            b_out = self.bias_variable([self.n_categories], name='out', dtype=tf.float32)\n",
    "            self.z_out = tf.matmul(a_fc2, self.W_out) + b_out\n",
    "    \n",
    "    def create_loss(self):\n",
    "        with tf.name_scope('loss'):\n",
    "            softmax_loss = tf.reduce_mean(tf.nn.softmax_cross_entropy_with_logits_v2(labels=self.Y, logits=self.z_out))\n",
    "            \n",
    "            regularizer_loss_fc1 = tf.nn.l2_loss(self.W_fc1)\n",
    "            regularizer_loss_fc2 = tf.nn.l2_loss(self.W_fc2)\n",
    "            regularizer_loss_out = tf.nn.l2_loss(self.W_out)\n",
    "            regularizer_loss = self.lmbd*(regularizer_loss_fc1 + regularizer_loss_fc2 + regularizer_loss_out)\n",
    "            \n",
    "            self.loss = softmax_loss + regularizer_loss\n",
    "\n",
    "    def create_accuracy(self):\n",
    "        with tf.name_scope('accuracy'):\n",
    "            probabilities = tf.nn.softmax(self.z_out)\n",
    "            predictions = tf.argmax(probabilities, axis=1)\n",
    "            labels = tf.argmax(self.Y, axis=1)\n",
    "            \n",
    "            correct_predictions = tf.equal(predictions, labels)\n",
    "            correct_predictions = tf.cast(correct_predictions, tf.float32)\n",
    "            self.accuracy = tf.reduce_mean(correct_predictions)\n",
    "    \n",
    "    def create_optimiser(self):\n",
    "        with tf.name_scope('optimizer'):\n",
    "            self.optimizer = tf.train.GradientDescentOptimizer(learning_rate=self.eta).minimize(self.loss, global_step=self.global_step)\n",
    "            \n",
    "    def weight_variable(self, shape, name='', dtype=tf.float32):\n",
    "        initial = tf.truncated_normal(shape, stddev=0.1)\n",
    "        return tf.Variable(initial, name=name, dtype=dtype)\n",
    "    \n",
    "    def bias_variable(self, shape, name='', dtype=tf.float32):\n",
    "        initial = tf.constant(0.1, shape=shape)\n",
    "        return tf.Variable(initial, name=name, dtype=dtype)\n",
    "    \n",
    "    def fit(self):\n",
    "        data_indices = np.arange(self.n_inputs)\n",
    "\n",
    "        with tf.Session() as sess:\n",
    "            sess.run(tf.global_variables_initializer())\n",
    "            for i in range(self.epochs):\n",
    "                for j in range(self.iterations):\n",
    "                    chosen_datapoints = np.random.choice(data_indices, size=self.batch_size, replace=False)\n",
    "                    batch_X, batch_Y = self.X_train[chosen_datapoints], self.Y_train[chosen_datapoints]\n",
    "            \n",
    "                    sess.run([DNN.loss, DNN.optimizer],\n",
    "                        feed_dict={DNN.X: batch_X,\n",
    "                                   DNN.Y: batch_Y})\n",
    "                    accuracy = sess.run(DNN.accuracy,\n",
    "                        feed_dict={DNN.X: batch_X,\n",
    "                                   DNN.Y: batch_Y})\n",
    "                    step = sess.run(DNN.global_step)\n",
    "    \n",
    "            self.train_loss, self.train_accuracy = sess.run([DNN.loss, DNN.accuracy],\n",
    "                feed_dict={DNN.X: self.X_train,\n",
    "                           DNN.Y: self.Y_train})\n",
    "        \n",
    "            self.test_loss, self.test_accuracy = sess.run([DNN.loss, DNN.accuracy],\n",
    "                feed_dict={DNN.X: self.X_test,\n",
    "                           DNN.Y: self.Y_test})"
   ]
  },
  {
   "cell_type": "markdown",
   "metadata": {},
   "source": [
    "## Optimizing and using gradient descent"
   ]
  },
  {
   "cell_type": "code",
<<<<<<< HEAD
   "execution_count": 18,
=======
   "execution_count": 16,
>>>>>>> 7f790b9c98417fd05925e72758b52f6a10263f13
   "metadata": {},
   "outputs": [],
   "source": [
    "epochs = 100\n",
    "batch_size = 100\n",
    "n_neurons_layer1 = 100\n",
    "n_neurons_layer2 = 50\n",
    "n_categories = 10\n",
    "eta_vals = np.logspace(-5, 1, 7)\n",
    "lmbd_vals = np.logspace(-5, 1, 7)"
   ]
  },
  {
   "cell_type": "code",
<<<<<<< HEAD
   "execution_count": 19,
   "metadata": {},
   "outputs": [],
=======
   "execution_count": 18,
   "metadata": {},
   "outputs": [
    {
     "name": "stderr",
     "output_type": "stream",
     "text": [
      "ERROR:root:Internal Python error in the inspect module.\n",
      "Below is the traceback from this internal error.\n",
      "\n"
     ]
    },
    {
     "name": "stdout",
     "output_type": "stream",
     "text": [
      "Traceback (most recent call last):\n",
      "  File \"/Users/MortenImac/anaconda3/lib/python3.6/site-packages/IPython/core/interactiveshell.py\", line 3331, in run_code\n",
      "    exec(code_obj, self.user_global_ns, self.user_ns)\n",
      "  File \"<ipython-input-18-6d410761359c>\", line 7, in <module>\n",
      "    epochs=epochs, batch_size=batch_size, eta=eta, lmbd=lmbd)\n",
      "  File \"<ipython-input-15-68fa8bf696ee>\", line 41, in __init__\n",
      "    self.create_placeholders()\n",
      "  File \"<ipython-input-15-68fa8bf696ee>\", line 51, in create_placeholders\n",
      "    self.X = tf.placeholder(tf.float32, shape=(None, self.n_features), name='X_data')\n",
      "AttributeError: module 'tensorflow' has no attribute 'placeholder'\n",
      "\n",
      "During handling of the above exception, another exception occurred:\n",
      "\n",
      "Traceback (most recent call last):\n",
      "  File \"/Users/MortenImac/anaconda3/lib/python3.6/site-packages/IPython/core/interactiveshell.py\", line 2044, in showtraceback\n",
      "    stb = value._render_traceback_()\n",
      "AttributeError: 'AttributeError' object has no attribute '_render_traceback_'\n",
      "\n",
      "During handling of the above exception, another exception occurred:\n",
      "\n",
      "Traceback (most recent call last):\n",
      "  File \"/Users/MortenImac/anaconda3/lib/python3.6/site-packages/IPython/core/ultratb.py\", line 1148, in get_records\n",
      "    return _fixed_getinnerframes(etb, number_of_lines_of_context, tb_offset)\n",
      "  File \"/Users/MortenImac/anaconda3/lib/python3.6/site-packages/IPython/core/ultratb.py\", line 316, in wrapped\n",
      "    return f(*args, **kwargs)\n",
      "  File \"/Users/MortenImac/anaconda3/lib/python3.6/site-packages/IPython/core/ultratb.py\", line 350, in _fixed_getinnerframes\n",
      "    records = fix_frame_records_filenames(inspect.getinnerframes(etb, context))\n",
      "  File \"/Users/MortenImac/anaconda3/lib/python3.6/inspect.py\", line 1490, in getinnerframes\n",
      "    frameinfo = (tb.tb_frame,) + getframeinfo(tb, context)\n",
      "  File \"/Users/MortenImac/anaconda3/lib/python3.6/inspect.py\", line 1448, in getframeinfo\n",
      "    filename = getsourcefile(frame) or getfile(frame)\n",
      "  File \"/Users/MortenImac/anaconda3/lib/python3.6/inspect.py\", line 696, in getsourcefile\n",
      "    if getattr(getmodule(object, filename), '__loader__', None) is not None:\n",
      "  File \"/Users/MortenImac/anaconda3/lib/python3.6/inspect.py\", line 733, in getmodule\n",
      "    if ismodule(module) and hasattr(module, '__file__'):\n",
      "  File \"/Users/MortenImac/anaconda3/lib/python3.6/site-packages/tensorflow/__init__.py\", line 50, in __getattr__\n",
      "    module = self._load()\n",
      "  File \"/Users/MortenImac/anaconda3/lib/python3.6/site-packages/tensorflow/__init__.py\", line 44, in _load\n",
      "    module = _importlib.import_module(self.__name__)\n",
      "  File \"/Users/MortenImac/anaconda3/lib/python3.6/importlib/__init__.py\", line 126, in import_module\n",
      "    return _bootstrap._gcd_import(name[level:], package, level)\n",
      "  File \"<frozen importlib._bootstrap>\", line 994, in _gcd_import\n",
      "  File \"<frozen importlib._bootstrap>\", line 971, in _find_and_load\n",
      "  File \"<frozen importlib._bootstrap>\", line 953, in _find_and_load_unlocked\n",
      "ModuleNotFoundError: No module named 'tensorflow_core.keras'\n"
     ]
    },
    {
     "ename": "AttributeError",
     "evalue": "module 'tensorflow' has no attribute 'placeholder'",
     "output_type": "error",
     "traceback": [
      "\u001b[0;31m---------------------------------------------------------------------------\u001b[0m"
     ]
    }
   ],
>>>>>>> 7f790b9c98417fd05925e72758b52f6a10263f13
   "source": [
    "DNN_tf = np.zeros((len(eta_vals), len(lmbd_vals)), dtype=object)\n",
    "        \n",
    "for i, eta in enumerate(eta_vals):\n",
    "    for j, lmbd in enumerate(lmbd_vals):\n",
    "        DNN = NeuralNetworkTensorflow(X_train, Y_train, X_test, Y_test,\n",
    "                                      n_neurons_layer1, n_neurons_layer2, n_categories,\n",
    "                                      epochs=epochs, batch_size=batch_size, eta=eta, lmbd=lmbd)\n",
    "        DNN.fit()\n",
    "        \n",
    "        DNN_tf[i][j] = DNN\n",
    "        \n",
    "        print(\"Learning rate = \", eta)\n",
    "        print(\"Lambda = \", lmbd)\n",
    "        print(\"Test accuracy: %.3f\" % DNN.test_accuracy)\n",
    "        print()"
   ]
  },
  {
   "cell_type": "code",
<<<<<<< HEAD
   "execution_count": 20,
   "metadata": {},
   "outputs": [],
=======
   "execution_count": 19,
   "metadata": {},
   "outputs": [
    {
     "name": "stderr",
     "output_type": "stream",
     "text": [
      "ERROR:root:Internal Python error in the inspect module.\n",
      "Below is the traceback from this internal error.\n",
      "\n"
     ]
    },
    {
     "name": "stdout",
     "output_type": "stream",
     "text": [
      "Traceback (most recent call last):\n",
      "  File \"/Users/MortenImac/anaconda3/lib/python3.6/site-packages/IPython/core/interactiveshell.py\", line 3331, in run_code\n",
      "    exec(code_obj, self.user_global_ns, self.user_ns)\n",
      "  File \"<ipython-input-19-ce4a3a2c12ca>\", line 15, in <module>\n",
      "    train_accuracy[i][j] = DNN.train_accuracy\n",
      "AttributeError: 'int' object has no attribute 'train_accuracy'\n",
      "\n",
      "During handling of the above exception, another exception occurred:\n",
      "\n",
      "Traceback (most recent call last):\n",
      "  File \"/Users/MortenImac/anaconda3/lib/python3.6/site-packages/IPython/core/interactiveshell.py\", line 2044, in showtraceback\n",
      "    stb = value._render_traceback_()\n",
      "AttributeError: 'AttributeError' object has no attribute '_render_traceback_'\n",
      "\n",
      "During handling of the above exception, another exception occurred:\n",
      "\n",
      "Traceback (most recent call last):\n",
      "  File \"/Users/MortenImac/anaconda3/lib/python3.6/site-packages/IPython/core/ultratb.py\", line 1148, in get_records\n",
      "    return _fixed_getinnerframes(etb, number_of_lines_of_context, tb_offset)\n",
      "  File \"/Users/MortenImac/anaconda3/lib/python3.6/site-packages/IPython/core/ultratb.py\", line 316, in wrapped\n",
      "    return f(*args, **kwargs)\n",
      "  File \"/Users/MortenImac/anaconda3/lib/python3.6/site-packages/IPython/core/ultratb.py\", line 350, in _fixed_getinnerframes\n",
      "    records = fix_frame_records_filenames(inspect.getinnerframes(etb, context))\n",
      "  File \"/Users/MortenImac/anaconda3/lib/python3.6/inspect.py\", line 1490, in getinnerframes\n",
      "    frameinfo = (tb.tb_frame,) + getframeinfo(tb, context)\n",
      "  File \"/Users/MortenImac/anaconda3/lib/python3.6/inspect.py\", line 1448, in getframeinfo\n",
      "    filename = getsourcefile(frame) or getfile(frame)\n",
      "  File \"/Users/MortenImac/anaconda3/lib/python3.6/inspect.py\", line 696, in getsourcefile\n",
      "    if getattr(getmodule(object, filename), '__loader__', None) is not None:\n",
      "  File \"/Users/MortenImac/anaconda3/lib/python3.6/inspect.py\", line 733, in getmodule\n",
      "    if ismodule(module) and hasattr(module, '__file__'):\n",
      "  File \"/Users/MortenImac/anaconda3/lib/python3.6/site-packages/tensorflow/__init__.py\", line 50, in __getattr__\n",
      "    module = self._load()\n",
      "  File \"/Users/MortenImac/anaconda3/lib/python3.6/site-packages/tensorflow/__init__.py\", line 44, in _load\n",
      "    module = _importlib.import_module(self.__name__)\n",
      "  File \"/Users/MortenImac/anaconda3/lib/python3.6/importlib/__init__.py\", line 126, in import_module\n",
      "    return _bootstrap._gcd_import(name[level:], package, level)\n",
      "  File \"<frozen importlib._bootstrap>\", line 994, in _gcd_import\n",
      "  File \"<frozen importlib._bootstrap>\", line 971, in _find_and_load\n",
      "  File \"<frozen importlib._bootstrap>\", line 953, in _find_and_load_unlocked\n",
      "ModuleNotFoundError: No module named 'tensorflow_core.keras'\n"
     ]
    },
    {
     "ename": "AttributeError",
     "evalue": "'int' object has no attribute 'train_accuracy'",
     "output_type": "error",
     "traceback": [
      "\u001b[0;31m---------------------------------------------------------------------------\u001b[0m"
     ]
    }
   ],
>>>>>>> 7f790b9c98417fd05925e72758b52f6a10263f13
   "source": [
    "# optional\n",
    "# visual representation of grid search\n",
    "# uses seaborn heatmap, could probably do this in matplotlib\n",
    "import seaborn as sns\n",
    "\n",
    "sns.set()\n",
    "\n",
    "train_accuracy = np.zeros((len(eta_vals), len(lmbd_vals)))\n",
    "test_accuracy = np.zeros((len(eta_vals), len(lmbd_vals)))\n",
    "\n",
    "for i in range(len(eta_vals)):\n",
    "    for j in range(len(lmbd_vals)):\n",
    "        DNN = DNN_tf[i][j]\n",
    "\n",
    "        train_accuracy[i][j] = DNN.train_accuracy\n",
    "        test_accuracy[i][j] = DNN.test_accuracy\n",
    "\n",
    "        \n",
    "fig, ax = plt.subplots(figsize = (10, 10))\n",
    "sns.heatmap(train_accuracy, annot=True, ax=ax, cmap=\"viridis\")\n",
    "ax.set_title(\"Training Accuracy\")\n",
    "ax.set_ylabel(\"$\\eta$\")\n",
    "ax.set_xlabel(\"$\\lambda$\")\n",
    "plt.show()\n",
    "\n",
    "fig, ax = plt.subplots(figsize = (10, 10))\n",
    "sns.heatmap(test_accuracy, annot=True, ax=ax, cmap=\"viridis\")\n",
    "ax.set_title(\"Test Accuracy\")\n",
    "ax.set_ylabel(\"$\\eta$\")\n",
    "ax.set_xlabel(\"$\\lambda$\")\n",
    "plt.show()"
   ]
  },
  {
   "cell_type": "code",
   "execution_count": 21,
   "metadata": {},
   "outputs": [],
   "source": [
    "# optional\n",
    "# we can use log files to visualize our graph in Tensorboard\n",
    "writer = tf.summary.FileWriter('logs/')\n",
    "writer.add_graph(tf.get_default_graph())"
   ]
  },
  {
   "cell_type": "markdown",
   "metadata": {},
   "source": [
    "## Using Keras\n",
    "\n",
    "Keras is a high level [neural network](https://en.wikipedia.org/wiki/Application_programming_interface)\n",
    "that supports Tensorflow, CTNK and Theano as backends.  \n",
    "If you have Tensorflow installed Keras is available through the *tf.keras* module.  \n",
    "If you have Anaconda installed you may run the following command"
   ]
  },
  {
   "cell_type": "code",
   "execution_count": 22,
   "metadata": {},
   "outputs": [],
   "source": [
    "conda install keras"
   ]
  },
  {
   "cell_type": "markdown",
   "metadata": {},
   "source": [
    "Alternatively, if you have Tensorflow or one of the other supported backends install you may use the pip package manager:"
   ]
  },
  {
   "cell_type": "code",
   "execution_count": 23,
   "metadata": {},
   "outputs": [],
   "source": [
    "pip3 install keras"
   ]
  },
  {
   "cell_type": "markdown",
   "metadata": {},
   "source": [
    "or look up the [instructions here](https://keras.io/)."
   ]
  },
  {
   "cell_type": "code",
<<<<<<< HEAD
   "execution_count": 24,
=======
   "execution_count": 20,
>>>>>>> 7f790b9c98417fd05925e72758b52f6a10263f13
   "metadata": {},
   "outputs": [],
   "source": [
    "from keras.models import Sequential\n",
    "from keras.layers import Dense\n",
    "from keras.regularizers import l2\n",
    "from keras.optimizers import SGD\n",
    "\n",
    "def create_neural_network_keras(n_neurons_layer1, n_neurons_layer2, n_categories, eta, lmbd):\n",
    "    model = Sequential()\n",
    "    model.add(Dense(n_neurons_layer1, activation='sigmoid', kernel_regularizer=l2(lmbd)))\n",
    "    model.add(Dense(n_neurons_layer2, activation='sigmoid', kernel_regularizer=l2(lmbd)))\n",
    "    model.add(Dense(n_categories, activation='softmax'))\n",
    "    \n",
    "    sgd = SGD(lr=eta)\n",
    "    model.compile(loss='categorical_crossentropy', optimizer=sgd, metrics=['accuracy'])\n",
    "    \n",
    "    return model"
   ]
  },
  {
   "cell_type": "code",
<<<<<<< HEAD
   "execution_count": 25,
   "metadata": {},
   "outputs": [],
=======
   "execution_count": 21,
   "metadata": {},
   "outputs": [
    {
     "name": "stderr",
     "output_type": "stream",
     "text": [
      "ERROR:root:Internal Python error in the inspect module.\n",
      "Below is the traceback from this internal error.\n",
      "\n"
     ]
    },
    {
     "name": "stdout",
     "output_type": "stream",
     "text": [
      "Traceback (most recent call last):\n",
      "  File \"/Users/MortenImac/anaconda3/lib/python3.6/site-packages/IPython/core/interactiveshell.py\", line 3331, in run_code\n",
      "    exec(code_obj, self.user_global_ns, self.user_ns)\n",
      "  File \"<ipython-input-21-6166574c87c0>\", line 6, in <module>\n",
      "    eta=eta, lmbd=lmbd)\n",
      "  File \"<ipython-input-20-a5c8eb5e69c7>\", line 7, in create_neural_network_keras\n",
      "    model = Sequential()\n",
      "  File \"/Users/MortenImac/anaconda3/lib/python3.6/site-packages/keras/engine/sequential.py\", line 87, in __init__\n",
      "    super(Sequential, self).__init__(name=name)\n",
      "  File \"/Users/MortenImac/anaconda3/lib/python3.6/site-packages/keras/legacy/interfaces.py\", line 91, in wrapper\n",
      "    return func(*args, **kwargs)\n",
      "  File \"/Users/MortenImac/anaconda3/lib/python3.6/site-packages/keras/engine/network.py\", line 96, in __init__\n",
      "    self._init_subclassed_network(**kwargs)\n",
      "  File \"/Users/MortenImac/anaconda3/lib/python3.6/site-packages/keras/engine/network.py\", line 300, in _init_subclassed_network\n",
      "    self._base_init(name=name)\n",
      "  File \"/Users/MortenImac/anaconda3/lib/python3.6/site-packages/keras/engine/network.py\", line 109, in _base_init\n",
      "    name = prefix + '_' + str(K.get_uid(prefix))\n",
      "  File \"/Users/MortenImac/anaconda3/lib/python3.6/site-packages/keras/backend/tensorflow_backend.py\", line 72, in get_uid\n",
      "    graph = tf.get_default_graph()\n",
      "AttributeError: module 'tensorflow' has no attribute 'get_default_graph'\n",
      "\n",
      "During handling of the above exception, another exception occurred:\n",
      "\n",
      "Traceback (most recent call last):\n",
      "  File \"/Users/MortenImac/anaconda3/lib/python3.6/site-packages/IPython/core/interactiveshell.py\", line 2044, in showtraceback\n",
      "    stb = value._render_traceback_()\n",
      "AttributeError: 'AttributeError' object has no attribute '_render_traceback_'\n",
      "\n",
      "During handling of the above exception, another exception occurred:\n",
      "\n",
      "Traceback (most recent call last):\n",
      "  File \"/Users/MortenImac/anaconda3/lib/python3.6/site-packages/IPython/core/ultratb.py\", line 1148, in get_records\n",
      "    return _fixed_getinnerframes(etb, number_of_lines_of_context, tb_offset)\n",
      "  File \"/Users/MortenImac/anaconda3/lib/python3.6/site-packages/IPython/core/ultratb.py\", line 316, in wrapped\n",
      "    return f(*args, **kwargs)\n",
      "  File \"/Users/MortenImac/anaconda3/lib/python3.6/site-packages/IPython/core/ultratb.py\", line 350, in _fixed_getinnerframes\n",
      "    records = fix_frame_records_filenames(inspect.getinnerframes(etb, context))\n",
      "  File \"/Users/MortenImac/anaconda3/lib/python3.6/inspect.py\", line 1490, in getinnerframes\n",
      "    frameinfo = (tb.tb_frame,) + getframeinfo(tb, context)\n",
      "  File \"/Users/MortenImac/anaconda3/lib/python3.6/inspect.py\", line 1448, in getframeinfo\n",
      "    filename = getsourcefile(frame) or getfile(frame)\n",
      "  File \"/Users/MortenImac/anaconda3/lib/python3.6/inspect.py\", line 696, in getsourcefile\n",
      "    if getattr(getmodule(object, filename), '__loader__', None) is not None:\n",
      "  File \"/Users/MortenImac/anaconda3/lib/python3.6/inspect.py\", line 733, in getmodule\n",
      "    if ismodule(module) and hasattr(module, '__file__'):\n",
      "  File \"/Users/MortenImac/anaconda3/lib/python3.6/site-packages/tensorflow/__init__.py\", line 50, in __getattr__\n",
      "    module = self._load()\n",
      "  File \"/Users/MortenImac/anaconda3/lib/python3.6/site-packages/tensorflow/__init__.py\", line 44, in _load\n",
      "    module = _importlib.import_module(self.__name__)\n",
      "  File \"/Users/MortenImac/anaconda3/lib/python3.6/importlib/__init__.py\", line 126, in import_module\n",
      "    return _bootstrap._gcd_import(name[level:], package, level)\n",
      "  File \"<frozen importlib._bootstrap>\", line 994, in _gcd_import\n",
      "  File \"<frozen importlib._bootstrap>\", line 971, in _find_and_load\n",
      "  File \"<frozen importlib._bootstrap>\", line 953, in _find_and_load_unlocked\n",
      "ModuleNotFoundError: No module named 'tensorflow_core.keras'\n"
     ]
    },
    {
     "ename": "AttributeError",
     "evalue": "module 'tensorflow' has no attribute 'get_default_graph'",
     "output_type": "error",
     "traceback": [
      "\u001b[0;31m---------------------------------------------------------------------------\u001b[0m"
     ]
    }
   ],
>>>>>>> 7f790b9c98417fd05925e72758b52f6a10263f13
   "source": [
    "DNN_keras = np.zeros((len(eta_vals), len(lmbd_vals)), dtype=object)\n",
    "        \n",
    "for i, eta in enumerate(eta_vals):\n",
    "    for j, lmbd in enumerate(lmbd_vals):\n",
    "        DNN = create_neural_network_keras(n_neurons_layer1, n_neurons_layer2, n_categories,\n",
    "                                         eta=eta, lmbd=lmbd)\n",
    "        DNN.fit(X_train, Y_train, epochs=epochs, batch_size=batch_size, verbose=0)\n",
    "        scores = DNN.evaluate(X_test, Y_test)\n",
    "        \n",
    "        DNN_keras[i][j] = DNN\n",
    "        \n",
    "        print(\"Learning rate = \", eta)\n",
    "        print(\"Lambda = \", lmbd)\n",
    "        print(\"Test accuracy: %.3f\" % scores[1])\n",
    "        print()"
   ]
  },
  {
   "cell_type": "code",
   "execution_count": 26,
   "metadata": {},
   "outputs": [],
   "source": [
    "# optional\n",
    "# visual representation of grid search\n",
    "# uses seaborn heatmap, could probably do this in matplotlib\n",
    "import seaborn as sns\n",
    "\n",
    "sns.set()\n",
    "\n",
    "train_accuracy = np.zeros((len(eta_vals), len(lmbd_vals)))\n",
    "test_accuracy = np.zeros((len(eta_vals), len(lmbd_vals)))\n",
    "\n",
    "for i in range(len(eta_vals)):\n",
    "    for j in range(len(lmbd_vals)):\n",
    "        DNN = DNN_keras[i][j]\n",
    "\n",
    "        train_accuracy[i][j] = DNN.evaluate(X_train, Y_train)[1]\n",
    "        test_accuracy[i][j] = DNN.evaluate(X_test, Y_test)[1]\n",
    "\n",
    "        \n",
    "fig, ax = plt.subplots(figsize = (10, 10))\n",
    "sns.heatmap(train_accuracy, annot=True, ax=ax, cmap=\"viridis\")\n",
    "ax.set_title(\"Training Accuracy\")\n",
    "ax.set_ylabel(\"$\\eta$\")\n",
    "ax.set_xlabel(\"$\\lambda$\")\n",
    "plt.show()\n",
    "\n",
    "fig, ax = plt.subplots(figsize = (10, 10))\n",
    "sns.heatmap(test_accuracy, annot=True, ax=ax, cmap=\"viridis\")\n",
    "ax.set_title(\"Test Accuracy\")\n",
    "ax.set_ylabel(\"$\\eta$\")\n",
    "ax.set_xlabel(\"$\\lambda$\")\n",
    "plt.show()"
   ]
  },
  {
   "cell_type": "markdown",
   "metadata": {},
   "source": [
    "<!-- !split  -->\n",
    "## Which activation function should I use?\n",
    "\n",
    "The Back propagation algorithm we derived above works by going from\n",
    "the output layer to the input layer, propagating the error gradient on\n",
    "the way. Once the algorithm has computed the gradient of the cost\n",
    "function with regards to each parameter in the network, it uses these\n",
    "gradients to update each parameter with a Gradient Descent (GD) step.\n",
    "\n",
    "\n",
    "Unfortunately for us, the gradients often get smaller and smaller as the\n",
    "algorithm progresses down to the first hidden layers. As a result, the\n",
    "GD update leaves the lower layer connection weights\n",
    "virtually unchanged, and training never converges to a good\n",
    "solution. This is known in the literature as \n",
    "**the vanishing gradients problem**. \n",
    "\n",
    "In other cases, the opposite can happen, namely the the gradients can grow bigger and\n",
    "bigger. The result is that many of the layers get large updates of the \n",
    "weights the\n",
    "algorithm diverges. This is the **exploding gradients problem**, which is\n",
    "mostly encountered in recurrent neural networks. More generally, deep\n",
    "neural networks suffer from unstable gradients, different layers may\n",
    "learn at widely different speeds\n",
    "\n",
    "<!-- !split  -->\n",
    "## Is the Logistic activation function (Sigmoid)  our choice?\n",
    "\n",
    "Although this unfortunate behavior has been empirically observed for\n",
    "quite a while (it was one of the reasons why deep neural networks were\n",
    "mostly abandoned for a long time), it is only around 2010 that\n",
    "significant progress was made in understanding it.\n",
    "\n",
    "A paper titled [Understanding the Difficulty of Training Deep\n",
    "Feedforward Neural Networks by Xavier Glorot and Yoshua Bengio](http://proceedings.mlr.press/v9/glorot10a.html) found that\n",
    "the problems with the popular logistic\n",
    "sigmoid activation function and the weight initialization technique\n",
    "that was most popular at the time, namely random initialization using\n",
    "a normal distribution with a mean of 0 and a standard deviation of\n",
    "1. \n",
    "\n",
    "They showed that with this activation function and this\n",
    "initialization scheme, the variance of the outputs of each layer is\n",
    "much greater than the variance of its inputs. Going forward in the\n",
    "network, the variance keeps increasing after each layer until the\n",
    "activation function saturates at the top layers. This is actually made\n",
    "worse by the fact that the logistic function has a mean of 0.5, not 0\n",
    "(the hyperbolic tangent function has a mean of 0 and behaves slightly\n",
    "better than the logistic function in deep networks).\n",
    "\n",
    "\n",
    "## The derivative of the Logistic funtion\n",
    "\n",
    "Looking at the logistic activation function, when inputs become large\n",
    "(negative or positive), the function saturates at 0 or 1, with a\n",
    "derivative extremely close to 0. Thus when backpropagation kicks in,\n",
    "it has virtually no gradient to propagate back through the network,\n",
    "and what little gradient exists keeps getting diluted as\n",
    "backpropagation progresses down through the top layers, so there is\n",
    "really nothing left for the lower layers.\n",
    "\n",
    "In their paper, Glorot and Bengio propose a way to significantly\n",
    "alleviate this problem. We need the signal to flow properly in both\n",
    "directions: in the forward direction when making predictions, and in\n",
    "the reverse direction when backpropagating gradients. We don’t want\n",
    "the signal to die out, nor do we want it to explode and saturate. For\n",
    "the signal to flow properly, the authors argue that we need the\n",
    "variance of the outputs of each layer to be equal to the variance of\n",
    "its inputs, and we also need the gradients to have equal variance\n",
    "before and after flowing through a layer in the reverse direction.\n",
    "\n",
    "\n",
    "\n",
    "One of the insights in the 2010 paper by Glorot and Bengio was that\n",
    "the vanishing/exploding gradients problems were in part due to a poor\n",
    "choice of activation function. Until then most people had assumed that\n",
    "if Nature had chosen to use roughly sigmoid activation functions in\n",
    "biological neurons, they must be an excellent choice. But it turns out\n",
    "that other activation functions behave much better in deep neural\n",
    "networks, in particular the ReLU activation function, mostly because\n",
    "it does not saturate for positive values (and also because it is quite\n",
    "fast to compute).\n",
    "\n",
    "\n",
    "## The RELU function family\n",
    "\n",
    "The ReLU activation function suffers from a problem known as the dying\n",
    "ReLUs: during training, some neurons effectively die, meaning they\n",
    "stop outputting anything other than 0.\n",
    "\n",
    "In some cases, you may find that half of your network’s neurons are\n",
    "dead, especially if you used a large learning rate. During training,\n",
    "if a neuron’s weights get updated such that the weighted sum of the\n",
    "neuron’s inputs is negative, it will start outputting 0. When this\n",
    "happen, the neuron is unlikely to come back to life since the gradient\n",
    "of the ReLU function is 0 when its input is negative.\n",
    "\n",
    "To solve this problem, nowadays practitioners use a  variant of the ReLU\n",
    "function, such as the leaky ReLU discussed above or the so-called\n",
    "exponential linear unit (ELU) function"
   ]
  },
  {
   "cell_type": "markdown",
   "metadata": {},
   "source": [
    "$$\n",
    "ELU(z) = \\left\\{\\begin{array}{cc} \\alpha\\left( \\exp{(z)}-1\\right) & z < 0,\\\\  z & z \\ge 0.\\end{array}\\right.\n",
    "$$"
   ]
  },
  {
   "cell_type": "markdown",
   "metadata": {},
   "source": [
    "## Which activation function should we use?\n",
    "\n",
    "In general it seems that the ELU activation function is better than\n",
    "the leaky ReLU function (and its variants), which is better than\n",
    "ReLU. ReLU performs better than $\\tanh$ which in turn performs better\n",
    "than the logistic function. \n",
    "\n",
    "If runtime\n",
    "performance is an issue, then you may opt for the  leaky ReLU function  over the \n",
    "ELU function If you don’t\n",
    "want to tweak yet another hyperparameter, you may just use the default\n",
    "$\\alpha$ of $0.01$ for the leaky ReLU, and $1$ for ELU. If you have\n",
    "spare time and computing power, you can use cross-validation or\n",
    "bootstrap to evaluate other activation functions.\n",
    "\n",
    "\n",
    "<!-- !split  -->\n",
    "## A top-down perspective on Neural networks\n",
    "\n",
    "\n",
    "The first thing we would like to do is divide the data into two or three\n",
    "parts. A training set, a validation or dev (development) set, and a\n",
    "test set. The test set is the data on which we want to make\n",
    "predictions. The dev set is a subset of the training data we use to\n",
    "check how well we are doing out-of-sample, after training the model on\n",
    "the training dataset. We use the validation error as a proxy for the\n",
    "test error in order to make tweaks to our model. It is crucial that we\n",
    "do not use any of the test data to train the algorithm. This is a\n",
    "cardinal sin in ML. Then:\n",
    "\n",
    "\n",
    "* Estimate optimal error rate\n",
    "\n",
    "* Minimize underfitting (bias) on training data set.\n",
    "\n",
    "* Make sure you are not overfitting.\n",
    "\n",
    "If the validation and test sets are drawn from the same distributions,\n",
    "then a good performance on the validation set should lead to similarly\n",
    "good performance on the test set. \n",
    "\n",
    "However, sometimes\n",
    "the training data and test data differ in subtle ways because, for\n",
    "example, they are collected using slightly different methods, or\n",
    "because it is cheaper to collect data in one way versus another. In\n",
    "this case, there can be a mismatch between the training and test\n",
    "data. This can lead to the neural network overfitting these small\n",
    "differences between the test and training sets, and a poor performance\n",
    "on the test set despite having a good performance on the validation\n",
    "set. To rectify this, Andrew Ng suggests making two validation or dev\n",
    "sets, one constructed from the training data and one constructed from\n",
    "the test data. The difference between the performance of the algorithm\n",
    "on these two validation sets quantifies the train-test mismatch. This\n",
    "can serve as another important diagnostic when using DNNs for\n",
    "supervised learning.\n",
    "\n",
    "## Limitations of supervised learning with deep networks\n",
    "\n",
    "Like all statistical methods, supervised learning using neural\n",
    "networks has important limitations. This is especially important when\n",
    "one seeks to apply these methods, especially to physics problems. Like\n",
    "all tools, DNNs are not a universal solution. Often, the same or\n",
    "better performance on a task can be achieved by using a few\n",
    "hand-engineered features (or even a collection of random\n",
    "features). \n",
    "\n",
    "Here we list some of the important limitations of supervised neural network based models. \n",
    "\n",
    "\n",
    "\n",
    "* **Need labeled data**. All supervised learning methods, DNNs for supervised learning require labeled data. Often, labeled data is harder to acquire than unlabeled data (e.g. one must pay for human experts to label images).\n",
    "\n",
    "* **Supervised neural networks are extremely data intensive.** DNNs are data hungry. They perform best when data is plentiful. This is doubly so for supervised methods where the data must also be labeled. The utility of DNNs is extremely limited if data is hard to acquire or the datasets are small (hundreds to a few thousand samples). In this case, the performance of other methods that utilize hand-engineered features can exceed that of DNNs.\n",
    "\n",
    "* **Homogeneous data.** Almost all DNNs deal with homogeneous data of one type. It is very hard to design architectures that mix and match data types (i.e. some continuous variables, some discrete variables, some time series). In applications beyond images, video, and language, this is often what is required. In contrast, ensemble models like random forests or gradient-boosted trees have no difficulty handling mixed data types.\n",
    "\n",
    "* **Many problems are not about prediction.** In natural science we are often interested in learning something about the underlying distribution that generates the data. In this case, it is often difficult to cast these ideas in a supervised learning setting. While the problems are related, it is possible to make good predictions with a *wrong* model. The model might or might not be useful for understanding the underlying science.\n",
    "\n",
    "Some of these remarks are particular to DNNs, others are shared by all supervised learning methods. This motivates the use of unsupervised methods which in part circumvent these problems."
   ]
  }
 ],
 "metadata": {
  "kernelspec": {
   "display_name": "Python 3",
   "language": "python",
   "name": "python3"
  },
  "language_info": {
   "codemirror_mode": {
    "name": "ipython",
    "version": 3
   },
   "file_extension": ".py",
   "mimetype": "text/x-python",
   "name": "python",
   "nbconvert_exporter": "python",
   "pygments_lexer": "ipython3",
<<<<<<< HEAD
   "version": "3.7.7"
=======
   "version": "3.6.8"
>>>>>>> 7f790b9c98417fd05925e72758b52f6a10263f13
  }
 },
 "nbformat": 4,
 "nbformat_minor": 2
}
